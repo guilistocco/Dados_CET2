{
 "metadata": {
  "language_info": {
   "codemirror_mode": {
    "name": "ipython",
    "version": 3
   },
   "file_extension": ".py",
   "mimetype": "text/x-python",
   "name": "python",
   "nbconvert_exporter": "python",
   "pygments_lexer": "ipython3",
   "version": "3.8.5-final"
  },
  "orig_nbformat": 2,
  "kernelspec": {
   "name": "python_defaultSpec_1598987983126",
   "display_name": "Python 3.8.5 64-bit"
  }
 },
 "nbformat": 4,
 "nbformat_minor": 2,
 "cells": [
  {
   "cell_type": "markdown",
   "metadata": {},
   "source": []
  },
  {
   "cell_type": "code",
   "execution_count": 10,
   "metadata": {},
   "outputs": [
    {
     "output_type": "display_data",
     "data": {
      "text/plain": "      Local  Número Agrupado  Especie  Classe                 Data  Vel_media  \\\n0      5098            10605        0       0  2018-01-03 07:03:00      123.5   \n1      5098            10605        0       0  2018-01-03 07:05:00      108.0   \n2      5098            10605        0       0  2018-01-03 07:07:00      136.0   \n3      5098            10605        0       0  2018-01-03 07:13:00       75.0   \n4      5098            10605        0       0  2018-01-03 07:14:00      119.5   \n...     ...              ...      ...     ...                  ...        ...   \n9091   5508            10476        3       1  2018-01-03 08:26:00      111.0   \n9092   5508            10476        3       1  2018-01-03 08:33:00      144.0   \n9093   5508            10476        3       1  2018-01-03 08:47:00      114.0   \n9094   5508            10476        3       1  2018-01-03 08:49:00      114.0   \n9095   5508            10476        3       1  2018-01-03 08:50:00       86.0   \n\n      Vel_mediana    Vel_std  Volume  \n0           123.5   2.121320       2  \n1           108.0  19.798990       2  \n2           136.0        NaN       1  \n3            75.0        NaN       1  \n4           119.5   3.535534       2  \n...           ...        ...     ...  \n9091        111.0        NaN       1  \n9092        144.0        NaN       1  \n9093        114.0        NaN       1  \n9094        114.0        NaN       1  \n9095         86.0        NaN       1  \n\n[9096 rows x 9 columns]",
      "text/html": "<div>\n<style scoped>\n    .dataframe tbody tr th:only-of-type {\n        vertical-align: middle;\n    }\n\n    .dataframe tbody tr th {\n        vertical-align: top;\n    }\n\n    .dataframe thead th {\n        text-align: right;\n    }\n</style>\n<table border=\"1\" class=\"dataframe\">\n  <thead>\n    <tr style=\"text-align: right;\">\n      <th></th>\n      <th>Local</th>\n      <th>Número Agrupado</th>\n      <th>Especie</th>\n      <th>Classe</th>\n      <th>Data</th>\n      <th>Vel_media</th>\n      <th>Vel_mediana</th>\n      <th>Vel_std</th>\n      <th>Volume</th>\n    </tr>\n  </thead>\n  <tbody>\n    <tr>\n      <th>0</th>\n      <td>5098</td>\n      <td>10605</td>\n      <td>0</td>\n      <td>0</td>\n      <td>2018-01-03 07:03:00</td>\n      <td>123.5</td>\n      <td>123.5</td>\n      <td>2.121320</td>\n      <td>2</td>\n    </tr>\n    <tr>\n      <th>1</th>\n      <td>5098</td>\n      <td>10605</td>\n      <td>0</td>\n      <td>0</td>\n      <td>2018-01-03 07:05:00</td>\n      <td>108.0</td>\n      <td>108.0</td>\n      <td>19.798990</td>\n      <td>2</td>\n    </tr>\n    <tr>\n      <th>2</th>\n      <td>5098</td>\n      <td>10605</td>\n      <td>0</td>\n      <td>0</td>\n      <td>2018-01-03 07:07:00</td>\n      <td>136.0</td>\n      <td>136.0</td>\n      <td>NaN</td>\n      <td>1</td>\n    </tr>\n    <tr>\n      <th>3</th>\n      <td>5098</td>\n      <td>10605</td>\n      <td>0</td>\n      <td>0</td>\n      <td>2018-01-03 07:13:00</td>\n      <td>75.0</td>\n      <td>75.0</td>\n      <td>NaN</td>\n      <td>1</td>\n    </tr>\n    <tr>\n      <th>4</th>\n      <td>5098</td>\n      <td>10605</td>\n      <td>0</td>\n      <td>0</td>\n      <td>2018-01-03 07:14:00</td>\n      <td>119.5</td>\n      <td>119.5</td>\n      <td>3.535534</td>\n      <td>2</td>\n    </tr>\n    <tr>\n      <th>...</th>\n      <td>...</td>\n      <td>...</td>\n      <td>...</td>\n      <td>...</td>\n      <td>...</td>\n      <td>...</td>\n      <td>...</td>\n      <td>...</td>\n      <td>...</td>\n    </tr>\n    <tr>\n      <th>9091</th>\n      <td>5508</td>\n      <td>10476</td>\n      <td>3</td>\n      <td>1</td>\n      <td>2018-01-03 08:26:00</td>\n      <td>111.0</td>\n      <td>111.0</td>\n      <td>NaN</td>\n      <td>1</td>\n    </tr>\n    <tr>\n      <th>9092</th>\n      <td>5508</td>\n      <td>10476</td>\n      <td>3</td>\n      <td>1</td>\n      <td>2018-01-03 08:33:00</td>\n      <td>144.0</td>\n      <td>144.0</td>\n      <td>NaN</td>\n      <td>1</td>\n    </tr>\n    <tr>\n      <th>9093</th>\n      <td>5508</td>\n      <td>10476</td>\n      <td>3</td>\n      <td>1</td>\n      <td>2018-01-03 08:47:00</td>\n      <td>114.0</td>\n      <td>114.0</td>\n      <td>NaN</td>\n      <td>1</td>\n    </tr>\n    <tr>\n      <th>9094</th>\n      <td>5508</td>\n      <td>10476</td>\n      <td>3</td>\n      <td>1</td>\n      <td>2018-01-03 08:49:00</td>\n      <td>114.0</td>\n      <td>114.0</td>\n      <td>NaN</td>\n      <td>1</td>\n    </tr>\n    <tr>\n      <th>9095</th>\n      <td>5508</td>\n      <td>10476</td>\n      <td>3</td>\n      <td>1</td>\n      <td>2018-01-03 08:50:00</td>\n      <td>86.0</td>\n      <td>86.0</td>\n      <td>NaN</td>\n      <td>1</td>\n    </tr>\n  </tbody>\n</table>\n<p>9096 rows × 9 columns</p>\n</div>"
     },
     "metadata": {}
    }
   ],
   "source": [
    "import numpy as np\n",
    "import pandas as pd\n",
    "import seaborn as sns\n",
    "import matplotlib.pyplot as plt\n",
    "\n",
    "## Funciona para qualquer agrupamento seja 1Min, 2Min, 4Min, 5Min, 10Min....\n",
    "\n",
    "#---------------------------- variaveis para mudar -------------------------------------------#\n",
    "\n",
    "path3 = r'csv_radares-20200426T211130Z-001_selec_group_n\\\\' ## mudar aqui o caminho e nome do arquivo\n",
    "variavel = 'Vel_media' #podem ser \"Vel_media\", \"Vel_mediana\", \"Volume\"\n",
    "\n",
    "#-----------------------------------------------------------------------#\n",
    "\n",
    "a = pd.read_csv(path3 +'\\\\01\\\\' + \"01_group_\" + \"1Min\" + \".csv\")\n",
    "display(a)"
   ]
  },
  {
   "cell_type": "code",
   "execution_count": 11,
   "metadata": {},
   "outputs": [
    {
     "output_type": "display_data",
     "data": {
      "text/plain": "     Local  Número Agrupado  Especie  Classe                 Data   Vel_media  \\\n0     5098            10605        0       0  2018-01-03 07:03:00  123.500000   \n1     5098            10605        0       0  2018-01-03 07:05:00  108.000000   \n2     5098            10605        0       0  2018-01-03 07:07:00  136.000000   \n3     5098            10605        0       0  2018-01-03 07:13:00   75.000000   \n4     5098            10605        0       0  2018-01-03 07:14:00  119.500000   \n..     ...              ...      ...     ...                  ...         ...   \n164   5098            10605        1       0  2018-01-03 08:54:00   92.866667   \n165   5098            10605        1       0  2018-01-03 08:56:00   81.936508   \n166   5098            10605        1       0  2018-01-03 08:57:00   47.000000   \n167   5098            10605        1       0  2018-01-03 08:58:00   82.192308   \n168   5098            10605        1       0  2018-01-03 08:59:00  103.461538   \n\n     Vel_mediana    Vel_std  Volume  Variac_perc  \n0          123.5   2.121320       2          NaN  \n1          108.0  19.798990       2    -0.125506  \n2          136.0        NaN       1     0.259259  \n3           75.0        NaN       1    -0.448529  \n4          119.5   3.535534       2     0.593333  \n..           ...        ...     ...          ...  \n164         92.0  14.689402      60     0.447810  \n165         83.0  13.763993      63    -0.117697  \n166         47.0  35.355339       2    -0.426385  \n167         83.0  25.152116      52     0.748773  \n168        106.0   7.995993      13     0.258774  \n\n[169 rows x 10 columns]",
      "text/html": "<div>\n<style scoped>\n    .dataframe tbody tr th:only-of-type {\n        vertical-align: middle;\n    }\n\n    .dataframe tbody tr th {\n        vertical-align: top;\n    }\n\n    .dataframe thead th {\n        text-align: right;\n    }\n</style>\n<table border=\"1\" class=\"dataframe\">\n  <thead>\n    <tr style=\"text-align: right;\">\n      <th></th>\n      <th>Local</th>\n      <th>Número Agrupado</th>\n      <th>Especie</th>\n      <th>Classe</th>\n      <th>Data</th>\n      <th>Vel_media</th>\n      <th>Vel_mediana</th>\n      <th>Vel_std</th>\n      <th>Volume</th>\n      <th>Variac_perc</th>\n    </tr>\n  </thead>\n  <tbody>\n    <tr>\n      <th>0</th>\n      <td>5098</td>\n      <td>10605</td>\n      <td>0</td>\n      <td>0</td>\n      <td>2018-01-03 07:03:00</td>\n      <td>123.500000</td>\n      <td>123.5</td>\n      <td>2.121320</td>\n      <td>2</td>\n      <td>NaN</td>\n    </tr>\n    <tr>\n      <th>1</th>\n      <td>5098</td>\n      <td>10605</td>\n      <td>0</td>\n      <td>0</td>\n      <td>2018-01-03 07:05:00</td>\n      <td>108.000000</td>\n      <td>108.0</td>\n      <td>19.798990</td>\n      <td>2</td>\n      <td>-0.125506</td>\n    </tr>\n    <tr>\n      <th>2</th>\n      <td>5098</td>\n      <td>10605</td>\n      <td>0</td>\n      <td>0</td>\n      <td>2018-01-03 07:07:00</td>\n      <td>136.000000</td>\n      <td>136.0</td>\n      <td>NaN</td>\n      <td>1</td>\n      <td>0.259259</td>\n    </tr>\n    <tr>\n      <th>3</th>\n      <td>5098</td>\n      <td>10605</td>\n      <td>0</td>\n      <td>0</td>\n      <td>2018-01-03 07:13:00</td>\n      <td>75.000000</td>\n      <td>75.0</td>\n      <td>NaN</td>\n      <td>1</td>\n      <td>-0.448529</td>\n    </tr>\n    <tr>\n      <th>4</th>\n      <td>5098</td>\n      <td>10605</td>\n      <td>0</td>\n      <td>0</td>\n      <td>2018-01-03 07:14:00</td>\n      <td>119.500000</td>\n      <td>119.5</td>\n      <td>3.535534</td>\n      <td>2</td>\n      <td>0.593333</td>\n    </tr>\n    <tr>\n      <th>...</th>\n      <td>...</td>\n      <td>...</td>\n      <td>...</td>\n      <td>...</td>\n      <td>...</td>\n      <td>...</td>\n      <td>...</td>\n      <td>...</td>\n      <td>...</td>\n      <td>...</td>\n    </tr>\n    <tr>\n      <th>164</th>\n      <td>5098</td>\n      <td>10605</td>\n      <td>1</td>\n      <td>0</td>\n      <td>2018-01-03 08:54:00</td>\n      <td>92.866667</td>\n      <td>92.0</td>\n      <td>14.689402</td>\n      <td>60</td>\n      <td>0.447810</td>\n    </tr>\n    <tr>\n      <th>165</th>\n      <td>5098</td>\n      <td>10605</td>\n      <td>1</td>\n      <td>0</td>\n      <td>2018-01-03 08:56:00</td>\n      <td>81.936508</td>\n      <td>83.0</td>\n      <td>13.763993</td>\n      <td>63</td>\n      <td>-0.117697</td>\n    </tr>\n    <tr>\n      <th>166</th>\n      <td>5098</td>\n      <td>10605</td>\n      <td>1</td>\n      <td>0</td>\n      <td>2018-01-03 08:57:00</td>\n      <td>47.000000</td>\n      <td>47.0</td>\n      <td>35.355339</td>\n      <td>2</td>\n      <td>-0.426385</td>\n    </tr>\n    <tr>\n      <th>167</th>\n      <td>5098</td>\n      <td>10605</td>\n      <td>1</td>\n      <td>0</td>\n      <td>2018-01-03 08:58:00</td>\n      <td>82.192308</td>\n      <td>83.0</td>\n      <td>25.152116</td>\n      <td>52</td>\n      <td>0.748773</td>\n    </tr>\n    <tr>\n      <th>168</th>\n      <td>5098</td>\n      <td>10605</td>\n      <td>1</td>\n      <td>0</td>\n      <td>2018-01-03 08:59:00</td>\n      <td>103.461538</td>\n      <td>106.0</td>\n      <td>7.995993</td>\n      <td>13</td>\n      <td>0.258774</td>\n    </tr>\n  </tbody>\n</table>\n<p>169 rows × 10 columns</p>\n</div>"
     },
     "metadata": {}
    }
   ],
   "source": [
    "# Demonstrando pra um radar\n",
    "\n",
    "a_radar = a.loc[a['Local']==5098]\n",
    "a_radar = a_radar.loc[a_radar['Classe']==0] # escolhendo somente os carros\n",
    "\n",
    "a_radar['Variac_perc'] = a_radar[variavel].pct_change()\n",
    "\n",
    "display(a_radar)\n"
   ]
  },
  {
   "cell_type": "code",
   "execution_count": 12,
   "metadata": {},
   "outputs": [
    {
     "output_type": "display_data",
     "data": {
      "text/plain": "      Local  Número Agrupado  Especie  Classe                 Data  \\\n0      5323            10488        0       0  2018-01-03 07:00:00   \n1      5323            10488        0       0  2018-01-03 07:01:00   \n2      5323            10488        0       0  2018-01-03 07:02:00   \n3      5323            10488        0       0  2018-01-03 07:04:00   \n4      5323            10488        0       0  2018-01-03 07:05:00   \n...     ...              ...      ...     ...                  ...   \n6833   5307            10509        1       0  2018-01-03 08:55:00   \n6834   5307            10509        1       0  2018-01-03 08:56:00   \n6835   5307            10509        1       0  2018-01-03 08:57:00   \n6836   5307            10509        1       0  2018-01-03 08:58:00   \n6837   5307            10509        1       0  2018-01-03 08:59:00   \n\n       Vel_media  Vel_mediana    Vel_std  Volume  Variac_perc  \n0      82.000000         82.0  45.254834       2          NaN  \n1     117.000000        117.0        NaN       1     0.426829  \n2      56.666667         56.0   4.041452       3    -0.515670  \n3      94.000000         94.0  35.355339       2     0.658824  \n4     100.333333        106.0  30.892286       3     0.067376  \n...          ...          ...        ...     ...          ...  \n6833   43.000000         43.0   1.414214       2    -0.500000  \n6834   98.000000        103.0  22.135944       4     1.279070  \n6835   70.500000         70.5   2.121320       2    -0.280612  \n6836   41.000000         37.5  21.753161       6    -0.418440  \n6837   26.000000         28.0  22.068076       3    -0.365854  \n\n[6838 rows x 10 columns]",
      "text/html": "<div>\n<style scoped>\n    .dataframe tbody tr th:only-of-type {\n        vertical-align: middle;\n    }\n\n    .dataframe tbody tr th {\n        vertical-align: top;\n    }\n\n    .dataframe thead th {\n        text-align: right;\n    }\n</style>\n<table border=\"1\" class=\"dataframe\">\n  <thead>\n    <tr style=\"text-align: right;\">\n      <th></th>\n      <th>Local</th>\n      <th>Número Agrupado</th>\n      <th>Especie</th>\n      <th>Classe</th>\n      <th>Data</th>\n      <th>Vel_media</th>\n      <th>Vel_mediana</th>\n      <th>Vel_std</th>\n      <th>Volume</th>\n      <th>Variac_perc</th>\n    </tr>\n  </thead>\n  <tbody>\n    <tr>\n      <th>0</th>\n      <td>5323</td>\n      <td>10488</td>\n      <td>0</td>\n      <td>0</td>\n      <td>2018-01-03 07:00:00</td>\n      <td>82.000000</td>\n      <td>82.0</td>\n      <td>45.254834</td>\n      <td>2</td>\n      <td>NaN</td>\n    </tr>\n    <tr>\n      <th>1</th>\n      <td>5323</td>\n      <td>10488</td>\n      <td>0</td>\n      <td>0</td>\n      <td>2018-01-03 07:01:00</td>\n      <td>117.000000</td>\n      <td>117.0</td>\n      <td>NaN</td>\n      <td>1</td>\n      <td>0.426829</td>\n    </tr>\n    <tr>\n      <th>2</th>\n      <td>5323</td>\n      <td>10488</td>\n      <td>0</td>\n      <td>0</td>\n      <td>2018-01-03 07:02:00</td>\n      <td>56.666667</td>\n      <td>56.0</td>\n      <td>4.041452</td>\n      <td>3</td>\n      <td>-0.515670</td>\n    </tr>\n    <tr>\n      <th>3</th>\n      <td>5323</td>\n      <td>10488</td>\n      <td>0</td>\n      <td>0</td>\n      <td>2018-01-03 07:04:00</td>\n      <td>94.000000</td>\n      <td>94.0</td>\n      <td>35.355339</td>\n      <td>2</td>\n      <td>0.658824</td>\n    </tr>\n    <tr>\n      <th>4</th>\n      <td>5323</td>\n      <td>10488</td>\n      <td>0</td>\n      <td>0</td>\n      <td>2018-01-03 07:05:00</td>\n      <td>100.333333</td>\n      <td>106.0</td>\n      <td>30.892286</td>\n      <td>3</td>\n      <td>0.067376</td>\n    </tr>\n    <tr>\n      <th>...</th>\n      <td>...</td>\n      <td>...</td>\n      <td>...</td>\n      <td>...</td>\n      <td>...</td>\n      <td>...</td>\n      <td>...</td>\n      <td>...</td>\n      <td>...</td>\n      <td>...</td>\n    </tr>\n    <tr>\n      <th>6833</th>\n      <td>5307</td>\n      <td>10509</td>\n      <td>1</td>\n      <td>0</td>\n      <td>2018-01-03 08:55:00</td>\n      <td>43.000000</td>\n      <td>43.0</td>\n      <td>1.414214</td>\n      <td>2</td>\n      <td>-0.500000</td>\n    </tr>\n    <tr>\n      <th>6834</th>\n      <td>5307</td>\n      <td>10509</td>\n      <td>1</td>\n      <td>0</td>\n      <td>2018-01-03 08:56:00</td>\n      <td>98.000000</td>\n      <td>103.0</td>\n      <td>22.135944</td>\n      <td>4</td>\n      <td>1.279070</td>\n    </tr>\n    <tr>\n      <th>6835</th>\n      <td>5307</td>\n      <td>10509</td>\n      <td>1</td>\n      <td>0</td>\n      <td>2018-01-03 08:57:00</td>\n      <td>70.500000</td>\n      <td>70.5</td>\n      <td>2.121320</td>\n      <td>2</td>\n      <td>-0.280612</td>\n    </tr>\n    <tr>\n      <th>6836</th>\n      <td>5307</td>\n      <td>10509</td>\n      <td>1</td>\n      <td>0</td>\n      <td>2018-01-03 08:58:00</td>\n      <td>41.000000</td>\n      <td>37.5</td>\n      <td>21.753161</td>\n      <td>6</td>\n      <td>-0.418440</td>\n    </tr>\n    <tr>\n      <th>6837</th>\n      <td>5307</td>\n      <td>10509</td>\n      <td>1</td>\n      <td>0</td>\n      <td>2018-01-03 08:59:00</td>\n      <td>26.000000</td>\n      <td>28.0</td>\n      <td>22.068076</td>\n      <td>3</td>\n      <td>-0.365854</td>\n    </tr>\n  </tbody>\n</table>\n<p>6838 rows × 10 columns</p>\n</div>"
     },
     "metadata": {}
    }
   ],
   "source": [
    "Radares = [5323,5226,5358,5357,5355,5356,5151,5205,5204,5313,5316,5315,5314,5476,5475,5474,5479,5478,5477,5480,5196,5195,5194,5197,5203,5202,5432,5354,5414,5413,5433,5098,5496,5129,5471,5470,5199,5198,5201,5200,5508,5507,5308,5307]\n",
    "\n",
    "Radares = list(dict.fromkeys(Radares)) # Para tirar duplicados\n",
    "\n",
    "# aqui fazemos a variação percentual para a variável desejada para cada Radar independentemente\n",
    "# ou seja, cada radar tem a variação percentual em relação a si mesmo\n",
    "\n",
    "a_radares = pd.DataFrame()\n",
    "\n",
    "for n in Radares:\n",
    "    a_subset = a.loc[a['Local']==n]\n",
    "    a_subset = a_subset.loc[a['Classe']==0]\n",
    "    a_subset['Variac_perc'] = a_subset[variavel].pct_change()\n",
    "    a_radares = pd.concat([a_radares, a_subset], ignore_index=True)\n",
    "\n",
    "a_radares.reset_index()\n",
    "display(a_radares)"
   ]
  },
  {
   "cell_type": "code",
   "execution_count": null,
   "metadata": {},
   "outputs": [],
   "source": []
  }
 ]
}