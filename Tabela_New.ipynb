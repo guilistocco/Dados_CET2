{
 "metadata": {
  "language_info": {
   "codemirror_mode": {
    "name": "ipython",
    "version": 3
   },
   "file_extension": ".py",
   "mimetype": "text/x-python",
   "name": "python",
   "nbconvert_exporter": "python",
   "pygments_lexer": "ipython3",
   "version": "3.7.6-final"
  },
  "orig_nbformat": 2,
  "kernelspec": {
   "name": "python3",
   "display_name": "Python 3"
  }
 },
 "nbformat": 4,
 "nbformat_minor": 2,
 "cells": [
  {
   "source": [
    "# 1 - Agrupamento\n",
    "\n",
    "Essa primeira parte agrupa os dados e adiciona o \"Numero Agrupado\"\n",
    "\n",
    "se for usar um arquivo que já foi agrupado, pode ir pra parte 2"
   ],
   "cell_type": "markdown",
   "metadata": {}
  },
  {
   "cell_type": "code",
   "execution_count": 24,
   "metadata": {},
   "outputs": [],
   "source": [
    "import pandas as pd\n",
    "import numpy as np\n",
    "\n",
    "\n",
    "num_agrupado = [\"10588\",\"10613\",\"10613\",\"10619\",\"10622\",\"10632\",\"10632\",\"10634\",\"10634\",\"10652\",\"10652\",\"10667\",\"10667\",\"10516\",\"10528\",\"10528\",\"10554\",\"10605\",\"10637\",\"10637\",\"10637\",\"10644\",\"10644\",\"10644\",\"10644\",\"10488\",\"10488\",\"10509\",\"10509\",\"10556\",\"10556\",\"10557\",\"10557\",\"10594\",\"10594\",\"10595\",\"10595\",\"10679\",\"10679\",\"10680\",\"10680\",\"10748\",\"10748\",\"10761\",\"10761\",\"10426\",\"10426\",\"10426\",\"10433\",\"10433\",\"10433\",\"10433\",\"10482\",\"10482\",\"10482\",\"10482\",\"10484\",\"10484\",\"10484\",\"10492\",\"10492\",\"10500\",\"10507\",\"10521\",\"10527\",\"10527\",\"10531\",\"10531\"]\n",
    "\n",
    "Radares = [5415,5483,5126,5471,5470,5316,5315,5313,5314,5358,5357,5355,5356,5463,5297,5296,5354,5098,5476,5475,5474,5479,5478,5477,5480,5323,5226,5308,5307,5432,5433,5414,5413,5201,5200,5199,5198,5205,5204,5203,5202,5196,5197,5195,5194,5445,5104,5446,5103,5462,5461,5460,5441,5106,5443,5442,5439,5105,5440,5457,5449,5317,5101,5506,5336,5335,5402,5401]\n",
    "\n",
    "\n",
    "# vamos guardar esses radares aqui pois sao o set, os valores unicos\n",
    "# 5323,5226,5358,5357,5355,5356,5151,5205,5204,5313,5316,5315,5314,5476,5475,5474,5479,5478,5477,5480,5196,5195,5194,5197,5203,5202,5432,5354,5414,5413,5433,5098,5496,5129,5471,5470,5199,5198,5201,5200,5508,5507,5308,5307]\n",
    "\n",
    "# [10488,10488,10652,10652,10667,10667,10672,10679,10679,10634,10632,10632,10634,10637,10637,10637,10644,10644,10644,10644,10748,10761,10761,10748,10680,10680,10556,10554,10557,10557,10556,10605,10616,10616,10619,10622,10595,10595,10594,10594,10476,10476,10509,10509]\n",
    "\n",
    "\n",
    "# cria um dicionário\n",
    "mapa = {}\n",
    "for i in range(len(num_agrupado)):\n",
    "    mapa[Radares[i]] = num_agrupado[i]\n",
    "\n",
    "\n",
    "\n",
    "tip_faixa = [\"mista\",\"mista\",\"mista\",\"onibus\",\"mista\",\"mista\",\"mista\",\"mista\",\"onibus\",\"mista\",\"mista\",\"mista\",\"mista\",\"onibus\",\"mista\",\"mista\",\"mista\",\"mista\",\"onibus\",\"onibus\",\"mista\",\"mista\",\"mista\",\"mista\",\"mista\",\"mista\",\"mista\",\"mista\",\"mista\",\"mista\",\"mista\",\"onibus\",\"mista\",\"mista\",\"mista\",\"mista\",\"mista\",\"mista\",\"onibus\",\"mista\",\"mista\",\"onibus\",\"mista\",\"mista\",\"mista\",\"onibus\",\"mista\",\"mista\",\"mista\",\"onibus\",\"mista\",\"mista\",\"mista\",\"onibus\",\"mista\",\"mista\",\"mista\",\"onibus\",\"mista\",\"mista\",\"mista\",\"mista\",\"mista\",\"mista\",\"mista\",\"onibus\",\"mista\",\"mista\",\"onibus\",\"mista\",\"mista\",\"mista\",\"mista\",\"mista\",\"mista\",\"mista\",\"mista\",\"mista\",\"mista\",\"mista\",\"mista\",\"onibus\",\"mista\",\"mista\",\"onibus\",\"mista\",\"mista\",\"mista\",\"mista\",\"mista\",\"onibus\",\"mista\",\"mista\",\"mista\",\"mista\",\"mista\",\"mista\",\"mista\",\"mista\",\"mista\",\"mista\",\"mista\",\"mista\",\"mista\",\"mista\",\"mista\",\"onibus\",\"mista\",\"mista\",\"mista\",\"onibus\",\"onibus\",\"mista\",\"mista\",\"onibus\",\"mista\",\"mista\",\"onibus\",\"mista\",\"mista\",\"onibus\",\"mista\",\"mista\"]\n",
    "\n",
    "num_faixa = [\"104261\",\"104262\",\"104263\",\"104264\",\"104331\",\"104332\",\"104333\",\"104334\",\"104335\",\"104821\",\"104822\",\"104823\",\"104824\",\"104825\",\"104841\",\"104842\",\"104843\",\"104844\",\"104845\",\"104881\",\"104882\",\"104883\",\"104884\",\"104921\",\"104922\",\"104923\",\"105001\",\"105002\",\"105003\",\"105071\",\"105072\",\"105091\",\"105092\",\"105093\",\"105094\",\"105161\",\"105162\",\"105163\",\"105164\",\"105211\",\"105212\",\"105213\",\"105281\",\"105282\",\"105283\",\"105284\",\"105311\",\"105312\",\"105313\",\"105314\",\"105541\",\"105542\",\"105543\",\"105561\",\"105562\",\"105563\",\"105564\",\"105571\",\"105572\",\"105573\",\"105574\",\"105881\",\"105882\",\"105883\",\"105884\",\"105941\",\"105942\",\"105943\",\"105951\",\"105952\",\"105953\",\"106051\",\"106052\",\"106053\",\"106131\",\"106132\",\"106133\",\"106134\",\"106135\",\"106191\",\"106192\",\"106193\",\"106221\",\"106222\",\"106223\",\"106321\",\"106322\",\"106323\",\"106341\",\"106342\",\"106343\",\"106371\",\"106372\",\"106373\",\"106374\",\"106375\",\"106376\",\"106441\",\"106442\",\"106443\",\"106444\",\"106445\",\"106446\",\"106521\",\"106522\",\"106523\",\"106524\",\"106671\",\"106672\",\"106673\",\"106674\",\"106791\",\"106792\",\"106793\",\"106801\",\"106802\",\"106803\",\"107481\",\"107482\",\"107483\",\"107611\",\"107612\",\"107613\"]\n",
    "\n",
    "mapfaixas = {}\n",
    "for i in range(len(tip_faixa)):\n",
    "    mapfaixas[num_faixa[i]] = tip_faixa[i]"
   ]
  },
  {
   "cell_type": "code",
   "execution_count": 25,
   "metadata": {},
   "outputs": [
    {
     "output_type": "execute_result",
     "data": {
      "text/plain": [
       "  Lote                 Data  Local  Faixa  Entrefaixa  Registro  \\\n",
       "0   L3  2018-02-28 23:56:22   5323      3           0   1095514   \n",
       "1   L3  2018-02-28 23:56:32   5323      3           0   1095515   \n",
       "2   L3  2018-02-28 23:56:53   5323      3           0   1095516   \n",
       "3   L3  2018-02-28 23:56:55   5323      3           0   1095517   \n",
       "4   L3  2018-02-28 23:56:58   5323      3           0   1095518   \n",
       "\n",
       "   Tipo de Registro Especie Classe Comprimento Velocidade Ocupacao  \\\n",
       "0                 0       1      0         048        136    00649   \n",
       "1                 0       1      0         039        100    00772   \n",
       "2                 0       1      0         043        119    00694   \n",
       "3                 0       1      0         032        122    00599   \n",
       "4                 0       1      0         041        128    00633   \n",
       "\n",
       "   Indice de Minutos  \n",
       "0              84956  \n",
       "1              84956  \n",
       "2              84956  \n",
       "3              84956  \n",
       "4              84956  "
      ],
      "text/html": "<div>\n<style scoped>\n    .dataframe tbody tr th:only-of-type {\n        vertical-align: middle;\n    }\n\n    .dataframe tbody tr th {\n        vertical-align: top;\n    }\n\n    .dataframe thead th {\n        text-align: right;\n    }\n</style>\n<table border=\"1\" class=\"dataframe\">\n  <thead>\n    <tr style=\"text-align: right;\">\n      <th></th>\n      <th>Lote</th>\n      <th>Data</th>\n      <th>Local</th>\n      <th>Faixa</th>\n      <th>Entrefaixa</th>\n      <th>Registro</th>\n      <th>Tipo de Registro</th>\n      <th>Especie</th>\n      <th>Classe</th>\n      <th>Comprimento</th>\n      <th>Velocidade</th>\n      <th>Ocupacao</th>\n      <th>Indice de Minutos</th>\n    </tr>\n  </thead>\n  <tbody>\n    <tr>\n      <th>0</th>\n      <td>L3</td>\n      <td>2018-02-28 23:56:22</td>\n      <td>5323</td>\n      <td>3</td>\n      <td>0</td>\n      <td>1095514</td>\n      <td>0</td>\n      <td>1</td>\n      <td>0</td>\n      <td>048</td>\n      <td>136</td>\n      <td>00649</td>\n      <td>84956</td>\n    </tr>\n    <tr>\n      <th>1</th>\n      <td>L3</td>\n      <td>2018-02-28 23:56:32</td>\n      <td>5323</td>\n      <td>3</td>\n      <td>0</td>\n      <td>1095515</td>\n      <td>0</td>\n      <td>1</td>\n      <td>0</td>\n      <td>039</td>\n      <td>100</td>\n      <td>00772</td>\n      <td>84956</td>\n    </tr>\n    <tr>\n      <th>2</th>\n      <td>L3</td>\n      <td>2018-02-28 23:56:53</td>\n      <td>5323</td>\n      <td>3</td>\n      <td>0</td>\n      <td>1095516</td>\n      <td>0</td>\n      <td>1</td>\n      <td>0</td>\n      <td>043</td>\n      <td>119</td>\n      <td>00694</td>\n      <td>84956</td>\n    </tr>\n    <tr>\n      <th>3</th>\n      <td>L3</td>\n      <td>2018-02-28 23:56:55</td>\n      <td>5323</td>\n      <td>3</td>\n      <td>0</td>\n      <td>1095517</td>\n      <td>0</td>\n      <td>1</td>\n      <td>0</td>\n      <td>032</td>\n      <td>122</td>\n      <td>00599</td>\n      <td>84956</td>\n    </tr>\n    <tr>\n      <th>4</th>\n      <td>L3</td>\n      <td>2018-02-28 23:56:58</td>\n      <td>5323</td>\n      <td>3</td>\n      <td>0</td>\n      <td>1095518</td>\n      <td>0</td>\n      <td>1</td>\n      <td>0</td>\n      <td>041</td>\n      <td>128</td>\n      <td>00633</td>\n      <td>84956</td>\n    </tr>\n  </tbody>\n</table>\n</div>"
     },
     "metadata": {},
     "execution_count": 25
    }
   ],
   "source": [
    "pd.set_option('display.max_columns', None)\n",
    "\n",
    "PATH = r'D:\\Users\\guilh\\Documents\\GitHub\\Dados_CET\\csv_radares-20200426T211130Z-001_selecionados/'\n",
    "a = pd.read_csv(PATH +\"01_selecionado.csv\", index_col=[\"Unnamed: 0\"]) #essa index_col pode variar dependendo do arquivo\n",
    "a.head()"
   ]
  },
  {
   "source": [
    "## Limpeza e preparação dos dados\n",
    "\n",
    "aqui tiramos os NA, vazios e  reorganizammos as ordens das colunas"
   ],
   "cell_type": "markdown",
   "metadata": {}
  },
  {
   "cell_type": "code",
   "execution_count": 26,
   "metadata": {},
   "outputs": [
    {
     "output_type": "display_data",
     "data": {
      "text/plain": "        Local  Faixa\n267129   5479      3\n267158   5479      3\n267162   5479      3\n267165   5479      3\n267166   5479      3\n...       ...    ...\n276663   5479      3\n276671   5479      3\n276673   5479      3\n276674   5479      3\n276682   5479      3\n\n[1696 rows x 2 columns]",
      "text/html": "<div>\n<style scoped>\n    .dataframe tbody tr th:only-of-type {\n        vertical-align: middle;\n    }\n\n    .dataframe tbody tr th {\n        vertical-align: top;\n    }\n\n    .dataframe thead th {\n        text-align: right;\n    }\n</style>\n<table border=\"1\" class=\"dataframe\">\n  <thead>\n    <tr style=\"text-align: right;\">\n      <th></th>\n      <th>Local</th>\n      <th>Faixa</th>\n    </tr>\n  </thead>\n  <tbody>\n    <tr>\n      <th>267129</th>\n      <td>5479</td>\n      <td>3</td>\n    </tr>\n    <tr>\n      <th>267158</th>\n      <td>5479</td>\n      <td>3</td>\n    </tr>\n    <tr>\n      <th>267162</th>\n      <td>5479</td>\n      <td>3</td>\n    </tr>\n    <tr>\n      <th>267165</th>\n      <td>5479</td>\n      <td>3</td>\n    </tr>\n    <tr>\n      <th>267166</th>\n      <td>5479</td>\n      <td>3</td>\n    </tr>\n    <tr>\n      <th>...</th>\n      <td>...</td>\n      <td>...</td>\n    </tr>\n    <tr>\n      <th>276663</th>\n      <td>5479</td>\n      <td>3</td>\n    </tr>\n    <tr>\n      <th>276671</th>\n      <td>5479</td>\n      <td>3</td>\n    </tr>\n    <tr>\n      <th>276673</th>\n      <td>5479</td>\n      <td>3</td>\n    </tr>\n    <tr>\n      <th>276674</th>\n      <td>5479</td>\n      <td>3</td>\n    </tr>\n    <tr>\n      <th>276682</th>\n      <td>5479</td>\n      <td>3</td>\n    </tr>\n  </tbody>\n</table>\n<p>1696 rows × 2 columns</p>\n</div>"
     },
     "metadata": {}
    },
    {
     "output_type": "display_data",
     "data": {
      "text/plain": "        Local  Faixa\n276684   5478      2\n276685   5478      2\n276686   5478      2\n276687   5478      2\n276688   5478      2\n...       ...    ...\n293318   5478      3\n293319   5478      2\n293320   5478      3\n293321   5478      3\n293322   5478      2\n\n[16639 rows x 2 columns]",
      "text/html": "<div>\n<style scoped>\n    .dataframe tbody tr th:only-of-type {\n        vertical-align: middle;\n    }\n\n    .dataframe tbody tr th {\n        vertical-align: top;\n    }\n\n    .dataframe thead th {\n        text-align: right;\n    }\n</style>\n<table border=\"1\" class=\"dataframe\">\n  <thead>\n    <tr style=\"text-align: right;\">\n      <th></th>\n      <th>Local</th>\n      <th>Faixa</th>\n    </tr>\n  </thead>\n  <tbody>\n    <tr>\n      <th>276684</th>\n      <td>5478</td>\n      <td>2</td>\n    </tr>\n    <tr>\n      <th>276685</th>\n      <td>5478</td>\n      <td>2</td>\n    </tr>\n    <tr>\n      <th>276686</th>\n      <td>5478</td>\n      <td>2</td>\n    </tr>\n    <tr>\n      <th>276687</th>\n      <td>5478</td>\n      <td>2</td>\n    </tr>\n    <tr>\n      <th>276688</th>\n      <td>5478</td>\n      <td>2</td>\n    </tr>\n    <tr>\n      <th>...</th>\n      <td>...</td>\n      <td>...</td>\n    </tr>\n    <tr>\n      <th>293318</th>\n      <td>5478</td>\n      <td>3</td>\n    </tr>\n    <tr>\n      <th>293319</th>\n      <td>5478</td>\n      <td>2</td>\n    </tr>\n    <tr>\n      <th>293320</th>\n      <td>5478</td>\n      <td>3</td>\n    </tr>\n    <tr>\n      <th>293321</th>\n      <td>5478</td>\n      <td>3</td>\n    </tr>\n    <tr>\n      <th>293322</th>\n      <td>5478</td>\n      <td>2</td>\n    </tr>\n  </tbody>\n</table>\n<p>16639 rows × 2 columns</p>\n</div>"
     },
     "metadata": {}
    }
   ],
   "source": [
    "# verificação\n",
    "# antes temos um x registros no (radar, faixa) = (5479,3)\n",
    "# e y registros (radar, faixa) = (5478,_) sendo _ qualquer faixa\n",
    "\n",
    "\n",
    "display(a.loc[(a[\"Local\"]==5479) & (a[\"Faixa\"] == 3), [\"Local\", \"Faixa\"]])\n",
    "display(a.loc[(a[\"Local\"]==5478), [\"Local\", \"Faixa\"]])\n",
    "# mas lembrando que ainda tiramos os nan"
   ]
  },
  {
   "cell_type": "code",
   "execution_count": 27,
   "metadata": {},
   "outputs": [
    {
     "output_type": "execute_result",
     "data": {
      "text/plain": [
       "  Lote                Data  dia_sem  Local Numero Agrupado  Faixa  Entrefaixa  \\\n",
       "0   L3 2018-02-28 23:56:22        2   5323           10488      3           0   \n",
       "1   L3 2018-02-28 23:56:32        2   5323           10488      3           0   \n",
       "2   L3 2018-02-28 23:56:53        2   5323           10488      3           0   \n",
       "3   L3 2018-02-28 23:56:55        2   5323           10488      3           0   \n",
       "4   L3 2018-02-28 23:56:58        2   5323           10488      3           0   \n",
       "\n",
       "   Registro  Tipo de Registro Especie Classe Comprimento  Velocidade  Ocupacao  \n",
       "0   1095514                 0       1      0         048         136       649  \n",
       "1   1095515                 0       1      0         039         100       772  \n",
       "2   1095516                 0       1      0         043         119       694  \n",
       "3   1095517                 0       1      0         032         122       599  \n",
       "4   1095518                 0       1      0         041         128       633  "
      ],
      "text/html": "<div>\n<style scoped>\n    .dataframe tbody tr th:only-of-type {\n        vertical-align: middle;\n    }\n\n    .dataframe tbody tr th {\n        vertical-align: top;\n    }\n\n    .dataframe thead th {\n        text-align: right;\n    }\n</style>\n<table border=\"1\" class=\"dataframe\">\n  <thead>\n    <tr style=\"text-align: right;\">\n      <th></th>\n      <th>Lote</th>\n      <th>Data</th>\n      <th>dia_sem</th>\n      <th>Local</th>\n      <th>Numero Agrupado</th>\n      <th>Faixa</th>\n      <th>Entrefaixa</th>\n      <th>Registro</th>\n      <th>Tipo de Registro</th>\n      <th>Especie</th>\n      <th>Classe</th>\n      <th>Comprimento</th>\n      <th>Velocidade</th>\n      <th>Ocupacao</th>\n    </tr>\n  </thead>\n  <tbody>\n    <tr>\n      <th>0</th>\n      <td>L3</td>\n      <td>2018-02-28 23:56:22</td>\n      <td>2</td>\n      <td>5323</td>\n      <td>10488</td>\n      <td>3</td>\n      <td>0</td>\n      <td>1095514</td>\n      <td>0</td>\n      <td>1</td>\n      <td>0</td>\n      <td>048</td>\n      <td>136</td>\n      <td>649</td>\n    </tr>\n    <tr>\n      <th>1</th>\n      <td>L3</td>\n      <td>2018-02-28 23:56:32</td>\n      <td>2</td>\n      <td>5323</td>\n      <td>10488</td>\n      <td>3</td>\n      <td>0</td>\n      <td>1095515</td>\n      <td>0</td>\n      <td>1</td>\n      <td>0</td>\n      <td>039</td>\n      <td>100</td>\n      <td>772</td>\n    </tr>\n    <tr>\n      <th>2</th>\n      <td>L3</td>\n      <td>2018-02-28 23:56:53</td>\n      <td>2</td>\n      <td>5323</td>\n      <td>10488</td>\n      <td>3</td>\n      <td>0</td>\n      <td>1095516</td>\n      <td>0</td>\n      <td>1</td>\n      <td>0</td>\n      <td>043</td>\n      <td>119</td>\n      <td>694</td>\n    </tr>\n    <tr>\n      <th>3</th>\n      <td>L3</td>\n      <td>2018-02-28 23:56:55</td>\n      <td>2</td>\n      <td>5323</td>\n      <td>10488</td>\n      <td>3</td>\n      <td>0</td>\n      <td>1095517</td>\n      <td>0</td>\n      <td>1</td>\n      <td>0</td>\n      <td>032</td>\n      <td>122</td>\n      <td>599</td>\n    </tr>\n    <tr>\n      <th>4</th>\n      <td>L3</td>\n      <td>2018-02-28 23:56:58</td>\n      <td>2</td>\n      <td>5323</td>\n      <td>10488</td>\n      <td>3</td>\n      <td>0</td>\n      <td>1095518</td>\n      <td>0</td>\n      <td>1</td>\n      <td>0</td>\n      <td>041</td>\n      <td>128</td>\n      <td>633</td>\n    </tr>\n  </tbody>\n</table>\n</div>"
     },
     "metadata": {},
     "execution_count": 27
    }
   ],
   "source": [
    "\n",
    "# Adiciona a coluna de numero agrupado\n",
    "\n",
    "a['Numero Agrupado'] = a['Local'].map(mapa)\n",
    "\n",
    "\n",
    "a.Data=pd.to_datetime(a.Data) #coloca a data no formato certo\n",
    "\n",
    "# Cria a coluna com dia da semana IMPORTANTE segunda = 0\n",
    "a[\"dia_sem\"] = a.Data.dt.dayofweek \n",
    "\n",
    "#dropa vazios\n",
    "a.drop(a.loc[a['Ocupacao'] =='     ','Ocupacao'].index, inplace=True)\n",
    "a.Ocupacao = a.Ocupacao.astype(int)\n",
    "#dropa vazios\n",
    "a.drop(a.loc[a['Velocidade'] =='   ','Velocidade'].index, inplace=True)\n",
    "#dropa não válidos (nan)\n",
    "a.loc[:,'Velocidade'].dropna(inplace=True)\n",
    "#coloca tudo no mesmo formato de dado int\n",
    "a.loc[:,'Velocidade'] = pd.to_numeric(a.loc[:,'Velocidade'])\n",
    "a.reset_index(drop=True,inplace=True)\n",
    "\n",
    "########## UPDATE ###########\n",
    "# transforma todos radares 5479 na faixa 3, (5479,3) em radares 5478 na faixa 3 (5478,3)\n",
    "# pode ficar tranquilo por que eles tem o mesmo numero agrupado\n",
    "a.loc[(a[\"Local\"]==5479) & (a[\"Faixa\"] == 3), \"Local\"] = 5478\n",
    "\n",
    "\n",
    "a.reset_index(drop=True,inplace=True)\n",
    "\n",
    "# Reorganiza a ordem das colunas\n",
    "a = a[['Lote', 'Data', \"dia_sem\", 'Local', 'Numero Agrupado', 'Faixa', 'Entrefaixa',\n",
    "       'Registro', 'Tipo de Registro', 'Especie',\n",
    "      'Classe', 'Comprimento', 'Velocidade', 'Ocupacao']]\n",
    "a.head()"
   ]
  },
  {
   "source": [
    "Abaixo ocorrem as manipulações pros agrupamentos"
   ],
   "cell_type": "markdown",
   "metadata": {}
  },
  {
   "cell_type": "code",
   "execution_count": 28,
   "metadata": {},
   "outputs": [
    {
     "output_type": "display_data",
     "data": {
      "text/plain": "Empty DataFrame\nColumns: [Local, Faixa]\nIndex: []",
      "text/html": "<div>\n<style scoped>\n    .dataframe tbody tr th:only-of-type {\n        vertical-align: middle;\n    }\n\n    .dataframe tbody tr th {\n        vertical-align: top;\n    }\n\n    .dataframe thead th {\n        text-align: right;\n    }\n</style>\n<table border=\"1\" class=\"dataframe\">\n  <thead>\n    <tr style=\"text-align: right;\">\n      <th></th>\n      <th>Local</th>\n      <th>Faixa</th>\n    </tr>\n  </thead>\n  <tbody>\n  </tbody>\n</table>\n</div>"
     },
     "metadata": {}
    }
   ],
   "source": [
    "## verificao \n",
    "# nao devem mais haver (5479,3)\n",
    "# e assim x deve ser adicionado a y\n",
    "\n",
    "display(a.loc[(a[\"Local\"]==5479) & (a[\"Faixa\"] == 3), [\"Local\", \"Faixa\"]])\n"
   ]
  },
  {
   "cell_type": "code",
   "execution_count": 29,
   "metadata": {},
   "outputs": [],
   "source": [
    "# como o agrupamento usa uma coluna pra agrupar, temos que opiar a coluna pra reutilizar\n",
    "\n",
    "a.loc[:,'V1'] = a.loc[:,'Velocidade'].copy()\n",
    "a.loc[:,'V2'] = a.loc[:,'Velocidade'].copy()\n",
    "a.loc[:,'Oc1'] = a.loc[:,'Ocupacao'].copy()\n",
    "a.loc[:,'Oc2'] = a.loc[:,'Ocupacao'].copy()\n",
    "\n",
    "# aqui rolam os agrupamentos por Numero agrupado e Especia\n",
    "a = a.groupby([ 'Numero Agrupado',\"Faixa\",'Especie',pd.Grouper(key='Data', freq='5Min')]).agg({'dia_sem': \"mean\",\n",
    "                                                                        \"Registro\": \"count\",\n",
    "                                                                        'Velocidade': 'mean',\n",
    "                                                                        'V1':'median',\n",
    "                                                                        'V2':'std',\n",
    "                                                                        'Ocupacao':'mean',\n",
    "                                                                        'Oc1':'median',\n",
    "                                                                        'Oc2':'std',\n",
    "                                                                        })\n",
    "a.columns=['dia_sem',\n",
    "            \"Volume\",\n",
    "            'Vel_media',\n",
    "            'Vel_mediana',\n",
    "            'Vel_desvpad',\n",
    "            'Ocu_media',\n",
    "            'Ocu_mediana',\n",
    "            'Ocu_desvpad',\n",
    "            ] # Renomeia\n"
   ]
  },
  {
   "source": [
    "# 2 Formando a nova tabela"
   ],
   "cell_type": "markdown",
   "metadata": {}
  },
  {
   "cell_type": "code",
   "execution_count": 30,
   "metadata": {},
   "outputs": [
    {
     "output_type": "execute_result",
     "data": {
      "text/plain": [
       "      Numero Agrupado  Faixa Especie                Data  dia_sem  Volume  \\\n",
       "0               10488      1       0 2018-01-03 08:20:00        2       1   \n",
       "1               10488      1       0 2018-01-03 08:35:00        2       1   \n",
       "2               10488      1       0 2018-01-03 09:25:00        2       1   \n",
       "3               10488      1       0 2018-01-03 10:10:00        2       1   \n",
       "4               10488      1       0 2018-01-03 10:25:00        2       2   \n",
       "...               ...    ...     ...                 ...      ...     ...   \n",
       "42258           10761      3       3 2018-01-03 23:05:00        2       1   \n",
       "42259           10761      3       3 2018-01-03 23:15:00        2       1   \n",
       "42260           10761      3       3 2018-01-03 23:25:00        2       1   \n",
       "42261           10761      3       3 2018-01-03 23:30:00        2       1   \n",
       "42262           10761      3       3 2018-01-03 23:35:00        2       1   \n",
       "\n",
       "       Vel_media  Vel_mediana  Vel_desvpad  Ocu_media  Ocu_mediana  \\\n",
       "0           83.0         83.0          NaN      643.0        643.0   \n",
       "1           19.0         19.0          NaN     2314.0       2314.0   \n",
       "2           94.0         94.0          NaN      378.0        378.0   \n",
       "3           86.0         86.0          NaN      526.0        526.0   \n",
       "4          286.0        286.0   318.198052      412.5        412.5   \n",
       "...          ...          ...          ...        ...          ...   \n",
       "42258      111.0        111.0          NaN     1201.0       1201.0   \n",
       "42259      100.0        100.0          NaN      884.0        884.0   \n",
       "42260      100.0        100.0          NaN      894.0        894.0   \n",
       "42261      117.0        117.0          NaN     1052.0       1052.0   \n",
       "42262       92.0         92.0          NaN     1352.0       1352.0   \n",
       "\n",
       "       Ocu_desvpad  \n",
       "0              NaN  \n",
       "1              NaN  \n",
       "2              NaN  \n",
       "3              NaN  \n",
       "4       482.953932  \n",
       "...            ...  \n",
       "42258          NaN  \n",
       "42259          NaN  \n",
       "42260          NaN  \n",
       "42261          NaN  \n",
       "42262          NaN  \n",
       "\n",
       "[42263 rows x 12 columns]"
      ],
      "text/html": "<div>\n<style scoped>\n    .dataframe tbody tr th:only-of-type {\n        vertical-align: middle;\n    }\n\n    .dataframe tbody tr th {\n        vertical-align: top;\n    }\n\n    .dataframe thead th {\n        text-align: right;\n    }\n</style>\n<table border=\"1\" class=\"dataframe\">\n  <thead>\n    <tr style=\"text-align: right;\">\n      <th></th>\n      <th>Numero Agrupado</th>\n      <th>Faixa</th>\n      <th>Especie</th>\n      <th>Data</th>\n      <th>dia_sem</th>\n      <th>Volume</th>\n      <th>Vel_media</th>\n      <th>Vel_mediana</th>\n      <th>Vel_desvpad</th>\n      <th>Ocu_media</th>\n      <th>Ocu_mediana</th>\n      <th>Ocu_desvpad</th>\n    </tr>\n  </thead>\n  <tbody>\n    <tr>\n      <th>0</th>\n      <td>10488</td>\n      <td>1</td>\n      <td>0</td>\n      <td>2018-01-03 08:20:00</td>\n      <td>2</td>\n      <td>1</td>\n      <td>83.0</td>\n      <td>83.0</td>\n      <td>NaN</td>\n      <td>643.0</td>\n      <td>643.0</td>\n      <td>NaN</td>\n    </tr>\n    <tr>\n      <th>1</th>\n      <td>10488</td>\n      <td>1</td>\n      <td>0</td>\n      <td>2018-01-03 08:35:00</td>\n      <td>2</td>\n      <td>1</td>\n      <td>19.0</td>\n      <td>19.0</td>\n      <td>NaN</td>\n      <td>2314.0</td>\n      <td>2314.0</td>\n      <td>NaN</td>\n    </tr>\n    <tr>\n      <th>2</th>\n      <td>10488</td>\n      <td>1</td>\n      <td>0</td>\n      <td>2018-01-03 09:25:00</td>\n      <td>2</td>\n      <td>1</td>\n      <td>94.0</td>\n      <td>94.0</td>\n      <td>NaN</td>\n      <td>378.0</td>\n      <td>378.0</td>\n      <td>NaN</td>\n    </tr>\n    <tr>\n      <th>3</th>\n      <td>10488</td>\n      <td>1</td>\n      <td>0</td>\n      <td>2018-01-03 10:10:00</td>\n      <td>2</td>\n      <td>1</td>\n      <td>86.0</td>\n      <td>86.0</td>\n      <td>NaN</td>\n      <td>526.0</td>\n      <td>526.0</td>\n      <td>NaN</td>\n    </tr>\n    <tr>\n      <th>4</th>\n      <td>10488</td>\n      <td>1</td>\n      <td>0</td>\n      <td>2018-01-03 10:25:00</td>\n      <td>2</td>\n      <td>2</td>\n      <td>286.0</td>\n      <td>286.0</td>\n      <td>318.198052</td>\n      <td>412.5</td>\n      <td>412.5</td>\n      <td>482.953932</td>\n    </tr>\n    <tr>\n      <th>...</th>\n      <td>...</td>\n      <td>...</td>\n      <td>...</td>\n      <td>...</td>\n      <td>...</td>\n      <td>...</td>\n      <td>...</td>\n      <td>...</td>\n      <td>...</td>\n      <td>...</td>\n      <td>...</td>\n      <td>...</td>\n    </tr>\n    <tr>\n      <th>42258</th>\n      <td>10761</td>\n      <td>3</td>\n      <td>3</td>\n      <td>2018-01-03 23:05:00</td>\n      <td>2</td>\n      <td>1</td>\n      <td>111.0</td>\n      <td>111.0</td>\n      <td>NaN</td>\n      <td>1201.0</td>\n      <td>1201.0</td>\n      <td>NaN</td>\n    </tr>\n    <tr>\n      <th>42259</th>\n      <td>10761</td>\n      <td>3</td>\n      <td>3</td>\n      <td>2018-01-03 23:15:00</td>\n      <td>2</td>\n      <td>1</td>\n      <td>100.0</td>\n      <td>100.0</td>\n      <td>NaN</td>\n      <td>884.0</td>\n      <td>884.0</td>\n      <td>NaN</td>\n    </tr>\n    <tr>\n      <th>42260</th>\n      <td>10761</td>\n      <td>3</td>\n      <td>3</td>\n      <td>2018-01-03 23:25:00</td>\n      <td>2</td>\n      <td>1</td>\n      <td>100.0</td>\n      <td>100.0</td>\n      <td>NaN</td>\n      <td>894.0</td>\n      <td>894.0</td>\n      <td>NaN</td>\n    </tr>\n    <tr>\n      <th>42261</th>\n      <td>10761</td>\n      <td>3</td>\n      <td>3</td>\n      <td>2018-01-03 23:30:00</td>\n      <td>2</td>\n      <td>1</td>\n      <td>117.0</td>\n      <td>117.0</td>\n      <td>NaN</td>\n      <td>1052.0</td>\n      <td>1052.0</td>\n      <td>NaN</td>\n    </tr>\n    <tr>\n      <th>42262</th>\n      <td>10761</td>\n      <td>3</td>\n      <td>3</td>\n      <td>2018-01-03 23:35:00</td>\n      <td>2</td>\n      <td>1</td>\n      <td>92.0</td>\n      <td>92.0</td>\n      <td>NaN</td>\n      <td>1352.0</td>\n      <td>1352.0</td>\n      <td>NaN</td>\n    </tr>\n  </tbody>\n</table>\n<p>42263 rows × 12 columns</p>\n</div>"
     },
     "metadata": {},
     "execution_count": 30
    }
   ],
   "source": [
    "a.reset_index(inplace=True)\n",
    "c = a\n",
    "c"
   ]
  },
  {
   "cell_type": "code",
   "execution_count": 31,
   "metadata": {},
   "outputs": [
    {
     "output_type": "display_data",
     "data": {
      "text/plain": "                 Data  dia_sem Periodo Numero Agrupado  Faixa NumAg_fx  \\\n0 2018-01-03 08:20:00        2      P3           10488      1   104881   \n1 2018-01-03 08:35:00        2      P3           10488      1   104881   \n2 2018-01-03 09:25:00        2      P3           10488      1   104881   \n3 2018-01-03 10:10:00        2      P4           10488      1   104881   \n4 2018-01-03 10:25:00        2      P4           10488      1   104881   \n\n  Fx_tipo        Eixo Especie  Volume  Vel_media  Vel_mediana  Vel_desvpad  \\\n0  onibus  Reboucas_C       0       1       83.0         83.0          NaN   \n1  onibus  Reboucas_C       0       1       19.0         19.0          NaN   \n2  onibus  Reboucas_C       0       1       94.0         94.0          NaN   \n3  onibus  Reboucas_C       0       1       86.0         86.0          NaN   \n4  onibus  Reboucas_C       0       2      286.0        286.0   318.198052   \n\n   Ocu_media  Ocu_mediana  Ocu_desvpad  \n0      643.0        643.0          NaN  \n1     2314.0       2314.0          NaN  \n2      378.0        378.0          NaN  \n3      526.0        526.0          NaN  \n4      412.5        412.5   482.953932  ",
      "text/html": "<div>\n<style scoped>\n    .dataframe tbody tr th:only-of-type {\n        vertical-align: middle;\n    }\n\n    .dataframe tbody tr th {\n        vertical-align: top;\n    }\n\n    .dataframe thead th {\n        text-align: right;\n    }\n</style>\n<table border=\"1\" class=\"dataframe\">\n  <thead>\n    <tr style=\"text-align: right;\">\n      <th></th>\n      <th>Data</th>\n      <th>dia_sem</th>\n      <th>Periodo</th>\n      <th>Numero Agrupado</th>\n      <th>Faixa</th>\n      <th>NumAg_fx</th>\n      <th>Fx_tipo</th>\n      <th>Eixo</th>\n      <th>Especie</th>\n      <th>Volume</th>\n      <th>Vel_media</th>\n      <th>Vel_mediana</th>\n      <th>Vel_desvpad</th>\n      <th>Ocu_media</th>\n      <th>Ocu_mediana</th>\n      <th>Ocu_desvpad</th>\n    </tr>\n  </thead>\n  <tbody>\n    <tr>\n      <th>0</th>\n      <td>2018-01-03 08:20:00</td>\n      <td>2</td>\n      <td>P3</td>\n      <td>10488</td>\n      <td>1</td>\n      <td>104881</td>\n      <td>onibus</td>\n      <td>Reboucas_C</td>\n      <td>0</td>\n      <td>1</td>\n      <td>83.0</td>\n      <td>83.0</td>\n      <td>NaN</td>\n      <td>643.0</td>\n      <td>643.0</td>\n      <td>NaN</td>\n    </tr>\n    <tr>\n      <th>1</th>\n      <td>2018-01-03 08:35:00</td>\n      <td>2</td>\n      <td>P3</td>\n      <td>10488</td>\n      <td>1</td>\n      <td>104881</td>\n      <td>onibus</td>\n      <td>Reboucas_C</td>\n      <td>0</td>\n      <td>1</td>\n      <td>19.0</td>\n      <td>19.0</td>\n      <td>NaN</td>\n      <td>2314.0</td>\n      <td>2314.0</td>\n      <td>NaN</td>\n    </tr>\n    <tr>\n      <th>2</th>\n      <td>2018-01-03 09:25:00</td>\n      <td>2</td>\n      <td>P3</td>\n      <td>10488</td>\n      <td>1</td>\n      <td>104881</td>\n      <td>onibus</td>\n      <td>Reboucas_C</td>\n      <td>0</td>\n      <td>1</td>\n      <td>94.0</td>\n      <td>94.0</td>\n      <td>NaN</td>\n      <td>378.0</td>\n      <td>378.0</td>\n      <td>NaN</td>\n    </tr>\n    <tr>\n      <th>3</th>\n      <td>2018-01-03 10:10:00</td>\n      <td>2</td>\n      <td>P4</td>\n      <td>10488</td>\n      <td>1</td>\n      <td>104881</td>\n      <td>onibus</td>\n      <td>Reboucas_C</td>\n      <td>0</td>\n      <td>1</td>\n      <td>86.0</td>\n      <td>86.0</td>\n      <td>NaN</td>\n      <td>526.0</td>\n      <td>526.0</td>\n      <td>NaN</td>\n    </tr>\n    <tr>\n      <th>4</th>\n      <td>2018-01-03 10:25:00</td>\n      <td>2</td>\n      <td>P4</td>\n      <td>10488</td>\n      <td>1</td>\n      <td>104881</td>\n      <td>onibus</td>\n      <td>Reboucas_C</td>\n      <td>0</td>\n      <td>2</td>\n      <td>286.0</td>\n      <td>286.0</td>\n      <td>318.198052</td>\n      <td>412.5</td>\n      <td>412.5</td>\n      <td>482.953932</td>\n    </tr>\n  </tbody>\n</table>\n</div>"
     },
     "metadata": {}
    }
   ],
   "source": [
    "c[\"Periodo\"] = \"y\"\n",
    "labels = np.array([\"P1\",\"P2\",\"P3\",\"P4\",\"P5\",\"P6\",\"P7\"])\n",
    "intervalos = pd.IntervalIndex.from_tuples([(0,5),(5,7),(7,10),(10,14),(14,17),(17,20),(20,24)], closed=\"left\")\n",
    "\n",
    "c['aux'] = pd.cut(np.array(c.Data.dt.hour), intervalos)\n",
    "\n",
    "\n",
    "intervalos = pd.IntervalIndex.from_tuples([(0,5),(5,7),(7,10),(10,14),(14,17),(17,20),(20,24)])\n",
    "# inter = [\"(0.0, 5.0]\",\"(5.0, 7.0]\",\"(7.0, 10.0]\",\"(10.0, 14.0]\",\"(14.0, 17.0]\",\"(17.0, 20.0]\",\"(20.0, 24.0]\"]\n",
    "\n",
    "\n",
    "sentidos = [\"Sumare_N\",\"Sumare_S\",\"Sumare_S\",\"Sumare_S\",\"Sumare_N\",\"Sumare_N\",\"Sumare_N\",\"Sumare_S\",\"Sumare_S\",\"Sumare_S\",\"Sumare_S\",\"Sumare_N\",\"Sumare_N\",\"Brasil_N\",\"Brasil_S\",\"Brasil_S\",\"Brasil_S\",\"Brasil_S\",\"Brasil_S\",\"Brasil_S\",\"Brasil_S\",\"Brasil_N\",\"Brasil_N\",\"Brasil_N\",\"Brasil_N\",\"Reboucas_C\",\"Reboucas_C\",\"Reboucas_B\",\"Reboucas_B\",\"Reboucas_B\",\"Reboucas_B\",\"Reboucas_C\",\"Reboucas_C\",\"Reboucas_B\",\"Reboucas_B\",\"Reboucas_C\",\"Reboucas_C\",\"Reboucas_B\",\"Reboucas_B\",\"Reboucas_C\",\"Reboucas_C\",\"Reboucas_B\",\"Reboucas_B\",\"Reboucas_C\",\"Reboucas_C\",\"23deMaio_B\",\"23deMaio_B\",\"23deMaio_B\",\"23deMaio_C\",\"23deMaio_C\",\"23deMaio_C\",\"23deMaio_C\",\"23deMaio_C\",\"23deMaio_C\",\"23deMaio_C\",\"23deMaio_C\",\"23deMaio_B\",\"23deMaio_B\",\"23deMaio_B\",\"23deMaio_B\",\"23deMaio_B\",\"23deMaio_C\",\"23deMaio_B\",\"23deMaio_B\",\"23deMaio_B\",\"23deMaio_B\",\"23deMaio_C\",\"23deMaio_C\"]\n",
    "\n",
    "\n",
    "\n",
    "inter = [\"[0, 5)\",\"[5, 7)\",\"[7, 10)\",\"[10, 14)\",\"[14, 17)\",\"[17, 20)\",\"[20, 24)\"]\n",
    "# \"P1\",\"P2\",\"P3\",\"P4\",\"P5\",\"P6\",\"P7\"\n",
    "\n",
    "mapb = {}\n",
    "for i in range(len(labels)):\n",
    "    mapb[inter[i]] = labels[i]\n",
    "\n",
    "\n",
    "try:\n",
    "    c['aux'] = c['aux'].astype(str)\n",
    "    c['Periodo'] = c['aux'].map(mapb)\n",
    "    c.drop(columns=[\"aux\"],inplace=True, axis = 0)\n",
    "except:\n",
    "    pass\n",
    "\n",
    "c[\"NumAg_fx\"] = c[\"Numero Agrupado\"].astype(str) + c['Faixa'].astype(str)\n",
    "\n",
    "\n",
    "mapc = {}\n",
    "for i in range(len(num_agrupado)):\n",
    "    mapc[num_agrupado[i]] = sentidos[i]\n",
    "\n",
    "c[\"Eixo\"] = c[\"Numero Agrupado\"].map(mapc)\n",
    "\n",
    "c[\"Fx_tipo\"] = c[\"NumAg_fx\"].map(mapfaixas)\n",
    "\n",
    "\n",
    "# display(c[[\"Numero Agrupado\", \"Data\", \"Especie\", \"Periodo\"]])\n",
    "\n",
    "c =c[[\"Data\", \"dia_sem\", \"Periodo\", \"Numero Agrupado\", \"Faixa\", \"NumAg_fx\",\"Fx_tipo\",\"Eixo\",\"Especie\",\"Volume\", \"Vel_media\", \"Vel_mediana\", \"Vel_desvpad\", \"Ocu_media\", \"Ocu_mediana\", \"Ocu_desvpad\"]] \n",
    "display(c.head())"
   ]
  }
 ]
}