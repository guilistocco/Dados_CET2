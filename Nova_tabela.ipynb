{
 "metadata": {
  "language_info": {
   "codemirror_mode": {
    "name": "ipython",
    "version": 3
   },
   "file_extension": ".py",
   "mimetype": "text/x-python",
   "name": "python",
   "nbconvert_exporter": "python",
   "pygments_lexer": "ipython3",
   "version": "3.7.6-final"
  },
  "orig_nbformat": 2,
  "kernelspec": {
   "name": "python3",
   "display_name": "Python 3",
   "language": "python"
  }
 },
 "nbformat": 4,
 "nbformat_minor": 2,
 "cells": [
  {
   "source": [
    "import pandas as pd\n",
    "import numpy as np\n",
    "from datetime import timedelta\n",
    "\n",
    "num_agrupado = [\"10588\",\"10613\",\"10613\",\"10619\",\"10622\",\"10632\",\"10632\",\"10634\",\"10634\",\"10652\",\"10652\",\"10667\",\"10667\",\"10516\",\"10528\",\"10528\",\"10554\",\"10605\",\"10637\",\"10637\",\"10637\",\"10644\",\"10644\",\"10644\",\"10644\",\"10488\",\"10488\",\"10509\",\"10509\",\"10556\",\"10556\",\"10557\",\"10557\",\"10594\",\"10594\",\"10595\",\"10595\",\"10679\",\"10679\",\"10680\",\"10680\",\"10748\",\"10748\",\"10761\",\"10761\",\"10426\",\"10426\",\"10426\",\"10433\",\"10433\",\"10433\",\"10433\",\"10482\",\"10482\",\"10482\",\"10482\",\"10484\",\"10484\",\"10484\",\"10492\",\"10492\",\"10500\",\"10507\",\"10521\",\"10527\",\"10527\",\"10531\",\"10531\"]\n",
    "\n",
    "Radares = [5415,5483,5126,5471,5470,5316,5315,5313,5314,5358,5357,5355,5356,5463,5297,5296,5354,5098,5476,5475,5474,5479,5478,5477,5480,5323,5226,5308,5307,5432,5433,5414,5413,5201,5200,5199,5198,5205,5204,5203,5202,5196,5197,5195,5194,5445,5104,5446,5103,5462,5461,5460,5441,5106,5443,5442,5439,5105,5440,5457,5449,5317,5101,5506,5336,5335,5402,5401]\n",
    "\n",
    "\n",
    "# cria um dicionário\n",
    "def faz_dict (keys, values):\n",
    "    '''\n",
    "        Cria um dicionário com a correspondência entre \n",
    "        chaves e valores. Com a função .map() pode, ser\n",
    "        adicionadas novas colunas no DF.\n",
    "\n",
    "        Inputs:\n",
    "            keys: (list) chaves que estão no presente DF\n",
    "            values: (list) valores que serão inputados na nova coluna\n",
    "\n",
    "        Return:\n",
    "            mapa: (dict) mapa de correspondência\n",
    "    '''\n",
    "\n",
    "    mapa = {}\n",
    "    for i in range(len(keys)):\n",
    "        mapa[keys[i]] = values[i]\n",
    "\n",
    "    return mapa"
   ],
   "cell_type": "code",
   "metadata": {},
   "execution_count": 1,
   "outputs": []
  },
  {
   "cell_type": "code",
   "execution_count": 2,
   "metadata": {},
   "outputs": [],
   "source": [
    "estacoes = [\"BT\",\"BT\",\"BT\",\"BT\",\"BT\",\"BT\",\"BT\",\"BT\",\"BT\",\"BT\",\"BT\",\"BT\",\"BT\",\"CGE\",\"CGE\",\"CGE\",\"CGE\",\"CGE\",\"CGE\",\"CGE\",\"CGE\",\"CGE\",\"VM\",\"CGE\",\"CGE\",\"CGE\",\"CGE\",\"CGE\",\"CGE\",\"CGE\",\"CGE\",\"CGE\",\"CGE\",\"CGE\",\"CGE\",\"CGE\",\"CGE\",\"CGE\",\"CGE\",\"CGE\",\"CGE\",\"CGE\",\"CGE\",\"CGE\",\"CGE\",\"CGE\",\"CGE\",\"CGE\",\"CGE\",\"CGE\",\"CGE\",\"CGE\",\"CGE\",\"CGE\",\"CGE\",\"CGE\",\"CGE\",\"CGE\",\"CGE\",\"CGE\",\"CGE\",\"CGE\",\"CGE\",\"CGE\",\"CGE\",\"CGE\",\"CGE\",\"CGE\",\"CGE\",\"CGE\",\"CGE\",\"CGE\",\"CGE\",\"CGE\",\"CGE\",\"CGE\",\"CGE\",\"CGE\",\"CGE\",\"CGE\",\"CGE\",\"CGE\",\"CGE\",\"CGE\",\"CGE\",\"CGE\",\"CGE\",\"CGE\",\"CGE\",\"CGE\",\"CGE\",\"CGE\",\"CGE\",\"CGE\",\"CGE\",\"CGE\",\"CGE\",\"CGE\",\"CGE\",\"CGE\",\"CGE\",\"CGE\",\"CGE\",\"CGE\",\"IP\",\"IP\",\"IP\",\"IP\",\"IP\",\"IP\",\"IP\",\"IP\",\"IP\",\"IP\",\"IP\",\"IP\",\"IP\",\"IP\",\"IP\",\"IP\",\"IP\",\"IP\",\"IP\",\"IP\",\"IP\",\"IP\",\"JB\",\"JB\",\"JB\",\"JB\",\"JB\",\"JB\",\"JB\",\"JB\",\"JB\",\"JB\",\"LP\",\"LP\",\"LP\",\"LP\",\"LP\",\"LP\",\"LP\",\"LP\",\"LP\",\"PI\",\"PI\",\"PI\",\"PI\",\"PI\",\"PI\",\"PI\",\"PI\",\"PI\",\"PI\",\"PI\",\"PI\",\"PI\",\"PI\",\"PI\",\"PI\",\"PI\",\"PI\",\"PI\",\"PI\",\"PI\",\"PI\",\"PI\",\"PI\",\"PI\",\"PI\",\"PI\",\"PI\",\"PI\",\"PI\",\"PI\",\"PI\",\"PI\",\"PI\",\"PI\",\"PI\",\"PI\",\"PI\",\"PI\",\"PI\",\"PI\",\"PI\",\"PI\",\"PI\",\"PI\",\"PI\",\"PI\",\"PI\",\"PI\",\"PI\",\"PI\",\"PI\",\"PI\",\"PI\",\"PI\",\"PI\",\"PI\",\"PI\",\"PI\",\"PI\",\"PI\",\"PI\",\"PI\",\"PI\",\"PI\",\"PI\",\"PI\",\"PI\",\"PI\",\"PI\",\"PI\",\"PI\",\"PI\",\"PI\",\"PI\",\"PI\",\"PI\",\"PI\",\"PI\",\"PI\",\"PI\",\"PI\",\"PI\",\"PI\",\"PI\",\"PI\",\"PI\",\"PI\",\"PI\",\"PI\",\"PI\",\"PI\",\"PI\",\"PI\",\"PI\",\"PI\",\"PI\",\"PI\",\"PI\",\"PI\",\"PI\",\"PI\",\"PI\",\"PI\",\"PI\",\"PI\",\"PI\",\"PI\",\"PI\",\"PI\",\"SA\",\"SA\",\"SA\",\"SA\",\"SA\",\"SA\",\"SA\",\"SA\",\"SA\",\"SA\",\"SA\",\"SA\",\"SA\",\"SA\",\"SA\",\"SA\",\"SA\",\"SA\",\"SA\",\"SA\",\"SA\",\"SA\",\"SA\",\"ST\",\"ST\",\"ST\",\"ST\",\"ST\",\"ST\",\"ST\",\"ST\",\"ST\",\"ST\",\"ST\",\"ST\",\"ST\",\"ST\",\"ST\",\"ST\",\"ST\",\"ST\",\"VM\",\"VM\",\"VM\",\"VM\",\"VM\",\"VM\",\"VM\",\"VM\",\"VM\",\"VM\",\"VM\",\"VM\",\"VM\",\"VM\",\"VM\",\"VM\",\"VM\",\"VM\",\"VM\",\"VM\",\"VM\",\"VM\",\"VM\",\"VM\",\"VM\",\"VM\",\"VM\",\"VM\",\"VM\",\"VM\",\"VM\",\"VM\",\"VM\",\"VM\",\"VM\",\"VM\",\"VM\",\"VM\",\"VM\",\"VM\",\"VM\",\"VM\",\"VM\",\"VM\",\"VM\",\"VM\",\"VM\",\"VM\",\"VM\",\"VM\",\"VM\",\"VM\",\"VM\",\"VM\",\"VM\",\"VM\",\"VM\",\"VM\",\"VM\",\"VM\",\"VM\",\"VM\",\"VM\",\"VM\",\"VM\",\"VM\",\"VM\",\"VM\",\"VM\",\"VM\",\"VM\",\"VM\",\"VM\",\"VM\",\"VM\",\"VM\",\"VM\",\"VM\",\"VM\",\"VM\",\"VM\",\"VM\",\"VM\",\"VM\",\"VM\",\"VM\",\"VM\",\"VM\",\"VM\",\"VM\",\"VM\",\"VM\",\"VM\",\"VM\",\"VM\",\"VM\"]\n",
    "\n",
    "numeros_agrupados = [10875,10862,10874,10858,10858,10893,10893,10864,10848,10906,10900,10904,10905,10605,10433,10426,10468,10508,10508,10613,10538,10616,10631,10505,10533,10607,10524,10479,10565,10586,10583,10587,10587,10584,10584,10514,10514,10513,10513,10595,10595,10594,10594,10582,10582,10585,10585,10555,10552,10488,10615,10464,10560,10543,10543,10540,10542,10512,10509,10509,10438,10497,10532,10532,10488,10502,10459,10454,10480,10591,10540,10591,10520,10554,10590,10537,10609,10609,10506,10506,10490,10490,10557,10557,10517,10556,10556,10426,10426,10568,10596,10596,10433,10433,10433,10628,10622,10619,10613,10538,10616,10468,10476,10476,10276,10306,10305,10348,10348,10337,10337,10309,10309,10310,10310,10302,10302,10293,10352,10262,10262,10353,10235,10269,10291,10292,10434,10434,10408,10371,10368,10380,10381,10434,10381,10381,10933,10940,10881,10877,10947,10911,10933,10894,10895,10770,10725,10655,10655,10702,10702,10701,10701,10630,10630,10674,10675,10670,10656,10654,10654,10720,10692,10732,10684,10709,10672,10788,10715,10807,10807,10683,10683,10762,10762,10834,10834,10761,10761,10748,10748,10680,10680,10679,10679,10635,10635,10808,10658,10664,10653,10820,10815,10815,10724,10713,10712,10711,10810,10689,10634,10634,10632,10632,10745,10800,10800,10670,10689,10742,10742,10747,10747,10798,10798,10665,10665,10830,10667,10667,10652,10652,10669,10669,10698,10698,10697,10697,10640,10640,10686,10686,10736,10736,10731,10731,10789,10703,10829,10729,10656,10764,10678,10763,10637,10637,10637,10644,10644,10644,10644,10658,10767,10704,10673,10627,10627,10625,10625,10592,10592,10578,10578,10650,10527,10527,10534,10474,10474,10471,10471,10531,10531,10589,10511,10511,10521,10623,10564,10564,10614,10614,10577,10577,10536,10620,10620,10477,10498,10498,10526,10526,10588,10530,10536,10645,10325,10323,10507,10356,10484,10482,10277,10431,10478,10606,10606,10539,10539,10487,10452,10458,10475,10384,10374,10566,10398,10357,10304,10544,10544,10375,10440,10334,10363,10363,10344,10344,10431,10321,10321,10351,10317,10529,10541,10541,10528,10528,10563,10500,10410,10410,10451,10525,10457,10346,10346,10496,10496,10489,10489,10361,10361,10358,10358,10367,10367,10420,10420,10421,10421,10465,10465,10561,10377,10290,10314,10486,10413,10413,10356,10356,10484,10484,10482,10482,10482,10357,10492,10492,10516,10572,10572,10410,10420,10421,10377,10486,10413,10413,10374,10374]\n",
    "\n",
    "mapa_estacoes = faz_dict(numeros_agrupados, estacoes)\n"
   ]
  },
  {
   "cell_type": "code",
   "execution_count": 3,
   "metadata": {},
   "outputs": [
    {
     "output_type": "execute_result",
     "data": {
      "text/plain": [
       "  Lote                 Data  Local  Faixa  Entrefaixa  Registro  \\\n",
       "0   L3  2018-02-28 23:56:22   5323      3           0   1095514   \n",
       "1   L3  2018-02-28 23:56:32   5323      3           0   1095515   \n",
       "2   L3  2018-02-28 23:56:53   5323      3           0   1095516   \n",
       "3   L3  2018-02-28 23:56:55   5323      3           0   1095517   \n",
       "4   L3  2018-02-28 23:56:58   5323      3           0   1095518   \n",
       "\n",
       "   Tipo de Registro Especie Classe Comprimento Velocidade Ocupacao  \\\n",
       "0                 0       1      0         048        136    00649   \n",
       "1                 0       1      0         039        100    00772   \n",
       "2                 0       1      0         043        119    00694   \n",
       "3                 0       1      0         032        122    00599   \n",
       "4                 0       1      0         041        128    00633   \n",
       "\n",
       "   Indice de Minutos  \n",
       "0              84956  \n",
       "1              84956  \n",
       "2              84956  \n",
       "3              84956  \n",
       "4              84956  "
      ],
      "text/html": "<div>\n<style scoped>\n    .dataframe tbody tr th:only-of-type {\n        vertical-align: middle;\n    }\n\n    .dataframe tbody tr th {\n        vertical-align: top;\n    }\n\n    .dataframe thead th {\n        text-align: right;\n    }\n</style>\n<table border=\"1\" class=\"dataframe\">\n  <thead>\n    <tr style=\"text-align: right;\">\n      <th></th>\n      <th>Lote</th>\n      <th>Data</th>\n      <th>Local</th>\n      <th>Faixa</th>\n      <th>Entrefaixa</th>\n      <th>Registro</th>\n      <th>Tipo de Registro</th>\n      <th>Especie</th>\n      <th>Classe</th>\n      <th>Comprimento</th>\n      <th>Velocidade</th>\n      <th>Ocupacao</th>\n      <th>Indice de Minutos</th>\n    </tr>\n  </thead>\n  <tbody>\n    <tr>\n      <th>0</th>\n      <td>L3</td>\n      <td>2018-02-28 23:56:22</td>\n      <td>5323</td>\n      <td>3</td>\n      <td>0</td>\n      <td>1095514</td>\n      <td>0</td>\n      <td>1</td>\n      <td>0</td>\n      <td>048</td>\n      <td>136</td>\n      <td>00649</td>\n      <td>84956</td>\n    </tr>\n    <tr>\n      <th>1</th>\n      <td>L3</td>\n      <td>2018-02-28 23:56:32</td>\n      <td>5323</td>\n      <td>3</td>\n      <td>0</td>\n      <td>1095515</td>\n      <td>0</td>\n      <td>1</td>\n      <td>0</td>\n      <td>039</td>\n      <td>100</td>\n      <td>00772</td>\n      <td>84956</td>\n    </tr>\n    <tr>\n      <th>2</th>\n      <td>L3</td>\n      <td>2018-02-28 23:56:53</td>\n      <td>5323</td>\n      <td>3</td>\n      <td>0</td>\n      <td>1095516</td>\n      <td>0</td>\n      <td>1</td>\n      <td>0</td>\n      <td>043</td>\n      <td>119</td>\n      <td>00694</td>\n      <td>84956</td>\n    </tr>\n    <tr>\n      <th>3</th>\n      <td>L3</td>\n      <td>2018-02-28 23:56:55</td>\n      <td>5323</td>\n      <td>3</td>\n      <td>0</td>\n      <td>1095517</td>\n      <td>0</td>\n      <td>1</td>\n      <td>0</td>\n      <td>032</td>\n      <td>122</td>\n      <td>00599</td>\n      <td>84956</td>\n    </tr>\n    <tr>\n      <th>4</th>\n      <td>L3</td>\n      <td>2018-02-28 23:56:58</td>\n      <td>5323</td>\n      <td>3</td>\n      <td>0</td>\n      <td>1095518</td>\n      <td>0</td>\n      <td>1</td>\n      <td>0</td>\n      <td>041</td>\n      <td>128</td>\n      <td>00633</td>\n      <td>84956</td>\n    </tr>\n  </tbody>\n</table>\n</div>"
     },
     "metadata": {},
     "execution_count": 3
    }
   ],
   "source": [
    "pd.set_option('display.max_columns', None)\n",
    "a = pd.read_csv(r'D:\\Users\\guilh\\Documents\\GitHub\\Dados_CET\\csv_radares-20200426T211130Z-001_selecionados/'+\"01_selecionado.csv\", index_col=[\"Unnamed: 0\"])\n",
    "a.head()"
   ]
  },
  {
   "cell_type": "code",
   "execution_count": 4,
   "metadata": {},
   "outputs": [
    {
     "output_type": "display_data",
     "data": {
      "text/plain": "        Local  Faixa\n267129   5479      3\n267158   5479      3\n267162   5479      3\n267165   5479      3\n267166   5479      3\n...       ...    ...\n276663   5479      3\n276671   5479      3\n276673   5479      3\n276674   5479      3\n276682   5479      3\n\n[1696 rows x 2 columns]",
      "text/html": "<div>\n<style scoped>\n    .dataframe tbody tr th:only-of-type {\n        vertical-align: middle;\n    }\n\n    .dataframe tbody tr th {\n        vertical-align: top;\n    }\n\n    .dataframe thead th {\n        text-align: right;\n    }\n</style>\n<table border=\"1\" class=\"dataframe\">\n  <thead>\n    <tr style=\"text-align: right;\">\n      <th></th>\n      <th>Local</th>\n      <th>Faixa</th>\n    </tr>\n  </thead>\n  <tbody>\n    <tr>\n      <th>267129</th>\n      <td>5479</td>\n      <td>3</td>\n    </tr>\n    <tr>\n      <th>267158</th>\n      <td>5479</td>\n      <td>3</td>\n    </tr>\n    <tr>\n      <th>267162</th>\n      <td>5479</td>\n      <td>3</td>\n    </tr>\n    <tr>\n      <th>267165</th>\n      <td>5479</td>\n      <td>3</td>\n    </tr>\n    <tr>\n      <th>267166</th>\n      <td>5479</td>\n      <td>3</td>\n    </tr>\n    <tr>\n      <th>...</th>\n      <td>...</td>\n      <td>...</td>\n    </tr>\n    <tr>\n      <th>276663</th>\n      <td>5479</td>\n      <td>3</td>\n    </tr>\n    <tr>\n      <th>276671</th>\n      <td>5479</td>\n      <td>3</td>\n    </tr>\n    <tr>\n      <th>276673</th>\n      <td>5479</td>\n      <td>3</td>\n    </tr>\n    <tr>\n      <th>276674</th>\n      <td>5479</td>\n      <td>3</td>\n    </tr>\n    <tr>\n      <th>276682</th>\n      <td>5479</td>\n      <td>3</td>\n    </tr>\n  </tbody>\n</table>\n<p>1696 rows × 2 columns</p>\n</div>"
     },
     "metadata": {}
    },
    {
     "output_type": "display_data",
     "data": {
      "text/plain": "        Local  Faixa\n276684   5478      2\n276685   5478      2\n276686   5478      2\n276687   5478      2\n276688   5478      2\n...       ...    ...\n293318   5478      3\n293319   5478      2\n293320   5478      3\n293321   5478      3\n293322   5478      2\n\n[16639 rows x 2 columns]",
      "text/html": "<div>\n<style scoped>\n    .dataframe tbody tr th:only-of-type {\n        vertical-align: middle;\n    }\n\n    .dataframe tbody tr th {\n        vertical-align: top;\n    }\n\n    .dataframe thead th {\n        text-align: right;\n    }\n</style>\n<table border=\"1\" class=\"dataframe\">\n  <thead>\n    <tr style=\"text-align: right;\">\n      <th></th>\n      <th>Local</th>\n      <th>Faixa</th>\n    </tr>\n  </thead>\n  <tbody>\n    <tr>\n      <th>276684</th>\n      <td>5478</td>\n      <td>2</td>\n    </tr>\n    <tr>\n      <th>276685</th>\n      <td>5478</td>\n      <td>2</td>\n    </tr>\n    <tr>\n      <th>276686</th>\n      <td>5478</td>\n      <td>2</td>\n    </tr>\n    <tr>\n      <th>276687</th>\n      <td>5478</td>\n      <td>2</td>\n    </tr>\n    <tr>\n      <th>276688</th>\n      <td>5478</td>\n      <td>2</td>\n    </tr>\n    <tr>\n      <th>...</th>\n      <td>...</td>\n      <td>...</td>\n    </tr>\n    <tr>\n      <th>293318</th>\n      <td>5478</td>\n      <td>3</td>\n    </tr>\n    <tr>\n      <th>293319</th>\n      <td>5478</td>\n      <td>2</td>\n    </tr>\n    <tr>\n      <th>293320</th>\n      <td>5478</td>\n      <td>3</td>\n    </tr>\n    <tr>\n      <th>293321</th>\n      <td>5478</td>\n      <td>3</td>\n    </tr>\n    <tr>\n      <th>293322</th>\n      <td>5478</td>\n      <td>2</td>\n    </tr>\n  </tbody>\n</table>\n<p>16639 rows × 2 columns</p>\n</div>"
     },
     "metadata": {}
    }
   ],
   "source": [
    "# verificação\n",
    "# antes temos um x registros no (radar, faixa) = (5479,3)\n",
    "# e y registros (radar, faixa) = (5478,_) sendo _ qualquer faixa\n",
    "\n",
    "\n",
    "display(a.loc[(a[\"Local\"]==5479) & (a[\"Faixa\"] == 3), [\"Local\", \"Faixa\"]])\n",
    "display(a.loc[(a[\"Local\"]==5478), [\"Local\", \"Faixa\"]])\n",
    "# mas lembrando que ainda tiramos os nan"
   ]
  },
  {
   "cell_type": "code",
   "execution_count": 35,
   "metadata": {},
   "outputs": [
    {
     "output_type": "execute_result",
     "data": {
      "text/plain": [
       "  Lote                Data  dia_sem  Local  Numero Agrupado  Faixa  \\\n",
       "0   L3 2018-02-28 23:56:22        2   5323          10488.0      3   \n",
       "1   L3 2018-02-28 23:56:32        2   5323          10488.0      3   \n",
       "2   L3 2018-02-28 23:56:53        2   5323          10488.0      3   \n",
       "3   L3 2018-02-28 23:56:55        2   5323          10488.0      3   \n",
       "4   L3 2018-02-28 23:56:58        2   5323          10488.0      3   \n",
       "\n",
       "   Entrefaixa  Registro  Tipo de Registro Especie Classe Comprimento  \\\n",
       "0           0   1095514                 0       1      0         048   \n",
       "1           0   1095515                 0       1      0         039   \n",
       "2           0   1095516                 0       1      0         043   \n",
       "3           0   1095517                 0       1      0         032   \n",
       "4           0   1095518                 0       1      0         041   \n",
       "\n",
       "   Velocidade  Ocupacao  \n",
       "0         136       649  \n",
       "1         100       772  \n",
       "2         119       694  \n",
       "3         122       599  \n",
       "4         128       633  "
      ],
      "text/html": "<div>\n<style scoped>\n    .dataframe tbody tr th:only-of-type {\n        vertical-align: middle;\n    }\n\n    .dataframe tbody tr th {\n        vertical-align: top;\n    }\n\n    .dataframe thead th {\n        text-align: right;\n    }\n</style>\n<table border=\"1\" class=\"dataframe\">\n  <thead>\n    <tr style=\"text-align: right;\">\n      <th></th>\n      <th>Lote</th>\n      <th>Data</th>\n      <th>dia_sem</th>\n      <th>Local</th>\n      <th>Numero Agrupado</th>\n      <th>Faixa</th>\n      <th>Entrefaixa</th>\n      <th>Registro</th>\n      <th>Tipo de Registro</th>\n      <th>Especie</th>\n      <th>Classe</th>\n      <th>Comprimento</th>\n      <th>Velocidade</th>\n      <th>Ocupacao</th>\n    </tr>\n  </thead>\n  <tbody>\n    <tr>\n      <th>0</th>\n      <td>L3</td>\n      <td>2018-02-28 23:56:22</td>\n      <td>2</td>\n      <td>5323</td>\n      <td>10488.0</td>\n      <td>3</td>\n      <td>0</td>\n      <td>1095514</td>\n      <td>0</td>\n      <td>1</td>\n      <td>0</td>\n      <td>048</td>\n      <td>136</td>\n      <td>649</td>\n    </tr>\n    <tr>\n      <th>1</th>\n      <td>L3</td>\n      <td>2018-02-28 23:56:32</td>\n      <td>2</td>\n      <td>5323</td>\n      <td>10488.0</td>\n      <td>3</td>\n      <td>0</td>\n      <td>1095515</td>\n      <td>0</td>\n      <td>1</td>\n      <td>0</td>\n      <td>039</td>\n      <td>100</td>\n      <td>772</td>\n    </tr>\n    <tr>\n      <th>2</th>\n      <td>L3</td>\n      <td>2018-02-28 23:56:53</td>\n      <td>2</td>\n      <td>5323</td>\n      <td>10488.0</td>\n      <td>3</td>\n      <td>0</td>\n      <td>1095516</td>\n      <td>0</td>\n      <td>1</td>\n      <td>0</td>\n      <td>043</td>\n      <td>119</td>\n      <td>694</td>\n    </tr>\n    <tr>\n      <th>3</th>\n      <td>L3</td>\n      <td>2018-02-28 23:56:55</td>\n      <td>2</td>\n      <td>5323</td>\n      <td>10488.0</td>\n      <td>3</td>\n      <td>0</td>\n      <td>1095517</td>\n      <td>0</td>\n      <td>1</td>\n      <td>0</td>\n      <td>032</td>\n      <td>122</td>\n      <td>599</td>\n    </tr>\n    <tr>\n      <th>4</th>\n      <td>L3</td>\n      <td>2018-02-28 23:56:58</td>\n      <td>2</td>\n      <td>5323</td>\n      <td>10488.0</td>\n      <td>3</td>\n      <td>0</td>\n      <td>1095518</td>\n      <td>0</td>\n      <td>1</td>\n      <td>0</td>\n      <td>041</td>\n      <td>128</td>\n      <td>633</td>\n    </tr>\n  </tbody>\n</table>\n</div>"
     },
     "metadata": {},
     "execution_count": 35
    }
   ],
   "source": [
    "# cria a coluna de numeros agrupados\n",
    "a['Numero Agrupado'] = a['Local'].map(faz_dict(Radares,num_agrupado))\n",
    "\n",
    "#coloca a Data e datetime object para facilitar manipulacao\n",
    "a.Data=pd.to_datetime(a.Data)\n",
    "\n",
    "# cria a coluna do dia da semana\n",
    "# ###############IMPORTANTE############# segunda = 0\n",
    "a[\"dia_sem\"] = a.Data.dt.dayofweek\n",
    "\n",
    "\n",
    "########## UPDATE ###########\n",
    "# transforma todos radares 5479 na faixa 3, (5479,3) em radares 5478 na faixa 3 (5478,3)\n",
    "# pode ficar tranquilo por que eles tem o mesmo numero agrupado\n",
    "a.loc[(a[\"Local\"]==5479) & (a[\"Faixa\"] == 3), \"Local\"] = 5478\n",
    "\n",
    "# limpa a ocupacao\n",
    "a.drop(a.loc[a['Ocupacao'] =='     ','Ocupacao'].index, inplace=True)\n",
    "a.Ocupacao = a.Ocupacao.astype(int)\n",
    "a.Ocupacao = a.Ocupacao\n",
    "#dropa vazios\n",
    "a.drop(a.loc[a['Velocidade'] =='   ','Velocidade'].index, inplace=True)\n",
    "\n",
    "#dropa não válidos (nan)\n",
    "a.loc[:,'Velocidade'].dropna(inplace=True)\n",
    "\n",
    "#coloca tudo no mesmo formato de dado int\n",
    "a.loc[:,'Velocidade'] = pd.to_numeric(a.loc[:,'Velocidade'])\n",
    "# a.loc[:,'Numero Agrupado'] = pd.to_numeric(a.loc[:,'Numero Agrupado'])\n",
    "a['Numero Agrupado'] = a['Numero Agrupado'].astype(float)\n",
    "\n",
    "a.reset_index(drop=True,inplace=True)\n",
    "\n",
    "\n",
    "a = a[['Lote', 'Data', \"dia_sem\", 'Local', 'Numero Agrupado', 'Faixa', 'Entrefaixa',\n",
    "       'Registro', 'Tipo de Registro', 'Especie',\n",
    "      'Classe', 'Comprimento', 'Velocidade', 'Ocupacao']]\n",
    "a.head()"
   ]
  },
  {
   "cell_type": "code",
   "execution_count": 64,
   "metadata": {},
   "outputs": [
    {
     "output_type": "execute_result",
     "data": {
      "text/plain": [
       "       Numero Agrupado  Faixa Especie                Data  dia_sem  Volume  \\\n",
       "0              10488.0      1       0 2018-01-03 08:20:00        2       1   \n",
       "1              10488.0      1       0 2018-01-03 08:35:00        2       1   \n",
       "2              10488.0      1       0 2018-01-03 09:25:00        2       1   \n",
       "3              10488.0      1       0 2018-01-03 10:10:00        2       1   \n",
       "4              10488.0      1       0 2018-01-03 10:25:00        2       2   \n",
       "...                ...    ...     ...                 ...      ...     ...   \n",
       "42258          10761.0      3       3 2018-01-03 23:05:00        2       1   \n",
       "42259          10761.0      3       3 2018-01-03 23:15:00        2       1   \n",
       "42260          10761.0      3       3 2018-01-03 23:25:00        2       1   \n",
       "42261          10761.0      3       3 2018-01-03 23:30:00        2       1   \n",
       "42262          10761.0      3       3 2018-01-03 23:35:00        2       1   \n",
       "\n",
       "       Vel_media  Vel_mediana  Vel_desvpad  Ocu_media  Ocu_mediana  \\\n",
       "0           83.0         83.0          NaN      643.0        643.0   \n",
       "1           19.0         19.0          NaN     2314.0       2314.0   \n",
       "2           94.0         94.0          NaN      378.0        378.0   \n",
       "3           86.0         86.0          NaN      526.0        526.0   \n",
       "4          286.0        286.0   318.198052      412.5        412.5   \n",
       "...          ...          ...          ...        ...          ...   \n",
       "42258      111.0        111.0          NaN     1201.0       1201.0   \n",
       "42259      100.0        100.0          NaN      884.0        884.0   \n",
       "42260      100.0        100.0          NaN      894.0        894.0   \n",
       "42261      117.0        117.0          NaN     1052.0       1052.0   \n",
       "42262       92.0         92.0          NaN     1352.0       1352.0   \n",
       "\n",
       "       Ocu_desvpad  \n",
       "0              NaN  \n",
       "1              NaN  \n",
       "2              NaN  \n",
       "3              NaN  \n",
       "4       482.953932  \n",
       "...            ...  \n",
       "42258          NaN  \n",
       "42259          NaN  \n",
       "42260          NaN  \n",
       "42261          NaN  \n",
       "42262          NaN  \n",
       "\n",
       "[42263 rows x 12 columns]"
      ],
      "text/html": "<div>\n<style scoped>\n    .dataframe tbody tr th:only-of-type {\n        vertical-align: middle;\n    }\n\n    .dataframe tbody tr th {\n        vertical-align: top;\n    }\n\n    .dataframe thead th {\n        text-align: right;\n    }\n</style>\n<table border=\"1\" class=\"dataframe\">\n  <thead>\n    <tr style=\"text-align: right;\">\n      <th></th>\n      <th>Numero Agrupado</th>\n      <th>Faixa</th>\n      <th>Especie</th>\n      <th>Data</th>\n      <th>dia_sem</th>\n      <th>Volume</th>\n      <th>Vel_media</th>\n      <th>Vel_mediana</th>\n      <th>Vel_desvpad</th>\n      <th>Ocu_media</th>\n      <th>Ocu_mediana</th>\n      <th>Ocu_desvpad</th>\n    </tr>\n  </thead>\n  <tbody>\n    <tr>\n      <th>0</th>\n      <td>10488.0</td>\n      <td>1</td>\n      <td>0</td>\n      <td>2018-01-03 08:20:00</td>\n      <td>2</td>\n      <td>1</td>\n      <td>83.0</td>\n      <td>83.0</td>\n      <td>NaN</td>\n      <td>643.0</td>\n      <td>643.0</td>\n      <td>NaN</td>\n    </tr>\n    <tr>\n      <th>1</th>\n      <td>10488.0</td>\n      <td>1</td>\n      <td>0</td>\n      <td>2018-01-03 08:35:00</td>\n      <td>2</td>\n      <td>1</td>\n      <td>19.0</td>\n      <td>19.0</td>\n      <td>NaN</td>\n      <td>2314.0</td>\n      <td>2314.0</td>\n      <td>NaN</td>\n    </tr>\n    <tr>\n      <th>2</th>\n      <td>10488.0</td>\n      <td>1</td>\n      <td>0</td>\n      <td>2018-01-03 09:25:00</td>\n      <td>2</td>\n      <td>1</td>\n      <td>94.0</td>\n      <td>94.0</td>\n      <td>NaN</td>\n      <td>378.0</td>\n      <td>378.0</td>\n      <td>NaN</td>\n    </tr>\n    <tr>\n      <th>3</th>\n      <td>10488.0</td>\n      <td>1</td>\n      <td>0</td>\n      <td>2018-01-03 10:10:00</td>\n      <td>2</td>\n      <td>1</td>\n      <td>86.0</td>\n      <td>86.0</td>\n      <td>NaN</td>\n      <td>526.0</td>\n      <td>526.0</td>\n      <td>NaN</td>\n    </tr>\n    <tr>\n      <th>4</th>\n      <td>10488.0</td>\n      <td>1</td>\n      <td>0</td>\n      <td>2018-01-03 10:25:00</td>\n      <td>2</td>\n      <td>2</td>\n      <td>286.0</td>\n      <td>286.0</td>\n      <td>318.198052</td>\n      <td>412.5</td>\n      <td>412.5</td>\n      <td>482.953932</td>\n    </tr>\n    <tr>\n      <th>...</th>\n      <td>...</td>\n      <td>...</td>\n      <td>...</td>\n      <td>...</td>\n      <td>...</td>\n      <td>...</td>\n      <td>...</td>\n      <td>...</td>\n      <td>...</td>\n      <td>...</td>\n      <td>...</td>\n      <td>...</td>\n    </tr>\n    <tr>\n      <th>42258</th>\n      <td>10761.0</td>\n      <td>3</td>\n      <td>3</td>\n      <td>2018-01-03 23:05:00</td>\n      <td>2</td>\n      <td>1</td>\n      <td>111.0</td>\n      <td>111.0</td>\n      <td>NaN</td>\n      <td>1201.0</td>\n      <td>1201.0</td>\n      <td>NaN</td>\n    </tr>\n    <tr>\n      <th>42259</th>\n      <td>10761.0</td>\n      <td>3</td>\n      <td>3</td>\n      <td>2018-01-03 23:15:00</td>\n      <td>2</td>\n      <td>1</td>\n      <td>100.0</td>\n      <td>100.0</td>\n      <td>NaN</td>\n      <td>884.0</td>\n      <td>884.0</td>\n      <td>NaN</td>\n    </tr>\n    <tr>\n      <th>42260</th>\n      <td>10761.0</td>\n      <td>3</td>\n      <td>3</td>\n      <td>2018-01-03 23:25:00</td>\n      <td>2</td>\n      <td>1</td>\n      <td>100.0</td>\n      <td>100.0</td>\n      <td>NaN</td>\n      <td>894.0</td>\n      <td>894.0</td>\n      <td>NaN</td>\n    </tr>\n    <tr>\n      <th>42261</th>\n      <td>10761.0</td>\n      <td>3</td>\n      <td>3</td>\n      <td>2018-01-03 23:30:00</td>\n      <td>2</td>\n      <td>1</td>\n      <td>117.0</td>\n      <td>117.0</td>\n      <td>NaN</td>\n      <td>1052.0</td>\n      <td>1052.0</td>\n      <td>NaN</td>\n    </tr>\n    <tr>\n      <th>42262</th>\n      <td>10761.0</td>\n      <td>3</td>\n      <td>3</td>\n      <td>2018-01-03 23:35:00</td>\n      <td>2</td>\n      <td>1</td>\n      <td>92.0</td>\n      <td>92.0</td>\n      <td>NaN</td>\n      <td>1352.0</td>\n      <td>1352.0</td>\n      <td>NaN</td>\n    </tr>\n  </tbody>\n</table>\n<p>42263 rows × 12 columns</p>\n</div>"
     },
     "metadata": {},
     "execution_count": 64
    }
   ],
   "source": [
    "Ag = a\n",
    "\n",
    "Ag.loc[:,'V1'] = Ag.loc[:,'Velocidade'].copy()\n",
    "Ag.loc[:,'V2'] = Ag.loc[:,'Velocidade'].copy()\n",
    "Ag.loc[:,'Oc1'] = Ag.loc[:,'Ocupacao'].copy()\n",
    "Ag.loc[:,'Oc2'] = Ag.loc[:,'Ocupacao'].copy()\n",
    "Ag = Ag.groupby([ 'Numero Agrupado',\"Faixa\",'Especie',pd.Grouper(key='Data', freq='5Min')]).agg({'dia_sem': \"mean\",\n",
    "                                                                        \"Registro\": \"count\",\n",
    "                                                                        'Velocidade': 'mean',\n",
    "                                                                        'V1':'median',\n",
    "                                                                        'V2':'std',\n",
    "                                                                        'Ocupacao':'mean',\n",
    "                                                                        'Oc1':'median',\n",
    "                                                                        'Oc2':'std',\n",
    "                                                                        })\n",
    "Ag.columns=['dia_sem',\n",
    "            \"Volume\",\n",
    "            'Vel_media',\n",
    "            'Vel_mediana',\n",
    "            'Vel_desvpad',\n",
    "            'Ocu_media',\n",
    "            'Ocu_mediana',\n",
    "            'Ocu_desvpad',\n",
    "            ] # Renomeia\n",
    "\n",
    "    \n",
    "\n",
    " #   df_group = df_new_s.groupby(['Local','Número Agrupado','Especie','Classe', pd.Grouper(key='Data', freq=freq)]).agg({\n",
    "#                                                                            'Velocidade': 'mean',\n",
    "##                                                                            'V1':'median',\n",
    " #                                                                           'V2':'std',\n",
    "#                                                                            'Registro':'count'})\n",
    "Ag.reset_index(inplace=True)\n",
    "Ag"
   ]
  },
  {
   "cell_type": "code",
   "execution_count": 61,
   "metadata": {},
   "outputs": [
    {
     "output_type": "execute_result",
     "data": {
      "text/plain": [
       "   Numero Agrupado  Faixa Especie                Data  dia_sem  Volume  \\\n",
       "0          10488.0      1       0 2018-01-03 08:20:00        2       1   \n",
       "1          10488.0      1       0 2018-01-03 08:35:00        2       1   \n",
       "2          10488.0      1       0 2018-01-03 09:25:00        2       1   \n",
       "3          10488.0      1       0 2018-01-03 10:10:00        2       1   \n",
       "4          10488.0      1       0 2018-01-03 10:25:00        2       2   \n",
       "\n",
       "   Vel_media  Vel_mediana  Vel_desvpad  Ocu_media  Ocu_mediana  Ocu_desvpad  \\\n",
       "0       83.0         83.0          NaN      643.0        643.0          NaN   \n",
       "1       19.0         19.0          NaN     2314.0       2314.0          NaN   \n",
       "2       94.0         94.0          NaN      378.0        378.0          NaN   \n",
       "3       86.0         86.0          NaN      526.0        526.0          NaN   \n",
       "4      286.0        286.0   318.198052      412.5        412.5   482.953932   \n",
       "\n",
       "  Periodo  NumAg_fx Eixo  \n",
       "0       y  10488.01  NaN  \n",
       "1       y  10488.01  NaN  \n",
       "2       y  10488.01  NaN  \n",
       "3       y  10488.01  NaN  \n",
       "4       y  10488.01  NaN  "
      ],
      "text/html": "<div>\n<style scoped>\n    .dataframe tbody tr th:only-of-type {\n        vertical-align: middle;\n    }\n\n    .dataframe tbody tr th {\n        vertical-align: top;\n    }\n\n    .dataframe thead th {\n        text-align: right;\n    }\n</style>\n<table border=\"1\" class=\"dataframe\">\n  <thead>\n    <tr style=\"text-align: right;\">\n      <th></th>\n      <th>Numero Agrupado</th>\n      <th>Faixa</th>\n      <th>Especie</th>\n      <th>Data</th>\n      <th>dia_sem</th>\n      <th>Volume</th>\n      <th>Vel_media</th>\n      <th>Vel_mediana</th>\n      <th>Vel_desvpad</th>\n      <th>Ocu_media</th>\n      <th>Ocu_mediana</th>\n      <th>Ocu_desvpad</th>\n      <th>Periodo</th>\n      <th>NumAg_fx</th>\n      <th>Eixo</th>\n    </tr>\n  </thead>\n  <tbody>\n    <tr>\n      <th>0</th>\n      <td>10488.0</td>\n      <td>1</td>\n      <td>0</td>\n      <td>2018-01-03 08:20:00</td>\n      <td>2</td>\n      <td>1</td>\n      <td>83.0</td>\n      <td>83.0</td>\n      <td>NaN</td>\n      <td>643.0</td>\n      <td>643.0</td>\n      <td>NaN</td>\n      <td>y</td>\n      <td>10488.01</td>\n      <td>NaN</td>\n    </tr>\n    <tr>\n      <th>1</th>\n      <td>10488.0</td>\n      <td>1</td>\n      <td>0</td>\n      <td>2018-01-03 08:35:00</td>\n      <td>2</td>\n      <td>1</td>\n      <td>19.0</td>\n      <td>19.0</td>\n      <td>NaN</td>\n      <td>2314.0</td>\n      <td>2314.0</td>\n      <td>NaN</td>\n      <td>y</td>\n      <td>10488.01</td>\n      <td>NaN</td>\n    </tr>\n    <tr>\n      <th>2</th>\n      <td>10488.0</td>\n      <td>1</td>\n      <td>0</td>\n      <td>2018-01-03 09:25:00</td>\n      <td>2</td>\n      <td>1</td>\n      <td>94.0</td>\n      <td>94.0</td>\n      <td>NaN</td>\n      <td>378.0</td>\n      <td>378.0</td>\n      <td>NaN</td>\n      <td>y</td>\n      <td>10488.01</td>\n      <td>NaN</td>\n    </tr>\n    <tr>\n      <th>3</th>\n      <td>10488.0</td>\n      <td>1</td>\n      <td>0</td>\n      <td>2018-01-03 10:10:00</td>\n      <td>2</td>\n      <td>1</td>\n      <td>86.0</td>\n      <td>86.0</td>\n      <td>NaN</td>\n      <td>526.0</td>\n      <td>526.0</td>\n      <td>NaN</td>\n      <td>y</td>\n      <td>10488.01</td>\n      <td>NaN</td>\n    </tr>\n    <tr>\n      <th>4</th>\n      <td>10488.0</td>\n      <td>1</td>\n      <td>0</td>\n      <td>2018-01-03 10:25:00</td>\n      <td>2</td>\n      <td>2</td>\n      <td>286.0</td>\n      <td>286.0</td>\n      <td>318.198052</td>\n      <td>412.5</td>\n      <td>412.5</td>\n      <td>482.953932</td>\n      <td>y</td>\n      <td>10488.01</td>\n      <td>NaN</td>\n    </tr>\n  </tbody>\n</table>\n</div>"
     },
     "metadata": {},
     "execution_count": 61
    }
   ],
   "source": [
    "c = Ag\n",
    "c[\"Periodo\"] = \"y\"\n",
    "c.head()"
   ]
  },
  {
   "cell_type": "code",
   "execution_count": 62,
   "metadata": {},
   "outputs": [
    {
     "output_type": "display_data",
     "data": {
      "text/plain": "   Numero Agrupado  Faixa Especie                Data  dia_sem  Volume  \\\n0          10488.0      1       0 2018-01-03 08:20:00        2       1   \n1          10488.0      1       0 2018-01-03 08:35:00        2       1   \n2          10488.0      1       0 2018-01-03 09:25:00        2       1   \n3          10488.0      1       0 2018-01-03 10:10:00        2       1   \n4          10488.0      1       0 2018-01-03 10:25:00        2       2   \n\n   Vel_media  Vel_mediana  Vel_desvpad  Ocu_media  Ocu_mediana  Ocu_desvpad  \\\n0       83.0         83.0          NaN      643.0        643.0          NaN   \n1       19.0         19.0          NaN     2314.0       2314.0          NaN   \n2       94.0         94.0          NaN      378.0        378.0          NaN   \n3       86.0         86.0          NaN      526.0        526.0          NaN   \n4      286.0        286.0   318.198052      412.5        412.5   482.953932   \n\n  Periodo  NumAg_fx Eixo       aux  \n0       y  10488.01  NaN   [7, 10)  \n1       y  10488.01  NaN   [7, 10)  \n2       y  10488.01  NaN   [7, 10)  \n3       y  10488.01  NaN  [10, 14)  \n4       y  10488.01  NaN  [10, 14)  ",
      "text/html": "<div>\n<style scoped>\n    .dataframe tbody tr th:only-of-type {\n        vertical-align: middle;\n    }\n\n    .dataframe tbody tr th {\n        vertical-align: top;\n    }\n\n    .dataframe thead th {\n        text-align: right;\n    }\n</style>\n<table border=\"1\" class=\"dataframe\">\n  <thead>\n    <tr style=\"text-align: right;\">\n      <th></th>\n      <th>Numero Agrupado</th>\n      <th>Faixa</th>\n      <th>Especie</th>\n      <th>Data</th>\n      <th>dia_sem</th>\n      <th>Volume</th>\n      <th>Vel_media</th>\n      <th>Vel_mediana</th>\n      <th>Vel_desvpad</th>\n      <th>Ocu_media</th>\n      <th>Ocu_mediana</th>\n      <th>Ocu_desvpad</th>\n      <th>Periodo</th>\n      <th>NumAg_fx</th>\n      <th>Eixo</th>\n      <th>aux</th>\n    </tr>\n  </thead>\n  <tbody>\n    <tr>\n      <th>0</th>\n      <td>10488.0</td>\n      <td>1</td>\n      <td>0</td>\n      <td>2018-01-03 08:20:00</td>\n      <td>2</td>\n      <td>1</td>\n      <td>83.0</td>\n      <td>83.0</td>\n      <td>NaN</td>\n      <td>643.0</td>\n      <td>643.0</td>\n      <td>NaN</td>\n      <td>y</td>\n      <td>10488.01</td>\n      <td>NaN</td>\n      <td>[7, 10)</td>\n    </tr>\n    <tr>\n      <th>1</th>\n      <td>10488.0</td>\n      <td>1</td>\n      <td>0</td>\n      <td>2018-01-03 08:35:00</td>\n      <td>2</td>\n      <td>1</td>\n      <td>19.0</td>\n      <td>19.0</td>\n      <td>NaN</td>\n      <td>2314.0</td>\n      <td>2314.0</td>\n      <td>NaN</td>\n      <td>y</td>\n      <td>10488.01</td>\n      <td>NaN</td>\n      <td>[7, 10)</td>\n    </tr>\n    <tr>\n      <th>2</th>\n      <td>10488.0</td>\n      <td>1</td>\n      <td>0</td>\n      <td>2018-01-03 09:25:00</td>\n      <td>2</td>\n      <td>1</td>\n      <td>94.0</td>\n      <td>94.0</td>\n      <td>NaN</td>\n      <td>378.0</td>\n      <td>378.0</td>\n      <td>NaN</td>\n      <td>y</td>\n      <td>10488.01</td>\n      <td>NaN</td>\n      <td>[7, 10)</td>\n    </tr>\n    <tr>\n      <th>3</th>\n      <td>10488.0</td>\n      <td>1</td>\n      <td>0</td>\n      <td>2018-01-03 10:10:00</td>\n      <td>2</td>\n      <td>1</td>\n      <td>86.0</td>\n      <td>86.0</td>\n      <td>NaN</td>\n      <td>526.0</td>\n      <td>526.0</td>\n      <td>NaN</td>\n      <td>y</td>\n      <td>10488.01</td>\n      <td>NaN</td>\n      <td>[10, 14)</td>\n    </tr>\n    <tr>\n      <th>4</th>\n      <td>10488.0</td>\n      <td>1</td>\n      <td>0</td>\n      <td>2018-01-03 10:25:00</td>\n      <td>2</td>\n      <td>2</td>\n      <td>286.0</td>\n      <td>286.0</td>\n      <td>318.198052</td>\n      <td>412.5</td>\n      <td>412.5</td>\n      <td>482.953932</td>\n      <td>y</td>\n      <td>10488.01</td>\n      <td>NaN</td>\n      <td>[10, 14)</td>\n    </tr>\n  </tbody>\n</table>\n</div>"
     },
     "metadata": {}
    }
   ],
   "source": [
    "\n",
    "labels = np.array([\"P1\",\"P2\",\"P3\",\"P4\",\"P5\",\"P6\",\"P7\"])\n",
    "intervalos = pd.IntervalIndex.from_tuples([(0,5),(5,7),(7,10),(10,14),(14,17),(17,20),(20,24)], closed=\"left\")\n",
    "\n",
    "c['aux'] = pd.cut(np.array(c.Data.dt.hour), intervalos)\n",
    "# if c.loc[  ( c['Data'].dt.hour > 0) and (c['Data'].dt.hour <= 5)  ] :\n",
    "\n",
    "#     c[\"Periodo\"] = \"P1\"\n",
    "display(c.head())"
   ]
  },
  {
   "cell_type": "code",
   "execution_count": 63,
   "metadata": {},
   "outputs": [
    {
     "output_type": "display_data",
     "data": {
      "text/plain": "                 Data  dia_sem Periodo  Numero Agrupado  Faixa  NumAg_fx Eixo  \\\n0 2018-01-03 08:20:00        2      P3          10488.0      1  10488.01  NaN   \n1 2018-01-03 08:35:00        2      P3          10488.0      1  10488.01  NaN   \n2 2018-01-03 09:25:00        2      P3          10488.0      1  10488.01  NaN   \n3 2018-01-03 10:10:00        2      P4          10488.0      1  10488.01  NaN   \n4 2018-01-03 10:25:00        2      P4          10488.0      1  10488.01  NaN   \n\n  Especie  Volume  Vel_media  Vel_mediana  Vel_desvpad  Ocu_media  \\\n0       0       1       83.0         83.0          NaN      643.0   \n1       0       1       19.0         19.0          NaN     2314.0   \n2       0       1       94.0         94.0          NaN      378.0   \n3       0       1       86.0         86.0          NaN      526.0   \n4       0       2      286.0        286.0   318.198052      412.5   \n\n   Ocu_mediana  Ocu_desvpad  \n0        643.0          NaN  \n1       2314.0          NaN  \n2        378.0          NaN  \n3        526.0          NaN  \n4        412.5   482.953932  ",
      "text/html": "<div>\n<style scoped>\n    .dataframe tbody tr th:only-of-type {\n        vertical-align: middle;\n    }\n\n    .dataframe tbody tr th {\n        vertical-align: top;\n    }\n\n    .dataframe thead th {\n        text-align: right;\n    }\n</style>\n<table border=\"1\" class=\"dataframe\">\n  <thead>\n    <tr style=\"text-align: right;\">\n      <th></th>\n      <th>Data</th>\n      <th>dia_sem</th>\n      <th>Periodo</th>\n      <th>Numero Agrupado</th>\n      <th>Faixa</th>\n      <th>NumAg_fx</th>\n      <th>Eixo</th>\n      <th>Especie</th>\n      <th>Volume</th>\n      <th>Vel_media</th>\n      <th>Vel_mediana</th>\n      <th>Vel_desvpad</th>\n      <th>Ocu_media</th>\n      <th>Ocu_mediana</th>\n      <th>Ocu_desvpad</th>\n    </tr>\n  </thead>\n  <tbody>\n    <tr>\n      <th>0</th>\n      <td>2018-01-03 08:20:00</td>\n      <td>2</td>\n      <td>P3</td>\n      <td>10488.0</td>\n      <td>1</td>\n      <td>10488.01</td>\n      <td>NaN</td>\n      <td>0</td>\n      <td>1</td>\n      <td>83.0</td>\n      <td>83.0</td>\n      <td>NaN</td>\n      <td>643.0</td>\n      <td>643.0</td>\n      <td>NaN</td>\n    </tr>\n    <tr>\n      <th>1</th>\n      <td>2018-01-03 08:35:00</td>\n      <td>2</td>\n      <td>P3</td>\n      <td>10488.0</td>\n      <td>1</td>\n      <td>10488.01</td>\n      <td>NaN</td>\n      <td>0</td>\n      <td>1</td>\n      <td>19.0</td>\n      <td>19.0</td>\n      <td>NaN</td>\n      <td>2314.0</td>\n      <td>2314.0</td>\n      <td>NaN</td>\n    </tr>\n    <tr>\n      <th>2</th>\n      <td>2018-01-03 09:25:00</td>\n      <td>2</td>\n      <td>P3</td>\n      <td>10488.0</td>\n      <td>1</td>\n      <td>10488.01</td>\n      <td>NaN</td>\n      <td>0</td>\n      <td>1</td>\n      <td>94.0</td>\n      <td>94.0</td>\n      <td>NaN</td>\n      <td>378.0</td>\n      <td>378.0</td>\n      <td>NaN</td>\n    </tr>\n    <tr>\n      <th>3</th>\n      <td>2018-01-03 10:10:00</td>\n      <td>2</td>\n      <td>P4</td>\n      <td>10488.0</td>\n      <td>1</td>\n      <td>10488.01</td>\n      <td>NaN</td>\n      <td>0</td>\n      <td>1</td>\n      <td>86.0</td>\n      <td>86.0</td>\n      <td>NaN</td>\n      <td>526.0</td>\n      <td>526.0</td>\n      <td>NaN</td>\n    </tr>\n    <tr>\n      <th>4</th>\n      <td>2018-01-03 10:25:00</td>\n      <td>2</td>\n      <td>P4</td>\n      <td>10488.0</td>\n      <td>1</td>\n      <td>10488.01</td>\n      <td>NaN</td>\n      <td>0</td>\n      <td>2</td>\n      <td>286.0</td>\n      <td>286.0</td>\n      <td>318.198052</td>\n      <td>412.5</td>\n      <td>412.5</td>\n      <td>482.953932</td>\n    </tr>\n  </tbody>\n</table>\n</div>"
     },
     "metadata": {}
    }
   ],
   "source": [
    "intervalos = pd.IntervalIndex.from_tuples([(0,5),(5,7),(7,10),(10,14),(14,17),(17,20),(20,24)])\n",
    "# inter = [\"(0.0, 5.0]\",\"(5.0, 7.0]\",\"(7.0, 10.0]\",\"(10.0, 14.0]\",\"(14.0, 17.0]\",\"(17.0, 20.0]\",\"(20.0, 24.0]\"]\n",
    "\n",
    "sentidos = [\"Sumare_N\",\"Sumare_S\",\"Sumare_S\",\"Sumare_S\",\"Sumare_N\",\"Sumare_N\",\"Sumare_N\",\"Sumare_S\",\"Sumare_S\",\"Sumare_S\",\"Sumare_S\",\"Sumare_N\",\"Sumare_N\",\"Brasil_N\",\"Brasil_S\",\"Brasil_S\",\"Brasil_S\",\"Brasil_S\",\"Brasil_S\",\"Brasil_S\",\"Brasil_S\",\"Brasil_N\",\"Brasil_N\",\"Brasil_N\",\"Brasil_N\",\"Reboucas_C\",\"Reboucas_C\",\"Reboucas_B\",\"Reboucas_B\",\"Reboucas_B\",\"Reboucas_B\",\"Reboucas_C\",\"Reboucas_C\",\"Reboucas_B\",\"Reboucas_B\",\"Reboucas_C\",\"Reboucas_C\",\"Reboucas_B\",\"Reboucas_B\",\"Reboucas_C\",\"Reboucas_C\",\"Reboucas_B\",\"Reboucas_B\",\"Reboucas_C\",\"Reboucas_C\",\"23deMaio_B\",\"23deMaio_B\",\"23deMaio_B\",\"23deMaio_C\",\"23deMaio_C\",\"23deMaio_C\",\"23deMaio_C\",\"23deMaio_C\",\"23deMaio_C\",\"23deMaio_C\",\"23deMaio_C\",\"23deMaio_B\",\"23deMaio_B\",\"23deMaio_B\",\"23deMaio_B\",\"23deMaio_B\",\"23deMaio_C\",\"23deMaio_B\",\"23deMaio_B\",\"23deMaio_B\",\"23deMaio_B\",\"23deMaio_C\",\"23deMaio_C\"]\n",
    "\n",
    "\n",
    "\n",
    "\n",
    "inter = [\"[0, 5)\",\"[5, 7)\",\"[7, 10)\",\"[10, 14)\",\"[14, 17)\",\"[17, 20)\",\"[20, 24)\"]\n",
    "# \"P1\",\"P2\",\"P3\",\"P4\",\"P5\",\"P6\",\"P7\"\n",
    "\n",
    "mapb = {}\n",
    "for i in range(len(labels)):\n",
    "    mapb[inter[i]] = labels[i]\n",
    "\n",
    "try:\n",
    "    c['aux'] = c['aux'].astype(str)\n",
    "    c['Periodo'] = c['aux'].map(mapb)\n",
    "    c.drop(columns=[\"aux\"],inplace=True, axis = 0)\n",
    "except:\n",
    "    pass\n",
    "\n",
    "c['Numero Agrupado'] = c['Numero Agrupado'].astype(str)\n",
    "\n",
    "c[\"NumAg_fx\"] = c[\"Numero Agrupado\"][:5] + c['Faixa'].astype(str)\n",
    "# c[\"Faixa\"] = c[\"Faixa\"][:5] + c[\"Faixa\"]\n",
    "c['Numero Agrupado'] = c['Numero Agrupado'].astype(float)\n",
    "\n",
    "\n",
    "\n",
    "mapc = {}\n",
    "for i in range(len(num_agrupado)):\n",
    "    mapc[num_agrupado[i]] = sentidos[i]\n",
    "\n",
    "c[\"Eixo\"] = c[\"Numero Agrupado\"].map(mapc)\n",
    "\n",
    "\n",
    "\n",
    "# display(c[[\"Numero Agrupado\", \"Data\", \"Especie\", \"Periodo\"]])\n",
    "c =c[[\"Data\", \"dia_sem\", \"Periodo\", \"Numero Agrupado\", \"Faixa\", \"NumAg_fx\",\"Eixo\",\"Especie\",\"Volume\", \"Vel_media\", \"Vel_mediana\", \"Vel_desvpad\", \"Ocu_media\", \"Ocu_mediana\", \"Ocu_desvpad\"]] \n",
    "display(c.head())"
   ]
  },
  {
   "source": [
    "colunas = [\"Id\",\"Data\", \"dia_sem\", \"Periodo\", \"Numero Agrupado\", \"Faixa\", \"Fx_tipo\", \"NumAg_fx\", \"eixo\",\"Especie\",\"Volume\", \"Vel_media\", \"Vel_mediana\", \"Vel_desvpad\", \"Oc_media\", \"Oc_mediana\", \"Oc_desvpad\", \"chuva_5min\", \"chuva_1h\"]\n",
    "len(colunas)"
   ],
   "cell_type": "code",
   "metadata": {},
   "execution_count": 41,
   "outputs": [
    {
     "output_type": "execute_result",
     "data": {
      "text/plain": [
       "19"
      ]
     },
     "metadata": {},
     "execution_count": 41
    }
   ]
  },
  {
   "cell_type": "code",
   "execution_count": 42,
   "metadata": {},
   "outputs": [
    {
     "output_type": "display_data",
     "data": {
      "text/plain": "16"
     },
     "metadata": {}
    },
    {
     "output_type": "display_data",
     "data": {
      "text/plain": "                 Data  dia_sem Periodo  Numero Agrupado  Faixa  NumAg_fx  \\\n0 2018-01-03 08:20:00        2      P3          10488.0      1  10488.01   \n1 2018-01-03 08:35:00        2      P3          10488.0      1  10488.01   \n2 2018-01-03 09:25:00        2      P3          10488.0      1  10488.01   \n3 2018-01-03 10:10:00        2      P4          10488.0      1  10488.01   \n4 2018-01-03 10:25:00        2      P4          10488.0      1  10488.01   \n\n  Fx_tipo Eixo Especie  Volume  Vel_media  Vel_mediana  Vel_desvpad  \\\n0     NaN  NaN       0       1       83.0         83.0          NaN   \n1     NaN  NaN       0       1       19.0         19.0          NaN   \n2     NaN  NaN       0       1       94.0         94.0          NaN   \n3     NaN  NaN       0       1       86.0         86.0          NaN   \n4     NaN  NaN       0       2      286.0        286.0   318.198052   \n\n   Ocu_media  Ocu_mediana  Ocu_desvpad  \n0      643.0        643.0          NaN  \n1     2314.0       2314.0          NaN  \n2      378.0        378.0          NaN  \n3      526.0        526.0          NaN  \n4      412.5        412.5   482.953932  ",
      "text/html": "<div>\n<style scoped>\n    .dataframe tbody tr th:only-of-type {\n        vertical-align: middle;\n    }\n\n    .dataframe tbody tr th {\n        vertical-align: top;\n    }\n\n    .dataframe thead th {\n        text-align: right;\n    }\n</style>\n<table border=\"1\" class=\"dataframe\">\n  <thead>\n    <tr style=\"text-align: right;\">\n      <th></th>\n      <th>Data</th>\n      <th>dia_sem</th>\n      <th>Periodo</th>\n      <th>Numero Agrupado</th>\n      <th>Faixa</th>\n      <th>NumAg_fx</th>\n      <th>Fx_tipo</th>\n      <th>Eixo</th>\n      <th>Especie</th>\n      <th>Volume</th>\n      <th>Vel_media</th>\n      <th>Vel_mediana</th>\n      <th>Vel_desvpad</th>\n      <th>Ocu_media</th>\n      <th>Ocu_mediana</th>\n      <th>Ocu_desvpad</th>\n    </tr>\n  </thead>\n  <tbody>\n    <tr>\n      <th>0</th>\n      <td>2018-01-03 08:20:00</td>\n      <td>2</td>\n      <td>P3</td>\n      <td>10488.0</td>\n      <td>1</td>\n      <td>10488.01</td>\n      <td>NaN</td>\n      <td>NaN</td>\n      <td>0</td>\n      <td>1</td>\n      <td>83.0</td>\n      <td>83.0</td>\n      <td>NaN</td>\n      <td>643.0</td>\n      <td>643.0</td>\n      <td>NaN</td>\n    </tr>\n    <tr>\n      <th>1</th>\n      <td>2018-01-03 08:35:00</td>\n      <td>2</td>\n      <td>P3</td>\n      <td>10488.0</td>\n      <td>1</td>\n      <td>10488.01</td>\n      <td>NaN</td>\n      <td>NaN</td>\n      <td>0</td>\n      <td>1</td>\n      <td>19.0</td>\n      <td>19.0</td>\n      <td>NaN</td>\n      <td>2314.0</td>\n      <td>2314.0</td>\n      <td>NaN</td>\n    </tr>\n    <tr>\n      <th>2</th>\n      <td>2018-01-03 09:25:00</td>\n      <td>2</td>\n      <td>P3</td>\n      <td>10488.0</td>\n      <td>1</td>\n      <td>10488.01</td>\n      <td>NaN</td>\n      <td>NaN</td>\n      <td>0</td>\n      <td>1</td>\n      <td>94.0</td>\n      <td>94.0</td>\n      <td>NaN</td>\n      <td>378.0</td>\n      <td>378.0</td>\n      <td>NaN</td>\n    </tr>\n    <tr>\n      <th>3</th>\n      <td>2018-01-03 10:10:00</td>\n      <td>2</td>\n      <td>P4</td>\n      <td>10488.0</td>\n      <td>1</td>\n      <td>10488.01</td>\n      <td>NaN</td>\n      <td>NaN</td>\n      <td>0</td>\n      <td>1</td>\n      <td>86.0</td>\n      <td>86.0</td>\n      <td>NaN</td>\n      <td>526.0</td>\n      <td>526.0</td>\n      <td>NaN</td>\n    </tr>\n    <tr>\n      <th>4</th>\n      <td>2018-01-03 10:25:00</td>\n      <td>2</td>\n      <td>P4</td>\n      <td>10488.0</td>\n      <td>1</td>\n      <td>10488.01</td>\n      <td>NaN</td>\n      <td>NaN</td>\n      <td>0</td>\n      <td>2</td>\n      <td>286.0</td>\n      <td>286.0</td>\n      <td>318.198052</td>\n      <td>412.5</td>\n      <td>412.5</td>\n      <td>482.953932</td>\n    </tr>\n  </tbody>\n</table>\n</div>"
     },
     "metadata": {}
    }
   ],
   "source": [
    "tip_faixa = [\"mista\",\"mista\",\"mista\",\"onibus\",\"mista\",\"mista\",\"mista\",\"mista\",\"onibus\",\"mista\",\"mista\",\"mista\",\"mista\",\"onibus\",\"mista\",\"mista\",\"mista\",\"mista\",\"onibus\",\"onibus\",\"mista\",\"mista\",\"mista\",\"mista\",\"mista\",\"mista\",\"mista\",\"mista\",\"mista\",\"mista\",\"mista\",\"onibus\",\"mista\",\"mista\",\"mista\",\"mista\",\"mista\",\"mista\",\"onibus\",\"mista\",\"mista\",\"onibus\",\"mista\",\"mista\",\"mista\",\"onibus\",\"mista\",\"mista\",\"mista\",\"onibus\",\"mista\",\"mista\",\"mista\",\"onibus\",\"mista\",\"mista\",\"mista\",\"onibus\",\"mista\",\"mista\",\"mista\",\"mista\",\"mista\",\"mista\",\"mista\",\"onibus\",\"mista\",\"mista\",\"onibus\",\"mista\",\"mista\",\"mista\",\"mista\",\"mista\",\"mista\",\"mista\",\"mista\",\"mista\",\"mista\",\"mista\",\"mista\",\"onibus\",\"mista\",\"mista\",\"onibus\",\"mista\",\"mista\",\"mista\",\"mista\",\"mista\",\"onibus\",\"mista\",\"mista\",\"mista\",\"mista\",\"mista\",\"mista\",\"mista\",\"mista\",\"mista\",\"mista\",\"mista\",\"mista\",\"mista\",\"mista\",\"mista\",\"onibus\",\"mista\",\"mista\",\"mista\",\"onibus\",\"onibus\",\"mista\",\"mista\",\"onibus\",\"mista\",\"mista\",\"onibus\",\"mista\",\"mista\",\"onibus\",\"mista\",\"mista\"]\n",
    "\n",
    "num_faixa = [\"104261\",\"104262\",\"104263\",\"104264\",\"104331\",\"104332\",\"104333\",\"104334\",\"104335\",\"104821\",\"104822\",\"104823\",\"104824\",\"104825\",\"104841\",\"104842\",\"104843\",\"104844\",\"104845\",\"104881\",\"104882\",\"104883\",\"104884\",\"104921\",\"104922\",\"104923\",\"105001\",\"105002\",\"105003\",\"105071\",\"105072\",\"105091\",\"105092\",\"105093\",\"105094\",\"105161\",\"105162\",\"105163\",\"105164\",\"105211\",\"105212\",\"105213\",\"105281\",\"105282\",\"105283\",\"105284\",\"105311\",\"105312\",\"105313\",\"105314\",\"105541\",\"105542\",\"105543\",\"105561\",\"105562\",\"105563\",\"105564\",\"105571\",\"105572\",\"105573\",\"105574\",\"105881\",\"105882\",\"105883\",\"105884\",\"105941\",\"105942\",\"105943\",\"105951\",\"105952\",\"105953\",\"106051\",\"106052\",\"106053\",\"106131\",\"106132\",\"106133\",\"106134\",\"106135\",\"106191\",\"106192\",\"106193\",\"106221\",\"106222\",\"106223\",\"106321\",\"106322\",\"106323\",\"106341\",\"106342\",\"106343\",\"106371\",\"106372\",\"106373\",\"106374\",\"106375\",\"106376\",\"106441\",\"106442\",\"106443\",\"106444\",\"106445\",\"106446\",\"106521\",\"106522\",\"106523\",\"106524\",\"106671\",\"106672\",\"106673\",\"106674\",\"106791\",\"106792\",\"106793\",\"106801\",\"106802\",\"106803\",\"107481\",\"107482\",\"107483\",\"107611\",\"107612\",\"107613\"]\n",
    "\n",
    "mapfaixas = faz_dict(num_faixa,tip_faixa)\n",
    "c[\"Fx_tipo\"] = c[\"NumAg_fx\"].map(mapfaixas)\n",
    "\n",
    "c =c[[\"Data\", \"dia_sem\", \"Periodo\", \"Numero Agrupado\", \"Faixa\", \"NumAg_fx\",\"Fx_tipo\",\"Eixo\",\"Especie\",\"Volume\", \"Vel_media\", \"Vel_mediana\", \"Vel_desvpad\", \"Ocu_media\", \"Ocu_mediana\", \"Ocu_desvpad\"]] \n",
    "display(c.shape[1], c.head())\n",
    "\n",
    "# caso queria fazer alguma verificação mais específica\n",
    "# c.loc[  (c[\"Numero Agrupado\"] == \"10556\") & (c[\"Faixa\"] == 2)  ]"
   ]
  },
  {
   "source": [
    "# c esta num bom estado para juntar com a chuva"
   ],
   "cell_type": "markdown",
   "metadata": {}
  },
  {
   "cell_type": "code",
   "execution_count": 43,
   "metadata": {},
   "outputs": [],
   "source": [
    "b = c.sample(frac=0.1)\n",
    "b.reset_index(drop=True, inplace=True)\n"
   ]
  },
  {
   "cell_type": "code",
   "execution_count": 44,
   "metadata": {},
   "outputs": [
    {
     "output_type": "execute_result",
     "data": {
      "text/plain": [
       "Empty DataFrame\n",
       "Columns: [Data, dia_sem, Periodo, Numero Agrupado, Faixa, NumAg_fx, Fx_tipo, Eixo, Especie, Volume, Vel_media, Vel_mediana, Vel_desvpad, Ocu_media, Ocu_mediana, Ocu_desvpad]\n",
       "Index: []"
      ],
      "text/html": "<div>\n<style scoped>\n    .dataframe tbody tr th:only-of-type {\n        vertical-align: middle;\n    }\n\n    .dataframe tbody tr th {\n        vertical-align: top;\n    }\n\n    .dataframe thead th {\n        text-align: right;\n    }\n</style>\n<table border=\"1\" class=\"dataframe\">\n  <thead>\n    <tr style=\"text-align: right;\">\n      <th></th>\n      <th>Data</th>\n      <th>dia_sem</th>\n      <th>Periodo</th>\n      <th>Numero Agrupado</th>\n      <th>Faixa</th>\n      <th>NumAg_fx</th>\n      <th>Fx_tipo</th>\n      <th>Eixo</th>\n      <th>Especie</th>\n      <th>Volume</th>\n      <th>Vel_media</th>\n      <th>Vel_mediana</th>\n      <th>Vel_desvpad</th>\n      <th>Ocu_media</th>\n      <th>Ocu_mediana</th>\n      <th>Ocu_desvpad</th>\n    </tr>\n  </thead>\n  <tbody>\n  </tbody>\n</table>\n</div>"
     },
     "metadata": {},
     "execution_count": 44
    }
   ],
   "source": [
    "b.loc[(b[\"Numero Agrupado\"]==\"10488\")\n",
    "    & (b[\"Data\"] == \"2018-01-03 00:00:00\")\n",
    "].sort_values(by=\"Data\")\n"
   ]
  },
  {
   "cell_type": "code",
   "execution_count": 45,
   "metadata": {},
   "outputs": [
    {
     "output_type": "execute_result",
     "data": {
      "text/plain": [
       "                    Data  dia_sem Periodo  Numero Agrupado  Faixa  NumAg_fx  \\\n",
       "2112 2018-01-03 05:00:00        2      P2          10488.0      1  10488.01   \n",
       "212  2018-01-03 17:00:00        2      P6          10488.0      3  10488.03   \n",
       "2478 2018-01-03 14:35:00        2      P5          10488.0      4  10488.04   \n",
       "2467 2018-01-03 08:25:00        2      P3          10488.0      3  10488.03   \n",
       "2450 2018-01-03 09:25:00        2      P3          10488.0      3  10488.03   \n",
       "...                  ...      ...     ...              ...    ...       ...   \n",
       "224  2018-01-03 02:45:00        2      P1          10761.0      2  10761.02   \n",
       "357  2018-01-03 13:00:00        2      P4          10761.0      2  10761.02   \n",
       "61   2018-01-03 22:35:00        2      P7          10761.0      2  10761.02   \n",
       "518  2018-01-03 18:15:00        2      P6          10761.0      3  10761.03   \n",
       "1428 2018-01-03 20:55:00        2      P7          10761.0      3  10761.03   \n",
       "\n",
       "     Fx_tipo Eixo Especie  Volume   Vel_media  Vel_mediana  Vel_desvpad  \\\n",
       "2112     NaN  NaN       1       1  111.000000        111.0          NaN   \n",
       "212      NaN  NaN       0      18   85.500000         87.5    22.210888   \n",
       "2478     NaN  NaN       3       2   57.000000         57.0    33.941125   \n",
       "2467     NaN  NaN       2       2   87.500000         87.5     6.363961   \n",
       "2450     NaN  NaN       1      53  104.490566        108.0    20.487916   \n",
       "...      ...  ...     ...     ...         ...          ...          ...   \n",
       "224      NaN  NaN       0       1  119.000000        119.0          NaN   \n",
       "357      NaN  NaN       0      20  116.700000        118.0    17.244679   \n",
       "61       NaN  NaN       3       1   86.000000         86.0          NaN   \n",
       "518      NaN  NaN       1      58   83.724138         78.0    15.766713   \n",
       "1428     NaN  NaN       3       1   94.000000         94.0          NaN   \n",
       "\n",
       "        Ocu_media  Ocu_mediana  Ocu_desvpad  \n",
       "2112   600.000000        600.0          NaN  \n",
       "212    381.111111        359.5   156.679474  \n",
       "2478  2076.500000       2076.5  1423.405951  \n",
       "2467  1234.500000       1234.5    14.849242  \n",
       "2450   809.037736        741.0   220.025083  \n",
       "...           ...          ...          ...  \n",
       "224    360.000000        360.0          NaN  \n",
       "357    275.050000        281.0    52.873708  \n",
       "61    1659.000000       1659.0          NaN  \n",
       "518   1027.965517       1055.5   181.031156  \n",
       "1428   946.000000        946.0          NaN  \n",
       "\n",
       "[4226 rows x 16 columns]"
      ],
      "text/html": "<div>\n<style scoped>\n    .dataframe tbody tr th:only-of-type {\n        vertical-align: middle;\n    }\n\n    .dataframe tbody tr th {\n        vertical-align: top;\n    }\n\n    .dataframe thead th {\n        text-align: right;\n    }\n</style>\n<table border=\"1\" class=\"dataframe\">\n  <thead>\n    <tr style=\"text-align: right;\">\n      <th></th>\n      <th>Data</th>\n      <th>dia_sem</th>\n      <th>Periodo</th>\n      <th>Numero Agrupado</th>\n      <th>Faixa</th>\n      <th>NumAg_fx</th>\n      <th>Fx_tipo</th>\n      <th>Eixo</th>\n      <th>Especie</th>\n      <th>Volume</th>\n      <th>Vel_media</th>\n      <th>Vel_mediana</th>\n      <th>Vel_desvpad</th>\n      <th>Ocu_media</th>\n      <th>Ocu_mediana</th>\n      <th>Ocu_desvpad</th>\n    </tr>\n  </thead>\n  <tbody>\n    <tr>\n      <th>2112</th>\n      <td>2018-01-03 05:00:00</td>\n      <td>2</td>\n      <td>P2</td>\n      <td>10488.0</td>\n      <td>1</td>\n      <td>10488.01</td>\n      <td>NaN</td>\n      <td>NaN</td>\n      <td>1</td>\n      <td>1</td>\n      <td>111.000000</td>\n      <td>111.0</td>\n      <td>NaN</td>\n      <td>600.000000</td>\n      <td>600.0</td>\n      <td>NaN</td>\n    </tr>\n    <tr>\n      <th>212</th>\n      <td>2018-01-03 17:00:00</td>\n      <td>2</td>\n      <td>P6</td>\n      <td>10488.0</td>\n      <td>3</td>\n      <td>10488.03</td>\n      <td>NaN</td>\n      <td>NaN</td>\n      <td>0</td>\n      <td>18</td>\n      <td>85.500000</td>\n      <td>87.5</td>\n      <td>22.210888</td>\n      <td>381.111111</td>\n      <td>359.5</td>\n      <td>156.679474</td>\n    </tr>\n    <tr>\n      <th>2478</th>\n      <td>2018-01-03 14:35:00</td>\n      <td>2</td>\n      <td>P5</td>\n      <td>10488.0</td>\n      <td>4</td>\n      <td>10488.04</td>\n      <td>NaN</td>\n      <td>NaN</td>\n      <td>3</td>\n      <td>2</td>\n      <td>57.000000</td>\n      <td>57.0</td>\n      <td>33.941125</td>\n      <td>2076.500000</td>\n      <td>2076.5</td>\n      <td>1423.405951</td>\n    </tr>\n    <tr>\n      <th>2467</th>\n      <td>2018-01-03 08:25:00</td>\n      <td>2</td>\n      <td>P3</td>\n      <td>10488.0</td>\n      <td>3</td>\n      <td>10488.03</td>\n      <td>NaN</td>\n      <td>NaN</td>\n      <td>2</td>\n      <td>2</td>\n      <td>87.500000</td>\n      <td>87.5</td>\n      <td>6.363961</td>\n      <td>1234.500000</td>\n      <td>1234.5</td>\n      <td>14.849242</td>\n    </tr>\n    <tr>\n      <th>2450</th>\n      <td>2018-01-03 09:25:00</td>\n      <td>2</td>\n      <td>P3</td>\n      <td>10488.0</td>\n      <td>3</td>\n      <td>10488.03</td>\n      <td>NaN</td>\n      <td>NaN</td>\n      <td>1</td>\n      <td>53</td>\n      <td>104.490566</td>\n      <td>108.0</td>\n      <td>20.487916</td>\n      <td>809.037736</td>\n      <td>741.0</td>\n      <td>220.025083</td>\n    </tr>\n    <tr>\n      <th>...</th>\n      <td>...</td>\n      <td>...</td>\n      <td>...</td>\n      <td>...</td>\n      <td>...</td>\n      <td>...</td>\n      <td>...</td>\n      <td>...</td>\n      <td>...</td>\n      <td>...</td>\n      <td>...</td>\n      <td>...</td>\n      <td>...</td>\n      <td>...</td>\n      <td>...</td>\n      <td>...</td>\n    </tr>\n    <tr>\n      <th>224</th>\n      <td>2018-01-03 02:45:00</td>\n      <td>2</td>\n      <td>P1</td>\n      <td>10761.0</td>\n      <td>2</td>\n      <td>10761.02</td>\n      <td>NaN</td>\n      <td>NaN</td>\n      <td>0</td>\n      <td>1</td>\n      <td>119.000000</td>\n      <td>119.0</td>\n      <td>NaN</td>\n      <td>360.000000</td>\n      <td>360.0</td>\n      <td>NaN</td>\n    </tr>\n    <tr>\n      <th>357</th>\n      <td>2018-01-03 13:00:00</td>\n      <td>2</td>\n      <td>P4</td>\n      <td>10761.0</td>\n      <td>2</td>\n      <td>10761.02</td>\n      <td>NaN</td>\n      <td>NaN</td>\n      <td>0</td>\n      <td>20</td>\n      <td>116.700000</td>\n      <td>118.0</td>\n      <td>17.244679</td>\n      <td>275.050000</td>\n      <td>281.0</td>\n      <td>52.873708</td>\n    </tr>\n    <tr>\n      <th>61</th>\n      <td>2018-01-03 22:35:00</td>\n      <td>2</td>\n      <td>P7</td>\n      <td>10761.0</td>\n      <td>2</td>\n      <td>10761.02</td>\n      <td>NaN</td>\n      <td>NaN</td>\n      <td>3</td>\n      <td>1</td>\n      <td>86.000000</td>\n      <td>86.0</td>\n      <td>NaN</td>\n      <td>1659.000000</td>\n      <td>1659.0</td>\n      <td>NaN</td>\n    </tr>\n    <tr>\n      <th>518</th>\n      <td>2018-01-03 18:15:00</td>\n      <td>2</td>\n      <td>P6</td>\n      <td>10761.0</td>\n      <td>3</td>\n      <td>10761.03</td>\n      <td>NaN</td>\n      <td>NaN</td>\n      <td>1</td>\n      <td>58</td>\n      <td>83.724138</td>\n      <td>78.0</td>\n      <td>15.766713</td>\n      <td>1027.965517</td>\n      <td>1055.5</td>\n      <td>181.031156</td>\n    </tr>\n    <tr>\n      <th>1428</th>\n      <td>2018-01-03 20:55:00</td>\n      <td>2</td>\n      <td>P7</td>\n      <td>10761.0</td>\n      <td>3</td>\n      <td>10761.03</td>\n      <td>NaN</td>\n      <td>NaN</td>\n      <td>3</td>\n      <td>1</td>\n      <td>94.000000</td>\n      <td>94.0</td>\n      <td>NaN</td>\n      <td>946.000000</td>\n      <td>946.0</td>\n      <td>NaN</td>\n    </tr>\n  </tbody>\n</table>\n<p>4226 rows × 16 columns</p>\n</div>"
     },
     "metadata": {},
     "execution_count": 45
    }
   ],
   "source": [
    "b.sort_values(by=\"Numero Agrupado\")"
   ]
  },
  {
   "cell_type": "code",
   "execution_count": 46,
   "metadata": {},
   "outputs": [
    {
     "output_type": "execute_result",
     "data": {
      "text/plain": [
       "(1, 16)"
      ]
     },
     "metadata": {},
     "execution_count": 46
    }
   ],
   "source": [
    "b.loc[    (b['Data'] > \"2018-01-03 19:55:00\") \n",
    "        & (b['Data'] <= \"2018-01-03 20:00:00\") \n",
    "        & (b[\"Numero Agrupado\"] == 10637)\n",
    "  ].shape # (15 linhas e 14 colunas)\n",
    "\n",
    "b.loc[    (b['Data'] > \"2018-01-03 20:00:00\") \n",
    "        & (b['Data'] <= \"2018-01-03 20:05:00\") \n",
    "        & (b[\"Numero Agrupado\"] == 10637)\n",
    "  ].shape # (21 linhas e 14 colunas)\n",
    "\n"
   ]
  },
  {
   "cell_type": "code",
   "execution_count": 47,
   "metadata": {},
   "outputs": [
    {
     "output_type": "execute_result",
     "data": {
      "text/plain": [
       "                    DATA  JB   VM  CGE   ST  PI  IP  BT  LA  SA\n",
       "0    2018-03-01 00:05:00   0    0    0    0   0   0   0   0   0\n",
       "1    2018-03-01 00:10:00   0    0    0    0   0   0   0   0   0\n",
       "2    2018-03-01 00:15:00   0    0    0    0   0   0   0   0   0\n",
       "3    2018-03-01 00:20:00   0    0    0    0   0   0   0   0   0\n",
       "4    2018-03-01 00:25:00   0    0    0    0   0   0   0   0   0\n",
       "...                  ...  ..  ...  ...  ...  ..  ..  ..  ..  ..\n",
       "8923 2018-03-31 23:40:00   0    0    0    0   0   0   0   0   0\n",
       "8924 2018-03-31 23:45:00   0    0  125  125   0   0   0   0   0\n",
       "8925 2018-03-31 23:50:00   0    0  125  125   0   0   0   0   0\n",
       "8926 2018-03-31 23:55:00   0  100    0    0   0   0   0   0   0\n",
       "8927 2018-04-01 00:00:00   0  100    0    0   0   0   0   0   0\n",
       "\n",
       "[8928 rows x 10 columns]"
      ],
      "text/html": "<div>\n<style scoped>\n    .dataframe tbody tr th:only-of-type {\n        vertical-align: middle;\n    }\n\n    .dataframe tbody tr th {\n        vertical-align: top;\n    }\n\n    .dataframe thead th {\n        text-align: right;\n    }\n</style>\n<table border=\"1\" class=\"dataframe\">\n  <thead>\n    <tr style=\"text-align: right;\">\n      <th></th>\n      <th>DATA</th>\n      <th>JB</th>\n      <th>VM</th>\n      <th>CGE</th>\n      <th>ST</th>\n      <th>PI</th>\n      <th>IP</th>\n      <th>BT</th>\n      <th>LA</th>\n      <th>SA</th>\n    </tr>\n  </thead>\n  <tbody>\n    <tr>\n      <th>0</th>\n      <td>2018-03-01 00:05:00</td>\n      <td>0</td>\n      <td>0</td>\n      <td>0</td>\n      <td>0</td>\n      <td>0</td>\n      <td>0</td>\n      <td>0</td>\n      <td>0</td>\n      <td>0</td>\n    </tr>\n    <tr>\n      <th>1</th>\n      <td>2018-03-01 00:10:00</td>\n      <td>0</td>\n      <td>0</td>\n      <td>0</td>\n      <td>0</td>\n      <td>0</td>\n      <td>0</td>\n      <td>0</td>\n      <td>0</td>\n      <td>0</td>\n    </tr>\n    <tr>\n      <th>2</th>\n      <td>2018-03-01 00:15:00</td>\n      <td>0</td>\n      <td>0</td>\n      <td>0</td>\n      <td>0</td>\n      <td>0</td>\n      <td>0</td>\n      <td>0</td>\n      <td>0</td>\n      <td>0</td>\n    </tr>\n    <tr>\n      <th>3</th>\n      <td>2018-03-01 00:20:00</td>\n      <td>0</td>\n      <td>0</td>\n      <td>0</td>\n      <td>0</td>\n      <td>0</td>\n      <td>0</td>\n      <td>0</td>\n      <td>0</td>\n      <td>0</td>\n    </tr>\n    <tr>\n      <th>4</th>\n      <td>2018-03-01 00:25:00</td>\n      <td>0</td>\n      <td>0</td>\n      <td>0</td>\n      <td>0</td>\n      <td>0</td>\n      <td>0</td>\n      <td>0</td>\n      <td>0</td>\n      <td>0</td>\n    </tr>\n    <tr>\n      <th>...</th>\n      <td>...</td>\n      <td>...</td>\n      <td>...</td>\n      <td>...</td>\n      <td>...</td>\n      <td>...</td>\n      <td>...</td>\n      <td>...</td>\n      <td>...</td>\n      <td>...</td>\n    </tr>\n    <tr>\n      <th>8923</th>\n      <td>2018-03-31 23:40:00</td>\n      <td>0</td>\n      <td>0</td>\n      <td>0</td>\n      <td>0</td>\n      <td>0</td>\n      <td>0</td>\n      <td>0</td>\n      <td>0</td>\n      <td>0</td>\n    </tr>\n    <tr>\n      <th>8924</th>\n      <td>2018-03-31 23:45:00</td>\n      <td>0</td>\n      <td>0</td>\n      <td>125</td>\n      <td>125</td>\n      <td>0</td>\n      <td>0</td>\n      <td>0</td>\n      <td>0</td>\n      <td>0</td>\n    </tr>\n    <tr>\n      <th>8925</th>\n      <td>2018-03-31 23:50:00</td>\n      <td>0</td>\n      <td>0</td>\n      <td>125</td>\n      <td>125</td>\n      <td>0</td>\n      <td>0</td>\n      <td>0</td>\n      <td>0</td>\n      <td>0</td>\n    </tr>\n    <tr>\n      <th>8926</th>\n      <td>2018-03-31 23:55:00</td>\n      <td>0</td>\n      <td>100</td>\n      <td>0</td>\n      <td>0</td>\n      <td>0</td>\n      <td>0</td>\n      <td>0</td>\n      <td>0</td>\n      <td>0</td>\n    </tr>\n    <tr>\n      <th>8927</th>\n      <td>2018-04-01 00:00:00</td>\n      <td>0</td>\n      <td>100</td>\n      <td>0</td>\n      <td>0</td>\n      <td>0</td>\n      <td>0</td>\n      <td>0</td>\n      <td>0</td>\n      <td>0</td>\n    </tr>\n  </tbody>\n</table>\n<p>8928 rows × 10 columns</p>\n</div>"
     },
     "metadata": {},
     "execution_count": 47
    }
   ],
   "source": [
    "chuva = pd.read_excel(r\"D:\\Users\\guilh\\Documents\\[POLI]_6_Semestre\\IC\\2021\\codigos olimpio\\Radar X Chuva.xlsx\", sheet_name = \"Chuva\")\n",
    "chuva[\"DATA\"] = pd.to_datetime(chuva[\"DATA\"]).astype(\"datetime64[s]\")\n",
    "\n",
    "chuva = chuva.loc[ (chuva[\"DATA\"] > \"2018-03-01\") & (chuva[\"DATA\"] <= \"2018-04-01\")]\n",
    "chuva.reset_index(drop=True, inplace=True)\n",
    "chuva"
   ]
  },
  {
   "cell_type": "code",
   "execution_count": 48,
   "metadata": {},
   "outputs": [
    {
     "output_type": "execute_result",
     "data": {
      "text/plain": [
       "                    DATA  PI\n",
       "0    2018-03-01 00:05:00   0\n",
       "1    2018-03-01 00:10:00   0\n",
       "2    2018-03-01 00:15:00   0\n",
       "3    2018-03-01 00:20:00   0\n",
       "4    2018-03-01 00:25:00   0\n",
       "...                  ...  ..\n",
       "8923 2018-03-31 23:40:00   0\n",
       "8924 2018-03-31 23:45:00   0\n",
       "8925 2018-03-31 23:50:00   0\n",
       "8926 2018-03-31 23:55:00   0\n",
       "8927 2018-04-01 00:00:00   0\n",
       "\n",
       "[8928 rows x 2 columns]"
      ],
      "text/html": "<div>\n<style scoped>\n    .dataframe tbody tr th:only-of-type {\n        vertical-align: middle;\n    }\n\n    .dataframe tbody tr th {\n        vertical-align: top;\n    }\n\n    .dataframe thead th {\n        text-align: right;\n    }\n</style>\n<table border=\"1\" class=\"dataframe\">\n  <thead>\n    <tr style=\"text-align: right;\">\n      <th></th>\n      <th>DATA</th>\n      <th>PI</th>\n    </tr>\n  </thead>\n  <tbody>\n    <tr>\n      <th>0</th>\n      <td>2018-03-01 00:05:00</td>\n      <td>0</td>\n    </tr>\n    <tr>\n      <th>1</th>\n      <td>2018-03-01 00:10:00</td>\n      <td>0</td>\n    </tr>\n    <tr>\n      <th>2</th>\n      <td>2018-03-01 00:15:00</td>\n      <td>0</td>\n    </tr>\n    <tr>\n      <th>3</th>\n      <td>2018-03-01 00:20:00</td>\n      <td>0</td>\n    </tr>\n    <tr>\n      <th>4</th>\n      <td>2018-03-01 00:25:00</td>\n      <td>0</td>\n    </tr>\n    <tr>\n      <th>...</th>\n      <td>...</td>\n      <td>...</td>\n    </tr>\n    <tr>\n      <th>8923</th>\n      <td>2018-03-31 23:40:00</td>\n      <td>0</td>\n    </tr>\n    <tr>\n      <th>8924</th>\n      <td>2018-03-31 23:45:00</td>\n      <td>0</td>\n    </tr>\n    <tr>\n      <th>8925</th>\n      <td>2018-03-31 23:50:00</td>\n      <td>0</td>\n    </tr>\n    <tr>\n      <th>8926</th>\n      <td>2018-03-31 23:55:00</td>\n      <td>0</td>\n    </tr>\n    <tr>\n      <th>8927</th>\n      <td>2018-04-01 00:00:00</td>\n      <td>0</td>\n    </tr>\n  </tbody>\n</table>\n<p>8928 rows × 2 columns</p>\n</div>"
     },
     "metadata": {},
     "execution_count": 48
    }
   ],
   "source": [
    "PI = chuva.loc[:,[\"DATA\",\"PI\"]]\n",
    "# PI[\"DATA\"].astype(\"datetime64[s]\")\n",
    "# datetime.datetime.today().replace(microsecond=0)\n",
    "PI"
   ]
  },
  {
   "cell_type": "code",
   "execution_count": 49,
   "metadata": {},
   "outputs": [],
   "source": [
    "b['Estacao Meteorol'] = b[\"Numero Agrupado\"].map(mapa_estacoes)\n",
    "b_copia = b.copy()\n",
    "# b_copia.dropna(axis=0, how=\"any\", inplace=True)\n",
    "# b_copia.reset_index(drop=True, inplace=True)"
   ]
  },
  {
   "cell_type": "code",
   "execution_count": 52,
   "metadata": {},
   "outputs": [
    {
     "output_type": "execute_result",
     "data": {
      "text/plain": [
       "                    Data  dia_sem Periodo  Numero Agrupado  Faixa  NumAg_fx  \\\n",
       "4163 2018-01-03 00:05:00        2      P1          10652.0      1  10652.01   \n",
       "1992 2018-01-03 00:10:00        2      P1          10652.0      1  10652.01   \n",
       "3315 2018-01-03 00:15:00        2      P1          10652.0      4  10652.04   \n",
       "757  2018-01-03 00:15:00        2      P1          10652.0      1  10652.01   \n",
       "3289 2018-01-03 00:25:00        2      P1          10652.0      3  10652.03   \n",
       "...                  ...      ...     ...              ...    ...       ...   \n",
       "3645 2018-01-03 23:30:00        2      P7          10652.0      4  10652.04   \n",
       "1799 2018-01-03 23:35:00        2      P7          10652.0      4  10652.04   \n",
       "808  2018-01-03 23:35:00        2      P7          10652.0      4  10652.04   \n",
       "2153 2018-01-03 23:45:00        2      P7          10652.0      3  10652.03   \n",
       "4130 2018-01-03 23:50:00        2      P7          10652.0      4  10652.04   \n",
       "\n",
       "     Fx_tipo Eixo Especie  Volume   Vel_media  Vel_mediana  Vel_desvpad  \\\n",
       "4163     NaN  NaN       1      39  113.974359        117.0    11.565573   \n",
       "1992     NaN  NaN       1      41  109.707317        111.0    17.619937   \n",
       "3315     NaN  NaN       1      24  101.791667        103.0    12.082971   \n",
       "757      NaN  NaN       0       1  100.000000        100.0          NaN   \n",
       "3289     NaN  NaN       1      34  118.735294        117.0    21.828962   \n",
       "...      ...  ...     ...     ...         ...          ...          ...   \n",
       "3645     NaN  NaN       2       1  119.000000        119.0          NaN   \n",
       "1799     NaN  NaN       1       7  113.571429        117.0    18.383481   \n",
       "808      NaN  NaN       0       1  111.000000        111.0          NaN   \n",
       "2153     NaN  NaN       0       2  128.000000        128.0    15.556349   \n",
       "4130     NaN  NaN       2       2  112.500000        112.5     6.363961   \n",
       "\n",
       "        Ocu_media  Ocu_mediana  Ocu_desvpad Estacao Meteorol  \n",
       "4163   735.384615        740.0    86.059531               PI  \n",
       "1992   777.536585        750.0   189.792926               PI  \n",
       "3315   837.166667        803.0   110.867593               PI  \n",
       "757    430.000000        430.0          NaN               PI  \n",
       "3289   711.529412        718.5    94.059696               PI  \n",
       "...           ...          ...          ...              ...  \n",
       "3645  2193.000000       2193.0          NaN               PI  \n",
       "1799   869.857143        715.0   462.548891               PI  \n",
       "808    361.000000        361.0          NaN               PI  \n",
       "2153   226.000000        226.0     4.242641               PI  \n",
       "4130  1493.000000       1493.0    56.568542               PI  \n",
       "\n",
       "[261 rows x 17 columns]"
      ],
      "text/html": "<div>\n<style scoped>\n    .dataframe tbody tr th:only-of-type {\n        vertical-align: middle;\n    }\n\n    .dataframe tbody tr th {\n        vertical-align: top;\n    }\n\n    .dataframe thead th {\n        text-align: right;\n    }\n</style>\n<table border=\"1\" class=\"dataframe\">\n  <thead>\n    <tr style=\"text-align: right;\">\n      <th></th>\n      <th>Data</th>\n      <th>dia_sem</th>\n      <th>Periodo</th>\n      <th>Numero Agrupado</th>\n      <th>Faixa</th>\n      <th>NumAg_fx</th>\n      <th>Fx_tipo</th>\n      <th>Eixo</th>\n      <th>Especie</th>\n      <th>Volume</th>\n      <th>Vel_media</th>\n      <th>Vel_mediana</th>\n      <th>Vel_desvpad</th>\n      <th>Ocu_media</th>\n      <th>Ocu_mediana</th>\n      <th>Ocu_desvpad</th>\n      <th>Estacao Meteorol</th>\n    </tr>\n  </thead>\n  <tbody>\n    <tr>\n      <th>4163</th>\n      <td>2018-01-03 00:05:00</td>\n      <td>2</td>\n      <td>P1</td>\n      <td>10652.0</td>\n      <td>1</td>\n      <td>10652.01</td>\n      <td>NaN</td>\n      <td>NaN</td>\n      <td>1</td>\n      <td>39</td>\n      <td>113.974359</td>\n      <td>117.0</td>\n      <td>11.565573</td>\n      <td>735.384615</td>\n      <td>740.0</td>\n      <td>86.059531</td>\n      <td>PI</td>\n    </tr>\n    <tr>\n      <th>1992</th>\n      <td>2018-01-03 00:10:00</td>\n      <td>2</td>\n      <td>P1</td>\n      <td>10652.0</td>\n      <td>1</td>\n      <td>10652.01</td>\n      <td>NaN</td>\n      <td>NaN</td>\n      <td>1</td>\n      <td>41</td>\n      <td>109.707317</td>\n      <td>111.0</td>\n      <td>17.619937</td>\n      <td>777.536585</td>\n      <td>750.0</td>\n      <td>189.792926</td>\n      <td>PI</td>\n    </tr>\n    <tr>\n      <th>3315</th>\n      <td>2018-01-03 00:15:00</td>\n      <td>2</td>\n      <td>P1</td>\n      <td>10652.0</td>\n      <td>4</td>\n      <td>10652.04</td>\n      <td>NaN</td>\n      <td>NaN</td>\n      <td>1</td>\n      <td>24</td>\n      <td>101.791667</td>\n      <td>103.0</td>\n      <td>12.082971</td>\n      <td>837.166667</td>\n      <td>803.0</td>\n      <td>110.867593</td>\n      <td>PI</td>\n    </tr>\n    <tr>\n      <th>757</th>\n      <td>2018-01-03 00:15:00</td>\n      <td>2</td>\n      <td>P1</td>\n      <td>10652.0</td>\n      <td>1</td>\n      <td>10652.01</td>\n      <td>NaN</td>\n      <td>NaN</td>\n      <td>0</td>\n      <td>1</td>\n      <td>100.000000</td>\n      <td>100.0</td>\n      <td>NaN</td>\n      <td>430.000000</td>\n      <td>430.0</td>\n      <td>NaN</td>\n      <td>PI</td>\n    </tr>\n    <tr>\n      <th>3289</th>\n      <td>2018-01-03 00:25:00</td>\n      <td>2</td>\n      <td>P1</td>\n      <td>10652.0</td>\n      <td>3</td>\n      <td>10652.03</td>\n      <td>NaN</td>\n      <td>NaN</td>\n      <td>1</td>\n      <td>34</td>\n      <td>118.735294</td>\n      <td>117.0</td>\n      <td>21.828962</td>\n      <td>711.529412</td>\n      <td>718.5</td>\n      <td>94.059696</td>\n      <td>PI</td>\n    </tr>\n    <tr>\n      <th>...</th>\n      <td>...</td>\n      <td>...</td>\n      <td>...</td>\n      <td>...</td>\n      <td>...</td>\n      <td>...</td>\n      <td>...</td>\n      <td>...</td>\n      <td>...</td>\n      <td>...</td>\n      <td>...</td>\n      <td>...</td>\n      <td>...</td>\n      <td>...</td>\n      <td>...</td>\n      <td>...</td>\n      <td>...</td>\n    </tr>\n    <tr>\n      <th>3645</th>\n      <td>2018-01-03 23:30:00</td>\n      <td>2</td>\n      <td>P7</td>\n      <td>10652.0</td>\n      <td>4</td>\n      <td>10652.04</td>\n      <td>NaN</td>\n      <td>NaN</td>\n      <td>2</td>\n      <td>1</td>\n      <td>119.000000</td>\n      <td>119.0</td>\n      <td>NaN</td>\n      <td>2193.000000</td>\n      <td>2193.0</td>\n      <td>NaN</td>\n      <td>PI</td>\n    </tr>\n    <tr>\n      <th>1799</th>\n      <td>2018-01-03 23:35:00</td>\n      <td>2</td>\n      <td>P7</td>\n      <td>10652.0</td>\n      <td>4</td>\n      <td>10652.04</td>\n      <td>NaN</td>\n      <td>NaN</td>\n      <td>1</td>\n      <td>7</td>\n      <td>113.571429</td>\n      <td>117.0</td>\n      <td>18.383481</td>\n      <td>869.857143</td>\n      <td>715.0</td>\n      <td>462.548891</td>\n      <td>PI</td>\n    </tr>\n    <tr>\n      <th>808</th>\n      <td>2018-01-03 23:35:00</td>\n      <td>2</td>\n      <td>P7</td>\n      <td>10652.0</td>\n      <td>4</td>\n      <td>10652.04</td>\n      <td>NaN</td>\n      <td>NaN</td>\n      <td>0</td>\n      <td>1</td>\n      <td>111.000000</td>\n      <td>111.0</td>\n      <td>NaN</td>\n      <td>361.000000</td>\n      <td>361.0</td>\n      <td>NaN</td>\n      <td>PI</td>\n    </tr>\n    <tr>\n      <th>2153</th>\n      <td>2018-01-03 23:45:00</td>\n      <td>2</td>\n      <td>P7</td>\n      <td>10652.0</td>\n      <td>3</td>\n      <td>10652.03</td>\n      <td>NaN</td>\n      <td>NaN</td>\n      <td>0</td>\n      <td>2</td>\n      <td>128.000000</td>\n      <td>128.0</td>\n      <td>15.556349</td>\n      <td>226.000000</td>\n      <td>226.0</td>\n      <td>4.242641</td>\n      <td>PI</td>\n    </tr>\n    <tr>\n      <th>4130</th>\n      <td>2018-01-03 23:50:00</td>\n      <td>2</td>\n      <td>P7</td>\n      <td>10652.0</td>\n      <td>4</td>\n      <td>10652.04</td>\n      <td>NaN</td>\n      <td>NaN</td>\n      <td>2</td>\n      <td>2</td>\n      <td>112.500000</td>\n      <td>112.5</td>\n      <td>6.363961</td>\n      <td>1493.000000</td>\n      <td>1493.0</td>\n      <td>56.568542</td>\n      <td>PI</td>\n    </tr>\n  </tbody>\n</table>\n<p>261 rows × 17 columns</p>\n</div>"
     },
     "metadata": {},
     "execution_count": 52
    }
   ],
   "source": [
    "radar_10652 = b_copia[b_copia[\"Numero Agrupado\"] == 10652]\n",
    "radar_10652.sort_values(by=\"Data\")"
   ]
  },
  {
   "cell_type": "code",
   "execution_count": null,
   "metadata": {},
   "outputs": [],
   "source": [
    "data_teste = chuva[\"DATA\"] - timedelta(minutes = 5)\n",
    "data_teste"
   ]
  },
  {
   "cell_type": "code",
   "execution_count": null,
   "metadata": {},
   "outputs": [],
   "source": [
    "# for n in Radares:\n",
    "#     #print(n)\n",
    "\n",
    "#     # Não são todos os IDs de radares que estão presentes em todos os arquivos excel\n",
    "#     # Portanto, os subsets de \"Locais\" que não estao no set são preenchidos com 0\n",
    "#     # foi feito assim para poder usar o mesmo codigo em todos os arquivos, \n",
    "#     # já que uns tem tantos radares que outros nao tem\n",
    "    \n",
    "    \n",
    "#     try: \n",
    "\n",
    "#         a_subset = a.xs((n,0,0), axis = 0) # n é o LOCAL em questao, 0 é so pra pegar \"Carros\"\n",
    "    \n",
    "#     except:\n",
    "    \n",
    "    \n",
    "#         # aqui, quando o radar nao é encontrado, já criamos um subset com zeros\n",
    "#         a_subset = pd.DataFrame({\"Local\":0000, \"Data\":a_subset['Data'], \"Vel_media\":0, \"Vel_mediana\":0, \"Vel_std\":0, \"Volume\":1})\n",
    "\n",
    "#     # para a correlação, os dados tem que estar no seguinte formato:\n",
    "#     # Cada linha é uma variável, no nosso caso, cada radar\n",
    "#     # Cada coluna é uma observação, é cada uma das Vel_media, Vel_std, Vel_mediana\n",
    "#     # Para que a correlação seja valida, cada radar deve ter o mesmo numero de observações\n",
    "#     # Sendo assim, fazemos o preenchimento do DF com a ULTIMA OBSERVAÇÃO\n",
    "\n",
    "\n",
    "#     # O LIMITE pode ser diferente para cada arquivo\n",
    "#     # Os dados que usei so tinham observações de 2h, agrupado em 1min, portanto limite = 120 minutos\n",
    "#     # caso fosse dados de UM dia agrupados em 1min, limite = 1440 (minutos num dia)\n",
    "#     # caso fosse dados de UM dia agrupados em min, limite = 1440/5 = 288\n",
    "    \n",
    "#     while a_subset.shape[0] < limite : #faz preenchimento com o ulitmo para a correlação\n",
    "#         a_subset = a_subset.append(a_subset.tail(1),ignore_index=True) \n"
   ]
  }
 ]
}