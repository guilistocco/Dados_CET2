{
 "metadata": {
  "language_info": {
   "codemirror_mode": {
    "name": "ipython",
    "version": 3
   },
   "file_extension": ".py",
   "mimetype": "text/x-python",
   "name": "python",
   "nbconvert_exporter": "python",
   "pygments_lexer": "ipython3",
   "version": "3.7.6-final"
  },
  "orig_nbformat": 2,
  "kernelspec": {
   "name": "python3",
   "display_name": "Python 3"
  }
 },
 "nbformat": 4,
 "nbformat_minor": 2,
 "cells": [
  {
   "cell_type": "code",
   "execution_count": 1,
   "metadata": {},
   "outputs": [],
   "source": [
    "import pandas as pd\n"
   ]
  },
  {
   "cell_type": "code",
   "execution_count": 24,
   "metadata": {},
   "outputs": [],
   "source": [
    "a = pd.read_csv(r'D:\\\\Users\\\\guilh\\\\Documents\\\\[POLI]_6_Semestre\\\\IC\\\\2021\\\\dados starima\\\\dados starima\\\\29_selec.csv', usecols=[\"Local\"] )"
   ]
  },
  {
   "cell_type": "code",
   "execution_count": 25,
   "metadata": {},
   "outputs": [
    {
     "output_type": "display_data",
     "data": {
      "text/plain": "   Local  Numero Agrupado\n0   5415            10588\n1   5415            10588\n2   5415            10588\n3   5415            10588\n4   5415            10588",
      "text/html": "<div>\n<style scoped>\n    .dataframe tbody tr th:only-of-type {\n        vertical-align: middle;\n    }\n\n    .dataframe tbody tr th {\n        vertical-align: top;\n    }\n\n    .dataframe thead th {\n        text-align: right;\n    }\n</style>\n<table border=\"1\" class=\"dataframe\">\n  <thead>\n    <tr style=\"text-align: right;\">\n      <th></th>\n      <th>Local</th>\n      <th>Numero Agrupado</th>\n    </tr>\n  </thead>\n  <tbody>\n    <tr>\n      <th>0</th>\n      <td>5415</td>\n      <td>10588</td>\n    </tr>\n    <tr>\n      <th>1</th>\n      <td>5415</td>\n      <td>10588</td>\n    </tr>\n    <tr>\n      <th>2</th>\n      <td>5415</td>\n      <td>10588</td>\n    </tr>\n    <tr>\n      <th>3</th>\n      <td>5415</td>\n      <td>10588</td>\n    </tr>\n    <tr>\n      <th>4</th>\n      <td>5415</td>\n      <td>10588</td>\n    </tr>\n  </tbody>\n</table>\n</div>"
     },
     "metadata": {}
    }
   ],
   "source": [
    "rad = [5415,5483,5126,5471,5470,5316,5315,5313,5314,5358,5357,5355,5356,5463,5297,5296,5354,5098,5476,5475,5474,5479,5478,5477,5480,5323,5226,5308,5307,5432,5433,5414,5413,5201,5200,5199,5198,5205,5204,5203,5202,5196,5197,5195,5194,5445,5104,5446,5103,5462,5461,5460,5441,5106,5443,5442,5439,5105,5440,5457,5449,5317,5101,5506,5336,5335,5402,5401]\n",
    "\n",
    "num_agrupado = [10588,10613,10613,10619,10622,10632,10632,10634,10634,10652,10652,10667,10667,10516,10528,10528,10554,10605,10637,10637,10637,10644,10644,10644,10644,10488,10488,10509,10509,10556,10556,10557,10557,10594,10594,10595,10595,10679,10679,10680,10680,10748,10748,10761,10761,10426,10426,10426,10433,10433,10433,10433,10482,10482,10482,10482,10484,10484,10484,10492,10492,10500,10507,10521,10527,10527,10531,10531]\n",
    "\n",
    "# cria um dicionário\n",
    "mapa = {}\n",
    "for i in range(len(num_agrupado)):\n",
    "    mapa[rad[i]] = num_agrupado[i]\n",
    "\n",
    "\n",
    "\n",
    "a['Numero Agrupado'] = a['Local'].map(mapa)\n",
    "display(a.head())\n"
   ]
  },
  {
   "cell_type": "code",
   "execution_count": 38,
   "metadata": {},
   "outputs": [
    {
     "output_type": "execute_result",
     "data": {
      "text/plain": [
       "34"
      ]
     },
     "metadata": {},
     "execution_count": 38
    }
   ],
   "source": [
    "rade = set(num_agrupado)\n",
    "len(rade)"
   ]
  },
  {
   "cell_type": "code",
   "execution_count": null,
   "metadata": {},
   "outputs": [],
   "source": []
  },
  {
   "cell_type": "code",
   "execution_count": 31,
   "metadata": {},
   "outputs": [
    {
     "output_type": "stream",
     "name": "stdout",
     "text": [
      "{10500, 10632, 10761, 10634, 10507, 10637, 10509, 10516, 10644, 10521, 10652, 10527, 10528, 10531, 10667, 10492, 10679, 10680, 10554, 10426, 10556, 10557, 10433, 10588, 10594, 10595, 10605, 10482, 10484, 10613, 10488, 10619, 10748, 10622}\n",
      "34\n",
      "{10500, 10632, 10761, 10634, 10507, 10637, 10509, 10516, 10644, 10521, 10652, 10528, 10531, 10667, 10492, 10679, 10680, 10554, 10426, 10557, 10433, 10588, 10594, 10595, 10605, 10482, 10484, 10613, 10488, 10619, 10748, 10622}\n",
      "32\n"
     ]
    }
   ],
   "source": [
    "set_raiz = set(num_agrupado)\n",
    "print(set_raiz)\n",
    "print(len(set_raiz))\n",
    "\n",
    "Num_a_set = set(a['Numero Agrupado'])\n",
    "\n",
    "print(Num_a_set)\n",
    "print(len(Num_a_set))\n"
   ]
  },
  {
   "cell_type": "code",
   "execution_count": 32,
   "metadata": {},
   "outputs": [
    {
     "output_type": "stream",
     "name": "stdout",
     "text": [
      "32\n2\n"
     ]
    }
   ],
   "source": [
    "print(len(raiz.intersection(Num_a_set)))\n",
    "print(len(raiz-Num_a_set))"
   ]
  },
  {
   "cell_type": "code",
   "execution_count": 42,
   "metadata": {},
   "outputs": [
    {
     "output_type": "stream",
     "name": "stdout",
     "text": [
      "34\n",
      "33\n",
      "{10527}\n",
      "-------\n",
      "34\n",
      "33\n",
      "{10527}\n",
      "-------\n",
      "34\n",
      "33\n",
      "{10527}\n",
      "-------\n",
      "34\n",
      "33\n",
      "{10527}\n",
      "-------\n",
      "34\n",
      "32\n",
      "{10556, 10527}\n",
      "-------\n"
     ]
    }
   ],
   "source": [
    "mapa = {}\n",
    "for i in range(len(num_agrupado)):\n",
    "    mapa[rad[i]] = num_agrupado[i]\n",
    "\n",
    "\n",
    "\n",
    "a['Numero Agrupado'] = a['Local'].map(mapa)\n",
    "\n",
    "\n",
    "for i in [1,8,15,22,29]:\n",
    "\n",
    "    if i < 10:\n",
    "        a = pd.read_csv(r'D:\\\\Users\\\\guilh\\\\Documents\\\\[POLI]_6_Semestre\\\\IC\\\\2021\\\\dados starima\\\\dados starima\\\\0'+ str(i) +'_selec.csv', usecols=[\"Local\"] )\n",
    "\n",
    "    else:\n",
    "        a = pd.read_csv(r'D:\\\\Users\\\\guilh\\\\Documents\\\\[POLI]_6_Semestre\\\\IC\\\\2021\\\\dados starima\\\\dados starima\\\\'+ str(i) +'_selec.csv', usecols=[\"Local\"] )\n",
    "\n",
    "    a['Numero Agrupado'] = a['Local'].map(mapa)\n",
    "\n",
    "    set_raiz = set(num_agrupado)\n",
    "    print(len(set_raiz))\n",
    "\n",
    "    Num_a_set = set(a['Numero Agrupado'])\n",
    "\n",
    "    print(len(Num_a_set))\n",
    "    print(set_raiz - Num_a_set)\n",
    "    print(\"-------\")\n"
   ]
  },
  {
   "cell_type": "code",
   "execution_count": null,
   "metadata": {},
   "outputs": [],
   "source": []
  }
 ]
}