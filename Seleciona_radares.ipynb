{
 "metadata": {
  "language_info": {
   "codemirror_mode": {
    "name": "ipython",
    "version": 3
   },
   "file_extension": ".py",
   "mimetype": "text/x-python",
   "name": "python",
   "nbconvert_exporter": "python",
   "pygments_lexer": "ipython3",
   "version": "3.8.8"
  },
  "orig_nbformat": 2,
  "kernelspec": {
   "name": "python3",
   "display_name": "Python 3.8.8 64-bit ('CET-env': conda)",
   "metadata": {
    "interpreter": {
     "hash": "c128891205147936729526f581f197745d5b33cf3944c57e478d1b5b1cd938c9"
    }
   }
  }
 },
 "nbformat": 4,
 "nbformat_minor": 2,
 "cells": [
  {
   "source": [
    "# Importando Bibliotecas"
   ],
   "cell_type": "markdown",
   "metadata": {}
  },
  {
   "cell_type": "code",
   "execution_count": 47,
   "metadata": {},
   "outputs": [],
   "source": [
    "import pandas as pd\n",
    "import os\n",
    "import timeit"
   ]
  },
  {
   "source": [
    "# Checando os diretorios"
   ],
   "cell_type": "markdown",
   "metadata": {}
  },
  {
   "cell_type": "code",
   "execution_count": 1,
   "metadata": {},
   "outputs": [
    {
     "output_type": "stream",
     "name": "stdout",
     "text": [
      "d:\\Users\\guilh\\Documents\\GitHub\\Dados_CET2\\Dados_CET2\n['10_nAg.csv', '11_nAg.csv', '12_nAg.csv', '13_nAg.csv', '14_nAg.csv', '15_nAg.csv', '16_nAg.csv', '17_nAg.csv', '18_nAg.csv', '19_nAg.csv', '1_nAg.csv', '20_nAg.csv', '21_nAg.csv', '22_nAg.csv', '23_nAg.csv', '24_nAg.csv', '25_nAg.csv', '26_nAg.csv', '27_nAg.csv', '28_nAg.csv', '29_nAg.csv', '2_nAg.csv', '30_nAg.csv', '3_nAg.csv', '4_nAg.csv', '5_nAg.csv', '6_nAg.csv', '7_nAg.csv', '8_nAg.csv', '9_nAg.csv']\n"
     ]
    }
   ],
   "source": [
    "print(os.getcwd())\n",
    "\n",
    "print(os.listdir(\"../../Dados_CET/Marco_2018_nAg\"))\n",
    "\n",
    "# print(os.getcwd())"
   ]
  },
  {
   "source": [
    "### Abre um arquivo para exemplo\n",
    "\n",
    "tem mais de 1.7 milhoes de linhas"
   ],
   "cell_type": "markdown",
   "metadata": {}
  },
  {
   "cell_type": "code",
   "execution_count": 13,
   "metadata": {},
   "outputs": [
    {
     "output_type": "stream",
     "name": "stderr",
     "text": [
      "D:\\Users\\guilh\\Anaconda3\\envs\\CET-env\\lib\\site-packages\\numpy\\lib\\arraysetops.py:580: FutureWarning: elementwise comparison failed; returning scalar instead, but in the future will perform elementwise comparison\n  mask |= (ar1 == a)\n"
     ]
    },
    {
     "output_type": "execute_result",
     "data": {
      "text/plain": [
       "        Lote                 Data  Local  Numero Agrupado  Faixa  Entrefaixa  \\\n",
       "0         L3  2018-02-28 23:56:00   5415            10588      3           0   \n",
       "1         L3  2018-02-28 23:56:00   5415            10588      3           0   \n",
       "2         L3  2018-02-28 23:56:00   5415            10588      1           0   \n",
       "3         L3  2018-02-28 23:56:00   5415            10588      2           0   \n",
       "4         L3  2018-02-28 23:56:00   5415            10588      3           0   \n",
       "...      ...                  ...    ...              ...    ...         ...   \n",
       "1745989   L3  2018-03-01 23:55:00   5401            10531      3           0   \n",
       "1745990   L3  2018-03-01 23:55:00   5401            10531      2           0   \n",
       "1745991   L3  2018-03-01 23:55:00   5401            10531      1           0   \n",
       "1745992   L3  2018-03-01 23:55:00   5401            10531      3           0   \n",
       "1745993   L3  2018-03-01 23:55:00   5401            10531      2           0   \n",
       "\n",
       "         Registro  Tipo de Registro  Veiculo Final de Placa  Especie  Classe  \\\n",
       "0          786545                 0  1148679              3      1.0     0.0   \n",
       "1          786546                 0                              1.0     0.0   \n",
       "2          786547                 0   679677              6      0.0     0.0   \n",
       "3          786548                 0                              0.0     0.0   \n",
       "4          786549                 0   971847              3      1.0     0.0   \n",
       "...           ...               ...      ...            ...      ...     ...   \n",
       "1745989     81604                 0                              1.0     0.0   \n",
       "1745990     81605                 0   159894              7      1.0     0.0   \n",
       "1745991     81606                 0   377297              7      1.0     0.0   \n",
       "1745992     81607                 0   808468              9      1.0     0.0   \n",
       "1745993     81608                 0  1200341              6      1.0     0.0   \n",
       "\n",
       "         Comprimento  Velocidade  Ocupacao  \n",
       "0               30.0       100.0     682.0  \n",
       "1               28.0       117.0     624.0  \n",
       "2               10.0       108.0     366.0  \n",
       "3               10.0         3.0     424.0  \n",
       "4               31.0       106.0     647.0  \n",
       "...              ...         ...       ...  \n",
       "1745989        190.0       150.0    1530.0  \n",
       "1745990         44.0       139.0     614.0  \n",
       "1745991         47.0       142.0     620.0  \n",
       "1745992         41.0       131.0     620.0  \n",
       "1745993         40.0       136.0     598.0  \n",
       "\n",
       "[1745994 rows x 15 columns]"
      ],
      "text/html": "<div>\n<style scoped>\n    .dataframe tbody tr th:only-of-type {\n        vertical-align: middle;\n    }\n\n    .dataframe tbody tr th {\n        vertical-align: top;\n    }\n\n    .dataframe thead th {\n        text-align: right;\n    }\n</style>\n<table border=\"1\" class=\"dataframe\">\n  <thead>\n    <tr style=\"text-align: right;\">\n      <th></th>\n      <th>Lote</th>\n      <th>Data</th>\n      <th>Local</th>\n      <th>Numero Agrupado</th>\n      <th>Faixa</th>\n      <th>Entrefaixa</th>\n      <th>Registro</th>\n      <th>Tipo de Registro</th>\n      <th>Veiculo</th>\n      <th>Final de Placa</th>\n      <th>Especie</th>\n      <th>Classe</th>\n      <th>Comprimento</th>\n      <th>Velocidade</th>\n      <th>Ocupacao</th>\n    </tr>\n  </thead>\n  <tbody>\n    <tr>\n      <th>0</th>\n      <td>L3</td>\n      <td>2018-02-28 23:56:00</td>\n      <td>5415</td>\n      <td>10588</td>\n      <td>3</td>\n      <td>0</td>\n      <td>786545</td>\n      <td>0</td>\n      <td>1148679</td>\n      <td>3</td>\n      <td>1.0</td>\n      <td>0.0</td>\n      <td>30.0</td>\n      <td>100.0</td>\n      <td>682.0</td>\n    </tr>\n    <tr>\n      <th>1</th>\n      <td>L3</td>\n      <td>2018-02-28 23:56:00</td>\n      <td>5415</td>\n      <td>10588</td>\n      <td>3</td>\n      <td>0</td>\n      <td>786546</td>\n      <td>0</td>\n      <td></td>\n      <td></td>\n      <td>1.0</td>\n      <td>0.0</td>\n      <td>28.0</td>\n      <td>117.0</td>\n      <td>624.0</td>\n    </tr>\n    <tr>\n      <th>2</th>\n      <td>L3</td>\n      <td>2018-02-28 23:56:00</td>\n      <td>5415</td>\n      <td>10588</td>\n      <td>1</td>\n      <td>0</td>\n      <td>786547</td>\n      <td>0</td>\n      <td>679677</td>\n      <td>6</td>\n      <td>0.0</td>\n      <td>0.0</td>\n      <td>10.0</td>\n      <td>108.0</td>\n      <td>366.0</td>\n    </tr>\n    <tr>\n      <th>3</th>\n      <td>L3</td>\n      <td>2018-02-28 23:56:00</td>\n      <td>5415</td>\n      <td>10588</td>\n      <td>2</td>\n      <td>0</td>\n      <td>786548</td>\n      <td>0</td>\n      <td></td>\n      <td></td>\n      <td>0.0</td>\n      <td>0.0</td>\n      <td>10.0</td>\n      <td>3.0</td>\n      <td>424.0</td>\n    </tr>\n    <tr>\n      <th>4</th>\n      <td>L3</td>\n      <td>2018-02-28 23:56:00</td>\n      <td>5415</td>\n      <td>10588</td>\n      <td>3</td>\n      <td>0</td>\n      <td>786549</td>\n      <td>0</td>\n      <td>971847</td>\n      <td>3</td>\n      <td>1.0</td>\n      <td>0.0</td>\n      <td>31.0</td>\n      <td>106.0</td>\n      <td>647.0</td>\n    </tr>\n    <tr>\n      <th>...</th>\n      <td>...</td>\n      <td>...</td>\n      <td>...</td>\n      <td>...</td>\n      <td>...</td>\n      <td>...</td>\n      <td>...</td>\n      <td>...</td>\n      <td>...</td>\n      <td>...</td>\n      <td>...</td>\n      <td>...</td>\n      <td>...</td>\n      <td>...</td>\n      <td>...</td>\n    </tr>\n    <tr>\n      <th>1745989</th>\n      <td>L3</td>\n      <td>2018-03-01 23:55:00</td>\n      <td>5401</td>\n      <td>10531</td>\n      <td>3</td>\n      <td>0</td>\n      <td>81604</td>\n      <td>0</td>\n      <td></td>\n      <td></td>\n      <td>1.0</td>\n      <td>0.0</td>\n      <td>190.0</td>\n      <td>150.0</td>\n      <td>1530.0</td>\n    </tr>\n    <tr>\n      <th>1745990</th>\n      <td>L3</td>\n      <td>2018-03-01 23:55:00</td>\n      <td>5401</td>\n      <td>10531</td>\n      <td>2</td>\n      <td>0</td>\n      <td>81605</td>\n      <td>0</td>\n      <td>159894</td>\n      <td>7</td>\n      <td>1.0</td>\n      <td>0.0</td>\n      <td>44.0</td>\n      <td>139.0</td>\n      <td>614.0</td>\n    </tr>\n    <tr>\n      <th>1745991</th>\n      <td>L3</td>\n      <td>2018-03-01 23:55:00</td>\n      <td>5401</td>\n      <td>10531</td>\n      <td>1</td>\n      <td>0</td>\n      <td>81606</td>\n      <td>0</td>\n      <td>377297</td>\n      <td>7</td>\n      <td>1.0</td>\n      <td>0.0</td>\n      <td>47.0</td>\n      <td>142.0</td>\n      <td>620.0</td>\n    </tr>\n    <tr>\n      <th>1745992</th>\n      <td>L3</td>\n      <td>2018-03-01 23:55:00</td>\n      <td>5401</td>\n      <td>10531</td>\n      <td>3</td>\n      <td>0</td>\n      <td>81607</td>\n      <td>0</td>\n      <td>808468</td>\n      <td>9</td>\n      <td>1.0</td>\n      <td>0.0</td>\n      <td>41.0</td>\n      <td>131.0</td>\n      <td>620.0</td>\n    </tr>\n    <tr>\n      <th>1745993</th>\n      <td>L3</td>\n      <td>2018-03-01 23:55:00</td>\n      <td>5401</td>\n      <td>10531</td>\n      <td>2</td>\n      <td>0</td>\n      <td>81608</td>\n      <td>0</td>\n      <td>1200341</td>\n      <td>6</td>\n      <td>1.0</td>\n      <td>0.0</td>\n      <td>40.0</td>\n      <td>136.0</td>\n      <td>598.0</td>\n    </tr>\n  </tbody>\n</table>\n<p>1745994 rows × 15 columns</p>\n</div>"
     },
     "metadata": {},
     "execution_count": 13
    }
   ],
   "source": [
    "df = pd.read_csv('../../Dados_CET/Marco_2018_nAg/1_nAg.csv', index_col=\"Unnamed: 0\")\n",
    "df"
   ]
  },
  {
   "cell_type": "code",
   "execution_count": 14,
   "metadata": {},
   "outputs": [
    {
     "output_type": "stream",
     "name": "stdout",
     "text": [
      "<class 'pandas.core.frame.DataFrame'>\nInt64Index: 1745994 entries, 0 to 1745993\nData columns (total 15 columns):\n #   Column            Dtype  \n---  ------            -----  \n 0   Lote              object \n 1   Data              object \n 2   Local             int64  \n 3   Numero Agrupado   int64  \n 4   Faixa             int64  \n 5   Entrefaixa        int64  \n 6   Registro          int64  \n 7   Tipo de Registro  int64  \n 8   Veiculo           object \n 9   Final de Placa    object \n 10  Especie           float64\n 11  Classe            float64\n 12  Comprimento       float64\n 13  Velocidade        float64\n 14  Ocupacao          float64\ndtypes: float64(5), int64(6), object(4)\nmemory usage: 213.1+ MB\n"
     ]
    }
   ],
   "source": [
    "df.info()"
   ]
  },
  {
   "cell_type": "code",
   "execution_count": 15,
   "metadata": {},
   "outputs": [],
   "source": [
    "radares = [10761,10780,10595,10557,10488,10433,10482,10500,10531]"
   ]
  },
  {
   "cell_type": "code",
   "execution_count": 16,
   "metadata": {},
   "outputs": [
    {
     "output_type": "execute_result",
     "data": {
      "text/plain": [
       "       Lote                 Data  Local  Numero Agrupado  Faixa  Entrefaixa  \\\n",
       "0        L3  2018-02-28 23:56:00   5323            10488      3           0   \n",
       "1        L3  2018-02-28 23:56:00   5323            10488      3           0   \n",
       "2        L3  2018-02-28 23:56:00   5323            10488      3           0   \n",
       "3        L3  2018-02-28 23:56:00   5323            10488      3           0   \n",
       "4        L3  2018-02-28 23:56:00   5323            10488      3           0   \n",
       "...     ...                  ...    ...              ...    ...         ...   \n",
       "593592   L3  2018-03-01 23:55:00   5401            10531      3           0   \n",
       "593593   L3  2018-03-01 23:55:00   5401            10531      2           0   \n",
       "593594   L3  2018-03-01 23:55:00   5401            10531      1           0   \n",
       "593595   L3  2018-03-01 23:55:00   5401            10531      3           0   \n",
       "593596   L3  2018-03-01 23:55:00   5401            10531      2           0   \n",
       "\n",
       "        Registro  Tipo de Registro  Veiculo Final de Placa  Especie  Classe  \\\n",
       "0        1095514                 0   446515              4      1.0     0.0   \n",
       "1        1095515                 0                              1.0     0.0   \n",
       "2        1095516                 0   679274              9      1.0     0.0   \n",
       "3        1095517                 0                              1.0     0.0   \n",
       "4        1095518                 0  1023768              0      1.0     0.0   \n",
       "...          ...               ...      ...            ...      ...     ...   \n",
       "593592     81604                 0                              1.0     0.0   \n",
       "593593     81605                 0   159894              7      1.0     0.0   \n",
       "593594     81606                 0   377297              7      1.0     0.0   \n",
       "593595     81607                 0   808468              9      1.0     0.0   \n",
       "593596     81608                 0  1200341              6      1.0     0.0   \n",
       "\n",
       "        Comprimento  Velocidade  Ocupacao  \n",
       "0              48.0       136.0     649.0  \n",
       "1              39.0       100.0     772.0  \n",
       "2              43.0       119.0     694.0  \n",
       "3              32.0       122.0     599.0  \n",
       "4              41.0       128.0     633.0  \n",
       "...             ...         ...       ...  \n",
       "593592        190.0       150.0    1530.0  \n",
       "593593         44.0       139.0     614.0  \n",
       "593594         47.0       142.0     620.0  \n",
       "593595         41.0       131.0     620.0  \n",
       "593596         40.0       136.0     598.0  \n",
       "\n",
       "[593597 rows x 15 columns]"
      ],
      "text/html": "<div>\n<style scoped>\n    .dataframe tbody tr th:only-of-type {\n        vertical-align: middle;\n    }\n\n    .dataframe tbody tr th {\n        vertical-align: top;\n    }\n\n    .dataframe thead th {\n        text-align: right;\n    }\n</style>\n<table border=\"1\" class=\"dataframe\">\n  <thead>\n    <tr style=\"text-align: right;\">\n      <th></th>\n      <th>Lote</th>\n      <th>Data</th>\n      <th>Local</th>\n      <th>Numero Agrupado</th>\n      <th>Faixa</th>\n      <th>Entrefaixa</th>\n      <th>Registro</th>\n      <th>Tipo de Registro</th>\n      <th>Veiculo</th>\n      <th>Final de Placa</th>\n      <th>Especie</th>\n      <th>Classe</th>\n      <th>Comprimento</th>\n      <th>Velocidade</th>\n      <th>Ocupacao</th>\n    </tr>\n  </thead>\n  <tbody>\n    <tr>\n      <th>0</th>\n      <td>L3</td>\n      <td>2018-02-28 23:56:00</td>\n      <td>5323</td>\n      <td>10488</td>\n      <td>3</td>\n      <td>0</td>\n      <td>1095514</td>\n      <td>0</td>\n      <td>446515</td>\n      <td>4</td>\n      <td>1.0</td>\n      <td>0.0</td>\n      <td>48.0</td>\n      <td>136.0</td>\n      <td>649.0</td>\n    </tr>\n    <tr>\n      <th>1</th>\n      <td>L3</td>\n      <td>2018-02-28 23:56:00</td>\n      <td>5323</td>\n      <td>10488</td>\n      <td>3</td>\n      <td>0</td>\n      <td>1095515</td>\n      <td>0</td>\n      <td></td>\n      <td></td>\n      <td>1.0</td>\n      <td>0.0</td>\n      <td>39.0</td>\n      <td>100.0</td>\n      <td>772.0</td>\n    </tr>\n    <tr>\n      <th>2</th>\n      <td>L3</td>\n      <td>2018-02-28 23:56:00</td>\n      <td>5323</td>\n      <td>10488</td>\n      <td>3</td>\n      <td>0</td>\n      <td>1095516</td>\n      <td>0</td>\n      <td>679274</td>\n      <td>9</td>\n      <td>1.0</td>\n      <td>0.0</td>\n      <td>43.0</td>\n      <td>119.0</td>\n      <td>694.0</td>\n    </tr>\n    <tr>\n      <th>3</th>\n      <td>L3</td>\n      <td>2018-02-28 23:56:00</td>\n      <td>5323</td>\n      <td>10488</td>\n      <td>3</td>\n      <td>0</td>\n      <td>1095517</td>\n      <td>0</td>\n      <td></td>\n      <td></td>\n      <td>1.0</td>\n      <td>0.0</td>\n      <td>32.0</td>\n      <td>122.0</td>\n      <td>599.0</td>\n    </tr>\n    <tr>\n      <th>4</th>\n      <td>L3</td>\n      <td>2018-02-28 23:56:00</td>\n      <td>5323</td>\n      <td>10488</td>\n      <td>3</td>\n      <td>0</td>\n      <td>1095518</td>\n      <td>0</td>\n      <td>1023768</td>\n      <td>0</td>\n      <td>1.0</td>\n      <td>0.0</td>\n      <td>41.0</td>\n      <td>128.0</td>\n      <td>633.0</td>\n    </tr>\n    <tr>\n      <th>...</th>\n      <td>...</td>\n      <td>...</td>\n      <td>...</td>\n      <td>...</td>\n      <td>...</td>\n      <td>...</td>\n      <td>...</td>\n      <td>...</td>\n      <td>...</td>\n      <td>...</td>\n      <td>...</td>\n      <td>...</td>\n      <td>...</td>\n      <td>...</td>\n      <td>...</td>\n    </tr>\n    <tr>\n      <th>593592</th>\n      <td>L3</td>\n      <td>2018-03-01 23:55:00</td>\n      <td>5401</td>\n      <td>10531</td>\n      <td>3</td>\n      <td>0</td>\n      <td>81604</td>\n      <td>0</td>\n      <td></td>\n      <td></td>\n      <td>1.0</td>\n      <td>0.0</td>\n      <td>190.0</td>\n      <td>150.0</td>\n      <td>1530.0</td>\n    </tr>\n    <tr>\n      <th>593593</th>\n      <td>L3</td>\n      <td>2018-03-01 23:55:00</td>\n      <td>5401</td>\n      <td>10531</td>\n      <td>2</td>\n      <td>0</td>\n      <td>81605</td>\n      <td>0</td>\n      <td>159894</td>\n      <td>7</td>\n      <td>1.0</td>\n      <td>0.0</td>\n      <td>44.0</td>\n      <td>139.0</td>\n      <td>614.0</td>\n    </tr>\n    <tr>\n      <th>593594</th>\n      <td>L3</td>\n      <td>2018-03-01 23:55:00</td>\n      <td>5401</td>\n      <td>10531</td>\n      <td>1</td>\n      <td>0</td>\n      <td>81606</td>\n      <td>0</td>\n      <td>377297</td>\n      <td>7</td>\n      <td>1.0</td>\n      <td>0.0</td>\n      <td>47.0</td>\n      <td>142.0</td>\n      <td>620.0</td>\n    </tr>\n    <tr>\n      <th>593595</th>\n      <td>L3</td>\n      <td>2018-03-01 23:55:00</td>\n      <td>5401</td>\n      <td>10531</td>\n      <td>3</td>\n      <td>0</td>\n      <td>81607</td>\n      <td>0</td>\n      <td>808468</td>\n      <td>9</td>\n      <td>1.0</td>\n      <td>0.0</td>\n      <td>41.0</td>\n      <td>131.0</td>\n      <td>620.0</td>\n    </tr>\n    <tr>\n      <th>593596</th>\n      <td>L3</td>\n      <td>2018-03-01 23:55:00</td>\n      <td>5401</td>\n      <td>10531</td>\n      <td>2</td>\n      <td>0</td>\n      <td>81608</td>\n      <td>0</td>\n      <td>1200341</td>\n      <td>6</td>\n      <td>1.0</td>\n      <td>0.0</td>\n      <td>40.0</td>\n      <td>136.0</td>\n      <td>598.0</td>\n    </tr>\n  </tbody>\n</table>\n<p>593597 rows × 15 columns</p>\n</div>"
     },
     "metadata": {},
     "execution_count": 16
    }
   ],
   "source": [
    "df_selected = df[df[\"Numero Agrupado\"].isin(radares)].reset_index(drop=True)\n",
    "df_selected"
   ]
  },
  {
   "cell_type": "code",
   "execution_count": 51,
   "metadata": {},
   "outputs": [
    {
     "output_type": "execute_result",
     "data": {
      "text/plain": [
       "{10433, 10482, 10488, 10500, 10531, 10557, 10595, 10761}"
      ]
     },
     "metadata": {},
     "execution_count": 51
    }
   ],
   "source": [
    "set(df_selected[\"Numero Agrupado\"])"
   ]
  },
  {
   "cell_type": "code",
   "execution_count": null,
   "metadata": {},
   "outputs": [],
   "source": []
  },
  {
   "cell_type": "code",
   "execution_count": 32,
   "metadata": {},
   "outputs": [],
   "source": [
    "tercas = [\"6\",\"13\",\"20\",\"27\"]\n",
    "quartas = [\"7\",\"14\",\"21\",\"28\"]\n",
    "quintas = [\"1\",\"8\",\"15\",\"22\",\"29\"]"
   ]
  },
  {
   "cell_type": "code",
   "execution_count": null,
   "metadata": {},
   "outputs": [],
   "source": [
    "# df_selected.to_csv(\"../../Dados_CET/tercas-quartas-quintas-selecionados/\"))"
   ]
  },
  {
   "cell_type": "code",
   "execution_count": 48,
   "metadata": {},
   "outputs": [
    {
     "output_type": "stream",
     "name": "stdout",
     "text": [
      "reading into     ../../Dados_CET/Marco_2018_nAg/6_nAg.csv\n",
      "D:\\Users\\guilh\\Anaconda3\\envs\\CET-env\\lib\\site-packages\\numpy\\lib\\arraysetops.py:580: FutureWarning: elementwise comparison failed; returning scalar instead, but in the future will perform elementwise comparison\n",
      "  mask |= (ar1 == a)\n",
      "Saving to    ../../Dados_CET/tercas-quartas-quintas-selecionados/tercas/6_selecionado.csv\n",
      "-0.006337799999982963\n",
      "\n",
      "\n",
      "\n",
      "reading into     ../../Dados_CET/Marco_2018_nAg/13_nAg.csv\n",
      "Saving to    ../../Dados_CET/tercas-quartas-quintas-selecionados/tercas/13_selecionado.csv\n",
      "-0.0028725000001941225\n",
      "\n",
      "\n",
      "\n",
      "reading into     ../../Dados_CET/Marco_2018_nAg/20_nAg.csv\n",
      "Saving to    ../../Dados_CET/tercas-quartas-quintas-selecionados/tercas/20_selecionado.csv\n",
      "-0.0038267999998424784\n",
      "\n",
      "\n",
      "\n",
      "reading into     ../../Dados_CET/Marco_2018_nAg/27_nAg.csv\n",
      "Saving to    ../../Dados_CET/tercas-quartas-quintas-selecionados/tercas/27_selecionado.csv\n",
      "0.0008551000000807107\n",
      "\n",
      "\n",
      "\n",
      "reading into     ../../Dados_CET/Marco_2018_nAg/7_nAg.csv\n",
      "Saving to    ../../Dados_CET/tercas-quartas-quintas-selecionados/quartas/7_selecionado.csv\n",
      "0.0009843000002547342\n",
      "\n",
      "\n",
      "\n",
      "reading into     ../../Dados_CET/Marco_2018_nAg/14_nAg.csv\n",
      "Saving to    ../../Dados_CET/tercas-quartas-quintas-selecionados/quartas/14_selecionado.csv\n",
      "0.002474299999903451\n",
      "\n",
      "\n",
      "\n",
      "reading into     ../../Dados_CET/Marco_2018_nAg/21_nAg.csv\n",
      "Saving to    ../../Dados_CET/tercas-quartas-quintas-selecionados/quartas/21_selecionado.csv\n",
      "0.005250499999874592\n",
      "\n",
      "\n",
      "\n",
      "reading into     ../../Dados_CET/Marco_2018_nAg/28_nAg.csv\n",
      "Saving to    ../../Dados_CET/tercas-quartas-quintas-selecionados/quartas/28_selecionado.csv\n",
      "-0.0003365999996276514\n",
      "\n",
      "\n",
      "\n",
      "reading into     ../../Dados_CET/Marco_2018_nAg/1_nAg.csv\n",
      "Saving to    ../../Dados_CET/tercas-quartas-quintas-selecionados/quintas/1_selecionado.csv\n",
      "0.013435099999696831\n",
      "\n",
      "\n",
      "\n",
      "reading into     ../../Dados_CET/Marco_2018_nAg/8_nAg.csv\n",
      "Saving to    ../../Dados_CET/tercas-quartas-quintas-selecionados/quintas/8_selecionado.csv\n",
      "0.0012694000001829409\n",
      "\n",
      "\n",
      "\n",
      "reading into     ../../Dados_CET/Marco_2018_nAg/15_nAg.csv\n",
      "Saving to    ../../Dados_CET/tercas-quartas-quintas-selecionados/quintas/15_selecionado.csv\n",
      "0.006397100000413047\n",
      "\n",
      "\n",
      "\n",
      "reading into     ../../Dados_CET/Marco_2018_nAg/22_nAg.csv\n",
      "Saving to    ../../Dados_CET/tercas-quartas-quintas-selecionados/quintas/22_selecionado.csv\n",
      "0.0014957999997022853\n",
      "\n",
      "\n",
      "\n",
      "reading into     ../../Dados_CET/Marco_2018_nAg/29_nAg.csv\n",
      "Saving to    ../../Dados_CET/tercas-quartas-quintas-selecionados/quintas/29_selecionado.csv\n",
      "8.70000003487803e-05\n",
      "\n",
      "\n",
      "\n",
      "Wall time: 1min 53s\n"
     ]
    }
   ],
   "source": [
    "%%time\n",
    "\n",
    "radares = [10761,10780,10595,10557,10488,10433,10482,10500,10531]\n",
    "\n",
    "\n",
    "for i,DOW in enumerate([    (\"tercas\", tercas),\n",
    "                            (\"quartas\", quartas),\n",
    "                            (\"quintas\", quintas)     ]):\n",
    "    # print(i, DOW)\n",
    "\n",
    "    for day in DOW[1]:\n",
    "        # print(day) ## day is a string\n",
    "        start = timeit.timeit()\n",
    "\n",
    "        # new_df = pd.read_csv(\"../../Dados_CET/Marco_2018_nAg/\"+ day +\"_nAg.csv\", index_col=\"Unnamed: 0\")\n",
    "        print(\"reading into     \" + \"../../Dados_CET/Marco_2018_nAg/\"+ day +\"_nAg.csv\")\n",
    "\n",
    "        # print(\"../../Dados_CET/Marco_2018_nAg/\"+ day +\"_nAg.csv\")\n",
    "        df = pd.read_csv(\"../../Dados_CET/Marco_2018_nAg/\"+ day +\"_nAg.csv\", index_col=\"Unnamed: 0\")\n",
    "\n",
    "\n",
    "        # print(\"../../Dados_CET/tercas-quartas-quintas-selecionados/\"+ DOW[0] + \"/\" + day +\"_selecionado.csv\")\n",
    "        df_selected = df[df[\"Numero Agrupado\"].isin(radares)].reset_index(drop=True)\n",
    "\n",
    "        print(\"Saving to    \" + \"../../Dados_CET/tercas-quartas-quintas-selecionados/\"+ DOW[0] + \"/\" + day +\"_selecionado.csv\")\n",
    "\n",
    "        # df_selected.to_csv(\"../../Dados_CET/tercas-quartas-quintas-selecionados/\"+ DOW[0] + \"/\" + day +\"_selecionado.csv\")\n",
    "\n",
    "        end = timeit.timeit()\n",
    "        print(end - start)\n",
    "\n",
    "\n",
    "        print()\n",
    "        print()\n",
    "        print()\n",
    "\n",
    "\n"
   ]
  }
 ]
}