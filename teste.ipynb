{
 "metadata": {
  "language_info": {
   "codemirror_mode": {
    "name": "ipython",
    "version": 3
   },
   "file_extension": ".py",
   "mimetype": "text/x-python",
   "name": "python",
   "nbconvert_exporter": "python",
   "pygments_lexer": "ipython3",
   "version": "3.8.5-final"
  },
  "orig_nbformat": 2,
  "kernelspec": {
   "name": "python_defaultSpec_1600805889945",
   "display_name": "Python 3.8.5 64-bit"
  }
 },
 "nbformat": 4,
 "nbformat_minor": 2,
 "cells": [
  {
   "cell_type": "code",
   "execution_count": 20,
   "metadata": {},
   "outputs": [],
   "source": [
    "import numpy as np\n",
    "import pandas as pd\n",
    "\n",
    "rad_Rebou = [5323,5226,5308,5307,5432,5433,5414,5413,5201,5200,5199,5198,5205,5204,5203,5202,5196,5197,5195,5194]\n",
    "rad_23 = [5445,5104,5446,5103,5462,5461,5460,5441,5106,5443,5442,5439,5105,5440,5457,5449,5317,5101,5506,5336,5335,5402,5401]\n",
    "rad_Sum_Brasil = [5415,5483,5126,5471,5470,5316,5315,5313,5314,5358,5357,5355,5356,5463,5297,5296,5354,5098,5476,5475,5474,5479,5478,5477,5480]\n",
    "\n",
    "### ------------ ESCOLHER AQUI ---------------------------- ###\n",
    "\n",
    "\n",
    "Limite_inf_inclusive = 7   # não seleciona por minutos, por ex: 7:30 não funciona, só 7 e 8\n",
    "Limite_sup = 9\n",
    "radares = rad_23"
   ]
  },
  {
   "cell_type": "code",
   "execution_count": 21,
   "metadata": {},
   "outputs": [
    {
     "output_type": "display_data",
     "data": {
      "text/plain": "  Lote                Data  Local  Faixa  Entrefaixa  Registro  \\\n0   L3 2018-03-27 23:56:00   5415      1           0    801971   \n1   L3 2018-03-27 23:56:00   5415      4           0    801972   \n2   L3 2018-03-27 23:56:00   5415      3           0    801973   \n3   L3 2018-03-27 23:56:00   5415      3           0    801974   \n4   L3 2018-03-27 23:56:00   5415      2           0    801975   \n\n   Tipo de Registro  Veiculo Final de Placa  Especie  Classe  Comprimento  \\\n0                 0   434499              9      1.0     0.0         39.0   \n1                 0                              1.0     0.0         45.0   \n2                 0                              1.0     0.0         42.0   \n3                 0                              1.0     0.0         34.0   \n4                 0   187540              6      1.0     0.0         45.0   \n\n   Velocidade  Ocupacao  \n0        47.0    1506.0  \n1        67.0    1233.0  \n2        50.0    1587.0  \n3        61.0    1185.0  \n4        53.0    1500.0  ",
      "text/html": "<div>\n<style scoped>\n    .dataframe tbody tr th:only-of-type {\n        vertical-align: middle;\n    }\n\n    .dataframe tbody tr th {\n        vertical-align: top;\n    }\n\n    .dataframe thead th {\n        text-align: right;\n    }\n</style>\n<table border=\"1\" class=\"dataframe\">\n  <thead>\n    <tr style=\"text-align: right;\">\n      <th></th>\n      <th>Lote</th>\n      <th>Data</th>\n      <th>Local</th>\n      <th>Faixa</th>\n      <th>Entrefaixa</th>\n      <th>Registro</th>\n      <th>Tipo de Registro</th>\n      <th>Veiculo</th>\n      <th>Final de Placa</th>\n      <th>Especie</th>\n      <th>Classe</th>\n      <th>Comprimento</th>\n      <th>Velocidade</th>\n      <th>Ocupacao</th>\n    </tr>\n  </thead>\n  <tbody>\n    <tr>\n      <th>0</th>\n      <td>L3</td>\n      <td>2018-03-27 23:56:00</td>\n      <td>5415</td>\n      <td>1</td>\n      <td>0</td>\n      <td>801971</td>\n      <td>0</td>\n      <td>434499</td>\n      <td>9</td>\n      <td>1.0</td>\n      <td>0.0</td>\n      <td>39.0</td>\n      <td>47.0</td>\n      <td>1506.0</td>\n    </tr>\n    <tr>\n      <th>1</th>\n      <td>L3</td>\n      <td>2018-03-27 23:56:00</td>\n      <td>5415</td>\n      <td>4</td>\n      <td>0</td>\n      <td>801972</td>\n      <td>0</td>\n      <td></td>\n      <td></td>\n      <td>1.0</td>\n      <td>0.0</td>\n      <td>45.0</td>\n      <td>67.0</td>\n      <td>1233.0</td>\n    </tr>\n    <tr>\n      <th>2</th>\n      <td>L3</td>\n      <td>2018-03-27 23:56:00</td>\n      <td>5415</td>\n      <td>3</td>\n      <td>0</td>\n      <td>801973</td>\n      <td>0</td>\n      <td></td>\n      <td></td>\n      <td>1.0</td>\n      <td>0.0</td>\n      <td>42.0</td>\n      <td>50.0</td>\n      <td>1587.0</td>\n    </tr>\n    <tr>\n      <th>3</th>\n      <td>L3</td>\n      <td>2018-03-27 23:56:00</td>\n      <td>5415</td>\n      <td>3</td>\n      <td>0</td>\n      <td>801974</td>\n      <td>0</td>\n      <td></td>\n      <td></td>\n      <td>1.0</td>\n      <td>0.0</td>\n      <td>34.0</td>\n      <td>61.0</td>\n      <td>1185.0</td>\n    </tr>\n    <tr>\n      <th>4</th>\n      <td>L3</td>\n      <td>2018-03-27 23:56:00</td>\n      <td>5415</td>\n      <td>2</td>\n      <td>0</td>\n      <td>801975</td>\n      <td>0</td>\n      <td>187540</td>\n      <td>6</td>\n      <td>1.0</td>\n      <td>0.0</td>\n      <td>45.0</td>\n      <td>53.0</td>\n      <td>1500.0</td>\n    </tr>\n  </tbody>\n</table>\n</div>"
     },
     "metadata": {}
    }
   ],
   "source": [
    "\n",
    "df = pd.read_csv(r'D:\\\\Users\\\\guilh\\\\Documents\\\\GitHub\\\\Dados_CET\\\\csv_radares-20200426T211130Z-001\\\\28_selec.csv', index_col=0) \n",
    "df['Data'] = pd.to_datetime(df['Data'])\n",
    "display(df.head())"
   ]
  },
  {
   "cell_type": "code",
   "execution_count": 22,
   "metadata": {},
   "outputs": [],
   "source": [
    "df_n = df[(df.Data.dt.hour >= ) & (df.Data.dt.hour <Limite_sup)]\n",
    "df_n.reset_index(drop=True,inplace=True)\n"
   ]
  },
  {
   "cell_type": "code",
   "execution_count": 23,
   "metadata": {
    "tags": []
   },
   "outputs": [],
   "source": [
    "data_frame = pd.DataFrame()\n",
    "for loc in radares:\n",
    "    data_frame = pd.concat([data_frame,df_n.loc[df_n[\"Local\"]== loc]])\n",
    "\n"
   ]
  },
  {
   "cell_type": "code",
   "execution_count": 24,
   "metadata": {},
   "outputs": [
    {
     "output_type": "display_data",
     "data": {
      "text/plain": "       Lote                Data  Local  Faixa  Entrefaixa  Registro  \\\n109445   L3 2018-03-28 08:00:00   5445      3           1    121194   \n109446   L3 2018-03-28 08:00:00   5445      3           1    121195   \n109447   L3 2018-03-28 08:00:00   5445      3           1    121196   \n109448   L3 2018-03-28 08:00:00   5445      3           1    121197   \n109449   L3 2018-03-28 08:01:00   5445      3           1    121198   \n...     ...                 ...    ...    ...         ...       ...   \n201999   L3 2018-03-28 09:59:00   5401      1           0   2206771   \n202000   L3 2018-03-28 09:59:00   5401      3           0   2206770   \n202001   L3 2018-03-28 09:59:00   5401      2           0   2206772   \n202002   L3 2018-03-28 09:59:00   5401      2           0   2206773   \n202003   L3 2018-03-28 09:59:00   5401      3           0   2206774   \n\n        Tipo de Registro  Veiculo Final de Placa  Especie  Classe  \\\n109445                 0   154134              0      0.0     0.0   \n109446                 0                              1.0     0.0   \n109447                 0                              1.0     0.0   \n109448                 0   758778              4      0.0     0.0   \n109449                 0                              1.0     0.0   \n...                  ...      ...            ...      ...     ...   \n201999                 0   507875              0      1.0     0.0   \n202000                 0   203512              0      1.0     0.0   \n202001                 0   264524              1      1.0     0.0   \n202002                 0   444373              7      1.0     0.0   \n202003                 0   884248              8      1.0     0.0   \n\n        Comprimento  Velocidade  Ocupacao  \n109445         40.0       111.0     343.0  \n109446         60.0        56.0    1167.0  \n109447         20.0        56.0     319.0  \n109448         50.0        75.0     608.0  \n109449         50.0       167.0     324.0  \n...             ...         ...       ...  \n201999         40.0        36.0    3753.0  \n202000         37.0        31.0    2398.0  \n202001         82.0        22.0    6299.0  \n202002         42.0        19.0    4431.0  \n202003         47.0        36.0    3403.0  \n\n[92559 rows x 14 columns]",
      "text/html": "<div>\n<style scoped>\n    .dataframe tbody tr th:only-of-type {\n        vertical-align: middle;\n    }\n\n    .dataframe tbody tr th {\n        vertical-align: top;\n    }\n\n    .dataframe thead th {\n        text-align: right;\n    }\n</style>\n<table border=\"1\" class=\"dataframe\">\n  <thead>\n    <tr style=\"text-align: right;\">\n      <th></th>\n      <th>Lote</th>\n      <th>Data</th>\n      <th>Local</th>\n      <th>Faixa</th>\n      <th>Entrefaixa</th>\n      <th>Registro</th>\n      <th>Tipo de Registro</th>\n      <th>Veiculo</th>\n      <th>Final de Placa</th>\n      <th>Especie</th>\n      <th>Classe</th>\n      <th>Comprimento</th>\n      <th>Velocidade</th>\n      <th>Ocupacao</th>\n    </tr>\n  </thead>\n  <tbody>\n    <tr>\n      <th>109445</th>\n      <td>L3</td>\n      <td>2018-03-28 08:00:00</td>\n      <td>5445</td>\n      <td>3</td>\n      <td>1</td>\n      <td>121194</td>\n      <td>0</td>\n      <td>154134</td>\n      <td>0</td>\n      <td>0.0</td>\n      <td>0.0</td>\n      <td>40.0</td>\n      <td>111.0</td>\n      <td>343.0</td>\n    </tr>\n    <tr>\n      <th>109446</th>\n      <td>L3</td>\n      <td>2018-03-28 08:00:00</td>\n      <td>5445</td>\n      <td>3</td>\n      <td>1</td>\n      <td>121195</td>\n      <td>0</td>\n      <td></td>\n      <td></td>\n      <td>1.0</td>\n      <td>0.0</td>\n      <td>60.0</td>\n      <td>56.0</td>\n      <td>1167.0</td>\n    </tr>\n    <tr>\n      <th>109447</th>\n      <td>L3</td>\n      <td>2018-03-28 08:00:00</td>\n      <td>5445</td>\n      <td>3</td>\n      <td>1</td>\n      <td>121196</td>\n      <td>0</td>\n      <td></td>\n      <td></td>\n      <td>1.0</td>\n      <td>0.0</td>\n      <td>20.0</td>\n      <td>56.0</td>\n      <td>319.0</td>\n    </tr>\n    <tr>\n      <th>109448</th>\n      <td>L3</td>\n      <td>2018-03-28 08:00:00</td>\n      <td>5445</td>\n      <td>3</td>\n      <td>1</td>\n      <td>121197</td>\n      <td>0</td>\n      <td>758778</td>\n      <td>4</td>\n      <td>0.0</td>\n      <td>0.0</td>\n      <td>50.0</td>\n      <td>75.0</td>\n      <td>608.0</td>\n    </tr>\n    <tr>\n      <th>109449</th>\n      <td>L3</td>\n      <td>2018-03-28 08:01:00</td>\n      <td>5445</td>\n      <td>3</td>\n      <td>1</td>\n      <td>121198</td>\n      <td>0</td>\n      <td></td>\n      <td></td>\n      <td>1.0</td>\n      <td>0.0</td>\n      <td>50.0</td>\n      <td>167.0</td>\n      <td>324.0</td>\n    </tr>\n    <tr>\n      <th>...</th>\n      <td>...</td>\n      <td>...</td>\n      <td>...</td>\n      <td>...</td>\n      <td>...</td>\n      <td>...</td>\n      <td>...</td>\n      <td>...</td>\n      <td>...</td>\n      <td>...</td>\n      <td>...</td>\n      <td>...</td>\n      <td>...</td>\n      <td>...</td>\n    </tr>\n    <tr>\n      <th>201999</th>\n      <td>L3</td>\n      <td>2018-03-28 09:59:00</td>\n      <td>5401</td>\n      <td>1</td>\n      <td>0</td>\n      <td>2206771</td>\n      <td>0</td>\n      <td>507875</td>\n      <td>0</td>\n      <td>1.0</td>\n      <td>0.0</td>\n      <td>40.0</td>\n      <td>36.0</td>\n      <td>3753.0</td>\n    </tr>\n    <tr>\n      <th>202000</th>\n      <td>L3</td>\n      <td>2018-03-28 09:59:00</td>\n      <td>5401</td>\n      <td>3</td>\n      <td>0</td>\n      <td>2206770</td>\n      <td>0</td>\n      <td>203512</td>\n      <td>0</td>\n      <td>1.0</td>\n      <td>0.0</td>\n      <td>37.0</td>\n      <td>31.0</td>\n      <td>2398.0</td>\n    </tr>\n    <tr>\n      <th>202001</th>\n      <td>L3</td>\n      <td>2018-03-28 09:59:00</td>\n      <td>5401</td>\n      <td>2</td>\n      <td>0</td>\n      <td>2206772</td>\n      <td>0</td>\n      <td>264524</td>\n      <td>1</td>\n      <td>1.0</td>\n      <td>0.0</td>\n      <td>82.0</td>\n      <td>22.0</td>\n      <td>6299.0</td>\n    </tr>\n    <tr>\n      <th>202002</th>\n      <td>L3</td>\n      <td>2018-03-28 09:59:00</td>\n      <td>5401</td>\n      <td>2</td>\n      <td>0</td>\n      <td>2206773</td>\n      <td>0</td>\n      <td>444373</td>\n      <td>7</td>\n      <td>1.0</td>\n      <td>0.0</td>\n      <td>42.0</td>\n      <td>19.0</td>\n      <td>4431.0</td>\n    </tr>\n    <tr>\n      <th>202003</th>\n      <td>L3</td>\n      <td>2018-03-28 09:59:00</td>\n      <td>5401</td>\n      <td>3</td>\n      <td>0</td>\n      <td>2206774</td>\n      <td>0</td>\n      <td>884248</td>\n      <td>8</td>\n      <td>1.0</td>\n      <td>0.0</td>\n      <td>47.0</td>\n      <td>36.0</td>\n      <td>3403.0</td>\n    </tr>\n  </tbody>\n</table>\n<p>92559 rows × 14 columns</p>\n</div>"
     },
     "metadata": {}
    }
   ],
   "source": [
    "display(data_frame)"
   ]
  },
  {
   "cell_type": "code",
   "execution_count": null,
   "metadata": {},
   "outputs": [],
   "source": []
  }
 ]
}