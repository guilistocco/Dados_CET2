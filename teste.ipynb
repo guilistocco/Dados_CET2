{
 "metadata": {
  "language_info": {
   "codemirror_mode": {
    "name": "ipython",
    "version": 3
   },
   "file_extension": ".py",
   "mimetype": "text/x-python",
   "name": "python",
   "nbconvert_exporter": "python",
   "pygments_lexer": "ipython3",
   "version": "3.8.5-final"
  },
  "orig_nbformat": 2,
  "kernelspec": {
   "name": "python_defaultSpec_1600536645411",
   "display_name": "Python 3.8.5 64-bit"
  }
 },
 "nbformat": 4,
 "nbformat_minor": 2,
 "cells": [
  {
   "cell_type": "code",
   "execution_count": 80,
   "metadata": {},
   "outputs": [],
   "source": [
    "import numpy as np\n",
    "import pandas as pd\n",
    "\n",
    "rad_Rebou = [5323,5226,5308,5307,5432,5433,5414,5413,5201,5200,5199,5198,5205,5204,5203,5202,5196,5197,5195,5194]\n",
    "rad_23 = [5445,5104,5446,5103,5462,5461,5460,5441,5106,5443,5442,5439,5105,5440,5457,5449,5317,5101,5506,5336,5335,5402,5401]\n",
    "rad_Sum_Brasil = [5415,5483,5126,5471,5470,5316,5315,5313,5314,5358,5357,5355,5356,5463,5297,5296,5354,5098,5476,5475,5474,5479,5478,5477,5480]\n",
    "\n",
    "### ------------ ESCOLHER AQUI ---------------------------- ###\n",
    "\n",
    "\n",
    "Limite_inf_inclusive = 7\n",
    "Limite_sup = 9\n",
    "radares = rad_23"
   ]
  },
  {
   "cell_type": "code",
   "execution_count": 81,
   "metadata": {},
   "outputs": [
    {
     "output_type": "display_data",
     "data": {
      "text/plain": "        Lote                Data  Local  Faixa  Entrefaixa  Registro  \\\n0         L3 2018-03-27 23:56:00   5415      1           0    801971   \n1         L3 2018-03-27 23:56:00   5415      4           0    801972   \n2         L3 2018-03-27 23:56:00   5415      3           0    801973   \n3         L3 2018-03-27 23:56:00   5415      3           0    801974   \n4         L3 2018-03-27 23:56:00   5415      2           0    801975   \n...      ...                 ...    ...    ...         ...       ...   \n1565012   L3 2018-03-28 23:55:00   5401      3           0   2260073   \n1565013   L3 2018-03-28 23:55:00   5401      2           0   2260074   \n1565014   L3 2018-03-28 23:55:00   5401      1           0   2260075   \n1565015   L3 2018-03-28 23:55:00   5401      2           0   2260076   \n1565016   L3 2018-03-28 23:55:00   5401      3           0   2260077   \n\n         Tipo de Registro  Veiculo Final de Placa  Especie  Classe  \\\n0                       0   434499              9      1.0     0.0   \n1                       0                              1.0     0.0   \n2                       0                              1.0     0.0   \n3                       0                              1.0     0.0   \n4                       0   187540              6      1.0     0.0   \n...                   ...      ...            ...      ...     ...   \n1565012                 0   643468              1      1.0     0.0   \n1565013                 0  1183299              6      3.0     1.0   \n1565014                 0  1034429              2      1.0     0.0   \n1565015                 0                              1.0     0.0   \n1565016                 0   333283              1      1.0     0.0   \n\n         Comprimento  Velocidade  Ocupacao  \n0               39.0        47.0    1506.0  \n1               45.0        67.0    1233.0  \n2               42.0        50.0    1587.0  \n3               34.0        61.0    1185.0  \n4               45.0        53.0    1500.0  \n...              ...         ...       ...  \n1565012         44.0       142.0     590.0  \n1565013         59.0       153.0     659.0  \n1565014         43.0       153.0     553.0  \n1565015         40.0        94.0     847.0  \n1565016         39.0       119.0     667.0  \n\n[1565017 rows x 14 columns]",
      "text/html": "<div>\n<style scoped>\n    .dataframe tbody tr th:only-of-type {\n        vertical-align: middle;\n    }\n\n    .dataframe tbody tr th {\n        vertical-align: top;\n    }\n\n    .dataframe thead th {\n        text-align: right;\n    }\n</style>\n<table border=\"1\" class=\"dataframe\">\n  <thead>\n    <tr style=\"text-align: right;\">\n      <th></th>\n      <th>Lote</th>\n      <th>Data</th>\n      <th>Local</th>\n      <th>Faixa</th>\n      <th>Entrefaixa</th>\n      <th>Registro</th>\n      <th>Tipo de Registro</th>\n      <th>Veiculo</th>\n      <th>Final de Placa</th>\n      <th>Especie</th>\n      <th>Classe</th>\n      <th>Comprimento</th>\n      <th>Velocidade</th>\n      <th>Ocupacao</th>\n    </tr>\n  </thead>\n  <tbody>\n    <tr>\n      <th>0</th>\n      <td>L3</td>\n      <td>2018-03-27 23:56:00</td>\n      <td>5415</td>\n      <td>1</td>\n      <td>0</td>\n      <td>801971</td>\n      <td>0</td>\n      <td>434499</td>\n      <td>9</td>\n      <td>1.0</td>\n      <td>0.0</td>\n      <td>39.0</td>\n      <td>47.0</td>\n      <td>1506.0</td>\n    </tr>\n    <tr>\n      <th>1</th>\n      <td>L3</td>\n      <td>2018-03-27 23:56:00</td>\n      <td>5415</td>\n      <td>4</td>\n      <td>0</td>\n      <td>801972</td>\n      <td>0</td>\n      <td></td>\n      <td></td>\n      <td>1.0</td>\n      <td>0.0</td>\n      <td>45.0</td>\n      <td>67.0</td>\n      <td>1233.0</td>\n    </tr>\n    <tr>\n      <th>2</th>\n      <td>L3</td>\n      <td>2018-03-27 23:56:00</td>\n      <td>5415</td>\n      <td>3</td>\n      <td>0</td>\n      <td>801973</td>\n      <td>0</td>\n      <td></td>\n      <td></td>\n      <td>1.0</td>\n      <td>0.0</td>\n      <td>42.0</td>\n      <td>50.0</td>\n      <td>1587.0</td>\n    </tr>\n    <tr>\n      <th>3</th>\n      <td>L3</td>\n      <td>2018-03-27 23:56:00</td>\n      <td>5415</td>\n      <td>3</td>\n      <td>0</td>\n      <td>801974</td>\n      <td>0</td>\n      <td></td>\n      <td></td>\n      <td>1.0</td>\n      <td>0.0</td>\n      <td>34.0</td>\n      <td>61.0</td>\n      <td>1185.0</td>\n    </tr>\n    <tr>\n      <th>4</th>\n      <td>L3</td>\n      <td>2018-03-27 23:56:00</td>\n      <td>5415</td>\n      <td>2</td>\n      <td>0</td>\n      <td>801975</td>\n      <td>0</td>\n      <td>187540</td>\n      <td>6</td>\n      <td>1.0</td>\n      <td>0.0</td>\n      <td>45.0</td>\n      <td>53.0</td>\n      <td>1500.0</td>\n    </tr>\n    <tr>\n      <th>...</th>\n      <td>...</td>\n      <td>...</td>\n      <td>...</td>\n      <td>...</td>\n      <td>...</td>\n      <td>...</td>\n      <td>...</td>\n      <td>...</td>\n      <td>...</td>\n      <td>...</td>\n      <td>...</td>\n      <td>...</td>\n      <td>...</td>\n      <td>...</td>\n    </tr>\n    <tr>\n      <th>1565012</th>\n      <td>L3</td>\n      <td>2018-03-28 23:55:00</td>\n      <td>5401</td>\n      <td>3</td>\n      <td>0</td>\n      <td>2260073</td>\n      <td>0</td>\n      <td>643468</td>\n      <td>1</td>\n      <td>1.0</td>\n      <td>0.0</td>\n      <td>44.0</td>\n      <td>142.0</td>\n      <td>590.0</td>\n    </tr>\n    <tr>\n      <th>1565013</th>\n      <td>L3</td>\n      <td>2018-03-28 23:55:00</td>\n      <td>5401</td>\n      <td>2</td>\n      <td>0</td>\n      <td>2260074</td>\n      <td>0</td>\n      <td>1183299</td>\n      <td>6</td>\n      <td>3.0</td>\n      <td>1.0</td>\n      <td>59.0</td>\n      <td>153.0</td>\n      <td>659.0</td>\n    </tr>\n    <tr>\n      <th>1565014</th>\n      <td>L3</td>\n      <td>2018-03-28 23:55:00</td>\n      <td>5401</td>\n      <td>1</td>\n      <td>0</td>\n      <td>2260075</td>\n      <td>0</td>\n      <td>1034429</td>\n      <td>2</td>\n      <td>1.0</td>\n      <td>0.0</td>\n      <td>43.0</td>\n      <td>153.0</td>\n      <td>553.0</td>\n    </tr>\n    <tr>\n      <th>1565015</th>\n      <td>L3</td>\n      <td>2018-03-28 23:55:00</td>\n      <td>5401</td>\n      <td>2</td>\n      <td>0</td>\n      <td>2260076</td>\n      <td>0</td>\n      <td></td>\n      <td></td>\n      <td>1.0</td>\n      <td>0.0</td>\n      <td>40.0</td>\n      <td>94.0</td>\n      <td>847.0</td>\n    </tr>\n    <tr>\n      <th>1565016</th>\n      <td>L3</td>\n      <td>2018-03-28 23:55:00</td>\n      <td>5401</td>\n      <td>3</td>\n      <td>0</td>\n      <td>2260077</td>\n      <td>0</td>\n      <td>333283</td>\n      <td>1</td>\n      <td>1.0</td>\n      <td>0.0</td>\n      <td>39.0</td>\n      <td>119.0</td>\n      <td>667.0</td>\n    </tr>\n  </tbody>\n</table>\n<p>1565017 rows × 14 columns</p>\n</div>"
     },
     "metadata": {}
    }
   ],
   "source": [
    "path = r'GitHub\\Dados_CET\\csv_radares-20200426T211130Z-001'\n",
    "\n",
    "df = pd.read_csv(r'D:\\\\Users\\\\guilh\\\\Documents\\\\GitHub\\\\Dados_CET\\\\csv_radares-20200426T211130Z-001\\\\28_selec.csv', index_col=0) \n",
    "df['Data'] = pd.to_datetime(df['Data'])\n",
    "display(df)"
   ]
  },
  {
   "cell_type": "code",
   "execution_count": 82,
   "metadata": {},
   "outputs": [],
   "source": [
    "df_n = df[(df.Data.dt.hour >=Limite_inf_inclusive) & (df.Data.dt.hour <Limite_sup)]\n",
    "df_n.reset_index(drop=True,inplace=True)\n"
   ]
  },
  {
   "cell_type": "code",
   "execution_count": 83,
   "metadata": {
    "tags": []
   },
   "outputs": [],
   "source": [
    "data_frame = pd.DataFrame()\n",
    "for loc in radares:\n",
    "    data_frame = pd.concat([data_frame,df_n.loc[df_n[\"Local\"]== loc]])\n",
    "\n"
   ]
  },
  {
   "cell_type": "code",
   "execution_count": 84,
   "metadata": {},
   "outputs": [
    {
     "output_type": "display_data",
     "data": {
      "text/plain": "       Lote                Data  Local  Faixa  Entrefaixa  Registro  \\\n109809   L3 2018-03-28 07:00:00   5445      3           1    120959   \n109810   L3 2018-03-28 07:01:00   5445      3           1    120960   \n109811   L3 2018-03-28 07:01:00   5445      3           1    120961   \n109812   L3 2018-03-28 07:01:00   5445      3           1    120962   \n109813   L3 2018-03-28 07:02:00   5445      3           1    120963   \n...     ...                 ...    ...    ...         ...       ...   \n209315   L3 2018-03-28 08:59:00   5401      2           0   2203374   \n209316   L3 2018-03-28 08:59:00   5401      3           0   2203373   \n209317   L3 2018-03-28 08:59:00   5401      3           0   2203375   \n209318   L3 2018-03-28 08:59:00   5401      1           0   2203376   \n209319   L3 2018-03-28 08:59:00   5401      2           0   2203377   \n\n        Tipo de Registro  Veiculo Final de Placa  Especie  Classe  \\\n109809                 0                              1.0     0.0   \n109810                 0   646816              0      0.0     0.0   \n109811                 0                              1.0     0.0   \n109812                 0   651594              1      1.0     0.0   \n109813                 0                              1.0     0.0   \n...                  ...      ...            ...      ...     ...   \n209315                 0                              1.0     0.0   \n209316                 0  1060355              3      1.0     0.0   \n209317                 0   746107              4      1.0     0.0   \n209318                 0  1189843              8      1.0     0.0   \n209319                 0   647825              0      1.0     0.0   \n\n        Comprimento  Velocidade  Ocupacao  \n109809         30.0        61.0     427.0  \n109810         20.0        86.0     287.0  \n109811         10.0        44.0     213.0  \n109812         40.0        36.0    1001.0  \n109813         40.0        92.0     430.0  \n...             ...         ...       ...  \n209315         43.0        89.0     959.0  \n209316         44.0        78.0    1028.0  \n209317         38.0        69.0    1114.0  \n209318         48.0       100.0     907.0  \n209319         48.0        94.0     949.0  \n\n[99511 rows x 14 columns]",
      "text/html": "<div>\n<style scoped>\n    .dataframe tbody tr th:only-of-type {\n        vertical-align: middle;\n    }\n\n    .dataframe tbody tr th {\n        vertical-align: top;\n    }\n\n    .dataframe thead th {\n        text-align: right;\n    }\n</style>\n<table border=\"1\" class=\"dataframe\">\n  <thead>\n    <tr style=\"text-align: right;\">\n      <th></th>\n      <th>Lote</th>\n      <th>Data</th>\n      <th>Local</th>\n      <th>Faixa</th>\n      <th>Entrefaixa</th>\n      <th>Registro</th>\n      <th>Tipo de Registro</th>\n      <th>Veiculo</th>\n      <th>Final de Placa</th>\n      <th>Especie</th>\n      <th>Classe</th>\n      <th>Comprimento</th>\n      <th>Velocidade</th>\n      <th>Ocupacao</th>\n    </tr>\n  </thead>\n  <tbody>\n    <tr>\n      <th>109809</th>\n      <td>L3</td>\n      <td>2018-03-28 07:00:00</td>\n      <td>5445</td>\n      <td>3</td>\n      <td>1</td>\n      <td>120959</td>\n      <td>0</td>\n      <td></td>\n      <td></td>\n      <td>1.0</td>\n      <td>0.0</td>\n      <td>30.0</td>\n      <td>61.0</td>\n      <td>427.0</td>\n    </tr>\n    <tr>\n      <th>109810</th>\n      <td>L3</td>\n      <td>2018-03-28 07:01:00</td>\n      <td>5445</td>\n      <td>3</td>\n      <td>1</td>\n      <td>120960</td>\n      <td>0</td>\n      <td>646816</td>\n      <td>0</td>\n      <td>0.0</td>\n      <td>0.0</td>\n      <td>20.0</td>\n      <td>86.0</td>\n      <td>287.0</td>\n    </tr>\n    <tr>\n      <th>109811</th>\n      <td>L3</td>\n      <td>2018-03-28 07:01:00</td>\n      <td>5445</td>\n      <td>3</td>\n      <td>1</td>\n      <td>120961</td>\n      <td>0</td>\n      <td></td>\n      <td></td>\n      <td>1.0</td>\n      <td>0.0</td>\n      <td>10.0</td>\n      <td>44.0</td>\n      <td>213.0</td>\n    </tr>\n    <tr>\n      <th>109812</th>\n      <td>L3</td>\n      <td>2018-03-28 07:01:00</td>\n      <td>5445</td>\n      <td>3</td>\n      <td>1</td>\n      <td>120962</td>\n      <td>0</td>\n      <td>651594</td>\n      <td>1</td>\n      <td>1.0</td>\n      <td>0.0</td>\n      <td>40.0</td>\n      <td>36.0</td>\n      <td>1001.0</td>\n    </tr>\n    <tr>\n      <th>109813</th>\n      <td>L3</td>\n      <td>2018-03-28 07:02:00</td>\n      <td>5445</td>\n      <td>3</td>\n      <td>1</td>\n      <td>120963</td>\n      <td>0</td>\n      <td></td>\n      <td></td>\n      <td>1.0</td>\n      <td>0.0</td>\n      <td>40.0</td>\n      <td>92.0</td>\n      <td>430.0</td>\n    </tr>\n    <tr>\n      <th>...</th>\n      <td>...</td>\n      <td>...</td>\n      <td>...</td>\n      <td>...</td>\n      <td>...</td>\n      <td>...</td>\n      <td>...</td>\n      <td>...</td>\n      <td>...</td>\n      <td>...</td>\n      <td>...</td>\n      <td>...</td>\n      <td>...</td>\n      <td>...</td>\n    </tr>\n    <tr>\n      <th>209315</th>\n      <td>L3</td>\n      <td>2018-03-28 08:59:00</td>\n      <td>5401</td>\n      <td>2</td>\n      <td>0</td>\n      <td>2203374</td>\n      <td>0</td>\n      <td></td>\n      <td></td>\n      <td>1.0</td>\n      <td>0.0</td>\n      <td>43.0</td>\n      <td>89.0</td>\n      <td>959.0</td>\n    </tr>\n    <tr>\n      <th>209316</th>\n      <td>L3</td>\n      <td>2018-03-28 08:59:00</td>\n      <td>5401</td>\n      <td>3</td>\n      <td>0</td>\n      <td>2203373</td>\n      <td>0</td>\n      <td>1060355</td>\n      <td>3</td>\n      <td>1.0</td>\n      <td>0.0</td>\n      <td>44.0</td>\n      <td>78.0</td>\n      <td>1028.0</td>\n    </tr>\n    <tr>\n      <th>209317</th>\n      <td>L3</td>\n      <td>2018-03-28 08:59:00</td>\n      <td>5401</td>\n      <td>3</td>\n      <td>0</td>\n      <td>2203375</td>\n      <td>0</td>\n      <td>746107</td>\n      <td>4</td>\n      <td>1.0</td>\n      <td>0.0</td>\n      <td>38.0</td>\n      <td>69.0</td>\n      <td>1114.0</td>\n    </tr>\n    <tr>\n      <th>209318</th>\n      <td>L3</td>\n      <td>2018-03-28 08:59:00</td>\n      <td>5401</td>\n      <td>1</td>\n      <td>0</td>\n      <td>2203376</td>\n      <td>0</td>\n      <td>1189843</td>\n      <td>8</td>\n      <td>1.0</td>\n      <td>0.0</td>\n      <td>48.0</td>\n      <td>100.0</td>\n      <td>907.0</td>\n    </tr>\n    <tr>\n      <th>209319</th>\n      <td>L3</td>\n      <td>2018-03-28 08:59:00</td>\n      <td>5401</td>\n      <td>2</td>\n      <td>0</td>\n      <td>2203377</td>\n      <td>0</td>\n      <td>647825</td>\n      <td>0</td>\n      <td>1.0</td>\n      <td>0.0</td>\n      <td>48.0</td>\n      <td>94.0</td>\n      <td>949.0</td>\n    </tr>\n  </tbody>\n</table>\n<p>99511 rows × 14 columns</p>\n</div>"
     },
     "metadata": {}
    }
   ],
   "source": [
    "display(data_frame)"
   ]
  },
  {
   "cell_type": "code",
   "execution_count": null,
   "metadata": {},
   "outputs": [],
   "source": []
  }
 ]
}