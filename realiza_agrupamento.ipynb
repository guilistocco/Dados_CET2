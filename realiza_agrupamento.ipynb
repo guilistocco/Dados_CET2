{
 "metadata": {
  "language_info": {
   "codemirror_mode": {
    "name": "ipython",
    "version": 3
   },
   "file_extension": ".py",
   "mimetype": "text/x-python",
   "name": "python",
   "nbconvert_exporter": "python",
   "pygments_lexer": "ipython3",
   "version": "3.8.8"
  },
  "orig_nbformat": 2,
  "kernelspec": {
   "name": "python388jvsc74a57bd0c128891205147936729526f581f197745d5b33cf3944c57e478d1b5b1cd938c9",
   "display_name": "Python 3.8.8 64-bit ('CET-env': conda)"
  }
 },
 "nbformat": 4,
 "nbformat_minor": 2,
 "cells": [
  {
   "cell_type": "code",
   "execution_count": 1,
   "metadata": {},
   "outputs": [],
   "source": [
    "import pandas as pd\n",
    "import os\n",
    "import numpy as np\n",
    "from datetime import timedelta\n",
    "from datetime import datetime\n",
    "import timeit"
   ]
  },
  {
   "cell_type": "code",
   "execution_count": 2,
   "metadata": {},
   "outputs": [
    {
     "output_type": "execute_result",
     "data": {
      "text/plain": [
       "  Lote                Data  Local  Numero Agrupado  Faixa  Entrefaixa  \\\n",
       "0   L3 2018-03-05 23:56:00   5323            10488      2           0   \n",
       "1   L3 2018-03-05 23:56:00   5323            10488      3           0   \n",
       "2   L3 2018-03-05 23:56:00   5323            10488      4           0   \n",
       "3   L3 2018-03-05 23:56:00   5323            10488      4           0   \n",
       "4   L3 2018-03-05 23:56:00   5323            10488      2           0   \n",
       "\n",
       "   Registro  Tipo de Registro  Veiculo Final de Placa  Especie  Classe  \\\n",
       "0    202135                 0   351855              4      1.0     0.0   \n",
       "1    202136                 0   908948              9      1.0     0.0   \n",
       "2    202137                 0   314820              3      1.0     0.0   \n",
       "3    202138                 0                              1.0     0.0   \n",
       "4    202139                 0    97455              6      1.0     0.0   \n",
       "\n",
       "   Comprimento  Velocidade  Ocupacao  \n",
       "0         45.0       108.0     766.0  \n",
       "1         42.0        97.0     835.0  \n",
       "2         40.0       122.0     656.0  \n",
       "3         44.0       108.0     772.0  \n",
       "4         39.0       106.0     761.0  "
      ],
      "text/html": "<div>\n<style scoped>\n    .dataframe tbody tr th:only-of-type {\n        vertical-align: middle;\n    }\n\n    .dataframe tbody tr th {\n        vertical-align: top;\n    }\n\n    .dataframe thead th {\n        text-align: right;\n    }\n</style>\n<table border=\"1\" class=\"dataframe\">\n  <thead>\n    <tr style=\"text-align: right;\">\n      <th></th>\n      <th>Lote</th>\n      <th>Data</th>\n      <th>Local</th>\n      <th>Numero Agrupado</th>\n      <th>Faixa</th>\n      <th>Entrefaixa</th>\n      <th>Registro</th>\n      <th>Tipo de Registro</th>\n      <th>Veiculo</th>\n      <th>Final de Placa</th>\n      <th>Especie</th>\n      <th>Classe</th>\n      <th>Comprimento</th>\n      <th>Velocidade</th>\n      <th>Ocupacao</th>\n    </tr>\n  </thead>\n  <tbody>\n    <tr>\n      <th>0</th>\n      <td>L3</td>\n      <td>2018-03-05 23:56:00</td>\n      <td>5323</td>\n      <td>10488</td>\n      <td>2</td>\n      <td>0</td>\n      <td>202135</td>\n      <td>0</td>\n      <td>351855</td>\n      <td>4</td>\n      <td>1.0</td>\n      <td>0.0</td>\n      <td>45.0</td>\n      <td>108.0</td>\n      <td>766.0</td>\n    </tr>\n    <tr>\n      <th>1</th>\n      <td>L3</td>\n      <td>2018-03-05 23:56:00</td>\n      <td>5323</td>\n      <td>10488</td>\n      <td>3</td>\n      <td>0</td>\n      <td>202136</td>\n      <td>0</td>\n      <td>908948</td>\n      <td>9</td>\n      <td>1.0</td>\n      <td>0.0</td>\n      <td>42.0</td>\n      <td>97.0</td>\n      <td>835.0</td>\n    </tr>\n    <tr>\n      <th>2</th>\n      <td>L3</td>\n      <td>2018-03-05 23:56:00</td>\n      <td>5323</td>\n      <td>10488</td>\n      <td>4</td>\n      <td>0</td>\n      <td>202137</td>\n      <td>0</td>\n      <td>314820</td>\n      <td>3</td>\n      <td>1.0</td>\n      <td>0.0</td>\n      <td>40.0</td>\n      <td>122.0</td>\n      <td>656.0</td>\n    </tr>\n    <tr>\n      <th>3</th>\n      <td>L3</td>\n      <td>2018-03-05 23:56:00</td>\n      <td>5323</td>\n      <td>10488</td>\n      <td>4</td>\n      <td>0</td>\n      <td>202138</td>\n      <td>0</td>\n      <td></td>\n      <td></td>\n      <td>1.0</td>\n      <td>0.0</td>\n      <td>44.0</td>\n      <td>108.0</td>\n      <td>772.0</td>\n    </tr>\n    <tr>\n      <th>4</th>\n      <td>L3</td>\n      <td>2018-03-05 23:56:00</td>\n      <td>5323</td>\n      <td>10488</td>\n      <td>2</td>\n      <td>0</td>\n      <td>202139</td>\n      <td>0</td>\n      <td>97455</td>\n      <td>6</td>\n      <td>1.0</td>\n      <td>0.0</td>\n      <td>39.0</td>\n      <td>106.0</td>\n      <td>761.0</td>\n    </tr>\n  </tbody>\n</table>\n</div>"
     },
     "metadata": {},
     "execution_count": 2
    }
   ],
   "source": [
    "df = pd.read_csv(\"../../Dados_CET/tercas-quartas-quintas-selecionados/\"+ 'tercas' + \"/\" + \"6\" +\"_selecionado.csv\", index_col=\"Unnamed: 0\")\n",
    "\n",
    "df[\"Data\"] = pd.to_datetime(df[\"Data\"],format='%Y-%m-%d %H:%M:%S', errors='coerce')\n",
    "\n",
    "df.head()"
   ]
  },
  {
   "cell_type": "code",
   "execution_count": 3,
   "metadata": {},
   "outputs": [
    {
     "output_type": "execute_result",
     "data": {
      "text/plain": [
       "(3, 6)"
      ]
     },
     "metadata": {},
     "execution_count": 3
    }
   ],
   "source": [
    "df.Data.dt.date[60].month, df.Data.dt.date[60].day"
   ]
  },
  {
   "cell_type": "code",
   "execution_count": null,
   "metadata": {},
   "outputs": [],
   "source": []
  },
  {
   "cell_type": "code",
   "execution_count": 4,
   "metadata": {},
   "outputs": [
    {
     "output_type": "stream",
     "name": "stdout",
     "text": [
      "<class 'pandas.core.frame.DataFrame'>\nInt64Index: 594809 entries, 0 to 594808\nData columns (total 15 columns):\n #   Column            Non-Null Count   Dtype         \n---  ------            --------------   -----         \n 0   Lote              594809 non-null  object        \n 1   Data              594809 non-null  datetime64[ns]\n 2   Local             594809 non-null  int64         \n 3   Numero Agrupado   594809 non-null  int64         \n 4   Faixa             594809 non-null  int64         \n 5   Entrefaixa        594809 non-null  int64         \n 6   Registro          594809 non-null  int64         \n 7   Tipo de Registro  594809 non-null  int64         \n 8   Veiculo           594809 non-null  object        \n 9   Final de Placa    594809 non-null  object        \n 10  Especie           594218 non-null  float64       \n 11  Classe            594218 non-null  float64       \n 12  Comprimento       594218 non-null  float64       \n 13  Velocidade        594218 non-null  float64       \n 14  Ocupacao          594218 non-null  float64       \ndtypes: datetime64[ns](1), float64(5), int64(6), object(3)\nmemory usage: 88.7+ MB\n"
     ]
    }
   ],
   "source": [
    "df.info()"
   ]
  },
  {
   "cell_type": "code",
   "execution_count": 5,
   "metadata": {},
   "outputs": [
    {
     "output_type": "execute_result",
     "data": {
      "text/plain": [
       "  Lote                Data  Local  Numero Agrupado  Faixa  Entrefaixa  \\\n",
       "0   L3 2018-03-05 23:56:00   5323            10488      2           0   \n",
       "1   L3 2018-03-05 23:56:00   5323            10488      3           0   \n",
       "2   L3 2018-03-05 23:56:00   5323            10488      4           0   \n",
       "3   L3 2018-03-05 23:56:00   5323            10488      4           0   \n",
       "4   L3 2018-03-05 23:56:00   5323            10488      2           0   \n",
       "\n",
       "   Registro  Tipo de Registro  Veiculo Final de Placa  Especie  Classe  \\\n",
       "0    202135                 0   351855              4      1.0     0.0   \n",
       "1    202136                 0   908948              9      1.0     0.0   \n",
       "2    202137                 0   314820              3      1.0     0.0   \n",
       "3    202138                 0                              1.0     0.0   \n",
       "4    202139                 0    97455              6      1.0     0.0   \n",
       "\n",
       "   Comprimento  Velocidade  Ocupacao  \n",
       "0         45.0       108.0     766.0  \n",
       "1         42.0        97.0     835.0  \n",
       "2         40.0       122.0     656.0  \n",
       "3         44.0       108.0     772.0  \n",
       "4         39.0       106.0     761.0  "
      ],
      "text/html": "<div>\n<style scoped>\n    .dataframe tbody tr th:only-of-type {\n        vertical-align: middle;\n    }\n\n    .dataframe tbody tr th {\n        vertical-align: top;\n    }\n\n    .dataframe thead th {\n        text-align: right;\n    }\n</style>\n<table border=\"1\" class=\"dataframe\">\n  <thead>\n    <tr style=\"text-align: right;\">\n      <th></th>\n      <th>Lote</th>\n      <th>Data</th>\n      <th>Local</th>\n      <th>Numero Agrupado</th>\n      <th>Faixa</th>\n      <th>Entrefaixa</th>\n      <th>Registro</th>\n      <th>Tipo de Registro</th>\n      <th>Veiculo</th>\n      <th>Final de Placa</th>\n      <th>Especie</th>\n      <th>Classe</th>\n      <th>Comprimento</th>\n      <th>Velocidade</th>\n      <th>Ocupacao</th>\n    </tr>\n  </thead>\n  <tbody>\n    <tr>\n      <th>0</th>\n      <td>L3</td>\n      <td>2018-03-05 23:56:00</td>\n      <td>5323</td>\n      <td>10488</td>\n      <td>2</td>\n      <td>0</td>\n      <td>202135</td>\n      <td>0</td>\n      <td>351855</td>\n      <td>4</td>\n      <td>1.0</td>\n      <td>0.0</td>\n      <td>45.0</td>\n      <td>108.0</td>\n      <td>766.0</td>\n    </tr>\n    <tr>\n      <th>1</th>\n      <td>L3</td>\n      <td>2018-03-05 23:56:00</td>\n      <td>5323</td>\n      <td>10488</td>\n      <td>3</td>\n      <td>0</td>\n      <td>202136</td>\n      <td>0</td>\n      <td>908948</td>\n      <td>9</td>\n      <td>1.0</td>\n      <td>0.0</td>\n      <td>42.0</td>\n      <td>97.0</td>\n      <td>835.0</td>\n    </tr>\n    <tr>\n      <th>2</th>\n      <td>L3</td>\n      <td>2018-03-05 23:56:00</td>\n      <td>5323</td>\n      <td>10488</td>\n      <td>4</td>\n      <td>0</td>\n      <td>202137</td>\n      <td>0</td>\n      <td>314820</td>\n      <td>3</td>\n      <td>1.0</td>\n      <td>0.0</td>\n      <td>40.0</td>\n      <td>122.0</td>\n      <td>656.0</td>\n    </tr>\n    <tr>\n      <th>3</th>\n      <td>L3</td>\n      <td>2018-03-05 23:56:00</td>\n      <td>5323</td>\n      <td>10488</td>\n      <td>4</td>\n      <td>0</td>\n      <td>202138</td>\n      <td>0</td>\n      <td></td>\n      <td></td>\n      <td>1.0</td>\n      <td>0.0</td>\n      <td>44.0</td>\n      <td>108.0</td>\n      <td>772.0</td>\n    </tr>\n    <tr>\n      <th>4</th>\n      <td>L3</td>\n      <td>2018-03-05 23:56:00</td>\n      <td>5323</td>\n      <td>10488</td>\n      <td>2</td>\n      <td>0</td>\n      <td>202139</td>\n      <td>0</td>\n      <td>97455</td>\n      <td>6</td>\n      <td>1.0</td>\n      <td>0.0</td>\n      <td>39.0</td>\n      <td>106.0</td>\n      <td>761.0</td>\n    </tr>\n  </tbody>\n</table>\n</div>"
     },
     "metadata": {},
     "execution_count": 5
    }
   ],
   "source": [
    "df_base = df.copy()\n",
    "\n",
    "\n",
    "df_base[\"Data\"] = pd.to_datetime(df_base[\"Data\"],format='%Y-%m-%d %H:%M:%S', errors='coerce')\n",
    "\n",
    "\n",
    "# limpa a ocupacao\n",
    "df_base.drop(df_base.loc[df_base['Ocupacao'] =='     ','Ocupacao'].index, inplace=True)\n",
    "df_base.Ocupacao = df_base.Ocupacao.astype(float)\n",
    "\n",
    "#dropa vazios\n",
    "df_base.drop(df_base.loc[df_base['Velocidade'] =='   ','Velocidade'].index, inplace=True)\n",
    "\n",
    "#dropa não válidos (nan)\n",
    "df_base.loc[:,'Velocidade'].dropna(inplace=True)\n",
    "\n",
    "#coloca tudo no mesmo formato de dado int\n",
    "df_base.loc[:,'Velocidade'] = pd.to_numeric(df_base.loc[:,'Velocidade'])\n",
    "\n",
    "# colocar faixa no formato int\n",
    "df_base.loc[:,'Faixa'] = pd.to_numeric(df_base.loc[:,'Faixa'])\n",
    "\n",
    "# colocar Especie no formato int\n",
    "df_base.loc[:,'Especie'] = pd.to_numeric(df_base.loc[:,'Especie'])\n",
    "\n",
    "###### Numero Agrupado é uma String\n",
    "\n",
    "df_base.reset_index(drop=True,inplace=True)\n",
    "\n",
    "df_base.head()"
   ]
  },
  {
   "cell_type": "code",
   "execution_count": 6,
   "metadata": {},
   "outputs": [
    {
     "output_type": "execute_result",
     "data": {
      "text/plain": [
       "(3, 6)"
      ]
     },
     "metadata": {},
     "execution_count": 6
    }
   ],
   "source": [
    "df_base.Data.dt.date[60].month, df_base.Data.dt.date[60].day"
   ]
  },
  {
   "cell_type": "code",
   "execution_count": 7,
   "metadata": {},
   "outputs": [
    {
     "output_type": "stream",
     "name": "stdout",
     "text": [
      "<class 'pandas.core.frame.DataFrame'>\nRangeIndex: 594809 entries, 0 to 594808\nData columns (total 15 columns):\n #   Column            Non-Null Count   Dtype         \n---  ------            --------------   -----         \n 0   Lote              594809 non-null  object        \n 1   Data              594809 non-null  datetime64[ns]\n 2   Local             594809 non-null  int64         \n 3   Numero Agrupado   594809 non-null  int64         \n 4   Faixa             594809 non-null  int64         \n 5   Entrefaixa        594809 non-null  int64         \n 6   Registro          594809 non-null  int64         \n 7   Tipo de Registro  594809 non-null  int64         \n 8   Veiculo           594809 non-null  object        \n 9   Final de Placa    594809 non-null  object        \n 10  Especie           594218 non-null  float64       \n 11  Classe            594218 non-null  float64       \n 12  Comprimento       594218 non-null  float64       \n 13  Velocidade        594218 non-null  float64       \n 14  Ocupacao          594218 non-null  float64       \ndtypes: datetime64[ns](1), float64(5), int64(6), object(3)\nmemory usage: 68.1+ MB\n"
     ]
    }
   ],
   "source": [
    "df_base.info()"
   ]
  },
  {
   "cell_type": "code",
   "execution_count": 8,
   "metadata": {},
   "outputs": [
    {
     "output_type": "execute_result",
     "data": {
      "text/plain": [
       "   Numero Agrupado  Faixa  Especie                Data  Volume  Vel_media  \\\n",
       "0            10433      1      0.0 2018-03-05 23:56:00       1      144.0   \n",
       "1            10433      1      0.0 2018-03-06 00:00:00       1      122.0   \n",
       "2            10433      1      0.0 2018-03-06 00:12:00       1      103.0   \n",
       "3            10433      1      0.0 2018-03-06 00:32:00       1      117.0   \n",
       "4            10433      1      0.0 2018-03-06 00:52:00       1      117.0   \n",
       "\n",
       "   Vel_mediana  Vel_desvpad  Ocu_media  Ocu_mediana  Ocu_desvpad  \n",
       "0        144.0          NaN      346.0        346.0          NaN  \n",
       "1        122.0          NaN      392.0        392.0          NaN  \n",
       "2        103.0          NaN      346.0        346.0          NaN  \n",
       "3        117.0          NaN      257.0        257.0          NaN  \n",
       "4        117.0          NaN      385.0        385.0          NaN  "
      ],
      "text/html": "<div>\n<style scoped>\n    .dataframe tbody tr th:only-of-type {\n        vertical-align: middle;\n    }\n\n    .dataframe tbody tr th {\n        vertical-align: top;\n    }\n\n    .dataframe thead th {\n        text-align: right;\n    }\n</style>\n<table border=\"1\" class=\"dataframe\">\n  <thead>\n    <tr style=\"text-align: right;\">\n      <th></th>\n      <th>Numero Agrupado</th>\n      <th>Faixa</th>\n      <th>Especie</th>\n      <th>Data</th>\n      <th>Volume</th>\n      <th>Vel_media</th>\n      <th>Vel_mediana</th>\n      <th>Vel_desvpad</th>\n      <th>Ocu_media</th>\n      <th>Ocu_mediana</th>\n      <th>Ocu_desvpad</th>\n    </tr>\n  </thead>\n  <tbody>\n    <tr>\n      <th>0</th>\n      <td>10433</td>\n      <td>1</td>\n      <td>0.0</td>\n      <td>2018-03-05 23:56:00</td>\n      <td>1</td>\n      <td>144.0</td>\n      <td>144.0</td>\n      <td>NaN</td>\n      <td>346.0</td>\n      <td>346.0</td>\n      <td>NaN</td>\n    </tr>\n    <tr>\n      <th>1</th>\n      <td>10433</td>\n      <td>1</td>\n      <td>0.0</td>\n      <td>2018-03-06 00:00:00</td>\n      <td>1</td>\n      <td>122.0</td>\n      <td>122.0</td>\n      <td>NaN</td>\n      <td>392.0</td>\n      <td>392.0</td>\n      <td>NaN</td>\n    </tr>\n    <tr>\n      <th>2</th>\n      <td>10433</td>\n      <td>1</td>\n      <td>0.0</td>\n      <td>2018-03-06 00:12:00</td>\n      <td>1</td>\n      <td>103.0</td>\n      <td>103.0</td>\n      <td>NaN</td>\n      <td>346.0</td>\n      <td>346.0</td>\n      <td>NaN</td>\n    </tr>\n    <tr>\n      <th>3</th>\n      <td>10433</td>\n      <td>1</td>\n      <td>0.0</td>\n      <td>2018-03-06 00:32:00</td>\n      <td>1</td>\n      <td>117.0</td>\n      <td>117.0</td>\n      <td>NaN</td>\n      <td>257.0</td>\n      <td>257.0</td>\n      <td>NaN</td>\n    </tr>\n    <tr>\n      <th>4</th>\n      <td>10433</td>\n      <td>1</td>\n      <td>0.0</td>\n      <td>2018-03-06 00:52:00</td>\n      <td>1</td>\n      <td>117.0</td>\n      <td>117.0</td>\n      <td>NaN</td>\n      <td>385.0</td>\n      <td>385.0</td>\n      <td>NaN</td>\n    </tr>\n  </tbody>\n</table>\n</div>"
     },
     "metadata": {},
     "execution_count": 8
    }
   ],
   "source": [
    "df_agregado = df_base.copy()\n",
    "\n",
    "df_agregado.loc[:,'V1'] = df_agregado.loc[:,'Velocidade'].copy()\n",
    "df_agregado.loc[:,'V2'] = df_agregado.loc[:,'Velocidade'].copy()\n",
    "df_agregado.loc[:,'Oc1'] = df_agregado.loc[:,'Ocupacao'].copy()\n",
    "df_agregado.loc[:,'Oc2'] = df_agregado.loc[:,'Ocupacao'].copy()\n",
    "\n",
    "\n",
    "\n",
    "df_agregado = df_agregado.groupby(['Numero Agrupado',\"Faixa\",'Especie',pd.Grouper(key='Data', freq='4Min')]).agg(\n",
    "                                                                        {\"Registro\": \"count\",\n",
    "                                                                        'Velocidade': 'mean',\n",
    "                                                                        'V1':'median',\n",
    "                                                                        'V2':'std',\n",
    "                                                                        'Ocupacao':'mean',\n",
    "                                                                        'Oc1':'median',\n",
    "                                                                        'Oc2':'std',\n",
    "                                                                        })\n",
    "df_agregado.columns=[\n",
    "            \"Volume\",\n",
    "            'Vel_media',\n",
    "            'Vel_mediana',\n",
    "            'Vel_desvpad',\n",
    "            'Ocu_media',\n",
    "            'Ocu_mediana',\n",
    "            'Ocu_desvpad'\n",
    "            ] # Renomeia\n",
    "\n",
    "df_agregado.reset_index(inplace=True)\n",
    "df_agregado.head()"
   ]
  },
  {
   "cell_type": "code",
   "execution_count": 9,
   "metadata": {},
   "outputs": [
    {
     "output_type": "stream",
     "name": "stdout",
     "text": [
      "<class 'pandas.core.frame.DataFrame'>\nRangeIndex: 23291 entries, 0 to 23290\nData columns (total 11 columns):\n #   Column           Non-Null Count  Dtype         \n---  ------           --------------  -----         \n 0   Numero Agrupado  23291 non-null  int64         \n 1   Faixa            23291 non-null  int64         \n 2   Especie          23291 non-null  float64       \n 3   Data             23291 non-null  datetime64[ns]\n 4   Volume           23291 non-null  int64         \n 5   Vel_media        23291 non-null  float64       \n 6   Vel_mediana      23291 non-null  float64       \n 7   Vel_desvpad      17700 non-null  float64       \n 8   Ocu_media        23291 non-null  float64       \n 9   Ocu_mediana      23291 non-null  float64       \n 10  Ocu_desvpad      17700 non-null  float64       \ndtypes: datetime64[ns](1), float64(7), int64(3)\nmemory usage: 2.0 MB\n"
     ]
    }
   ],
   "source": [
    "df_agregado.info()"
   ]
  },
  {
   "cell_type": "code",
   "execution_count": 10,
   "metadata": {},
   "outputs": [
    {
     "output_type": "execute_result",
     "data": {
      "text/plain": [
       "{10433, 10482, 10488, 10500, 10531, 10557, 10595, 10761}"
      ]
     },
     "metadata": {},
     "execution_count": 10
    }
   ],
   "source": [
    "set(df_agregado[\"Numero Agrupado\"])"
   ]
  },
  {
   "cell_type": "code",
   "execution_count": 11,
   "metadata": {},
   "outputs": [
    {
     "output_type": "execute_result",
     "data": {
      "text/plain": [
       "    Numero Agrupado  Faixa  Especie                Data  Volume   Vel_media  \\\n",
       "0             10433      1      0.0 2018-03-05 23:56:00       1  144.000000   \n",
       "1             10433      1      0.0 2018-03-06 00:00:00       1  122.000000   \n",
       "2             10433      1      0.0 2018-03-06 00:12:00       1  103.000000   \n",
       "3             10433      1      0.0 2018-03-06 00:32:00       1  117.000000   \n",
       "4             10433      1      0.0 2018-03-06 00:52:00       1  117.000000   \n",
       "5             10433      1      0.0 2018-03-06 01:08:00       1  139.000000   \n",
       "6             10433      1      0.0 2018-03-06 01:28:00       1  136.000000   \n",
       "7             10433      1      0.0 2018-03-06 02:04:00       1  117.000000   \n",
       "8             10433      1      0.0 2018-03-06 03:08:00       1  131.000000   \n",
       "9             10433      1      0.0 2018-03-06 03:44:00       1  106.000000   \n",
       "10            10433      1      0.0 2018-03-06 04:16:00       1  119.000000   \n",
       "11            10433      1      0.0 2018-03-06 04:32:00       1  114.000000   \n",
       "12            10433      1      0.0 2018-03-06 04:56:00       1  119.000000   \n",
       "13            10433      1      0.0 2018-03-06 05:04:00       1  119.000000   \n",
       "14            10433      1      0.0 2018-03-06 05:08:00       2  112.500000   \n",
       "15            10433      1      0.0 2018-03-06 05:16:00       1  125.000000   \n",
       "16            10433      1      0.0 2018-03-06 05:24:00       1  114.000000   \n",
       "17            10433      1      0.0 2018-03-06 05:28:00       1  131.000000   \n",
       "18            10433      1      0.0 2018-03-06 05:32:00       1  139.000000   \n",
       "19            10433      1      0.0 2018-03-06 05:40:00       3  120.333333   \n",
       "20            10433      1      0.0 2018-03-06 05:48:00       2  122.000000   \n",
       "21            10433      1      0.0 2018-03-06 05:52:00       2  120.500000   \n",
       "22            10433      1      0.0 2018-03-06 05:56:00       2  146.000000   \n",
       "23            10433      1      0.0 2018-03-06 06:00:00       1  144.000000   \n",
       "24            10433      1      0.0 2018-03-06 06:04:00       3  118.666667   \n",
       "25            10433      1      0.0 2018-03-06 06:24:00       1   97.000000   \n",
       "26            10433      1      0.0 2018-03-06 06:28:00       3  124.666667   \n",
       "27            10433      1      0.0 2018-03-06 06:36:00       2  106.500000   \n",
       "28            10433      1      0.0 2018-03-06 06:40:00       4  131.750000   \n",
       "29            10433      1      0.0 2018-03-06 06:44:00       3  120.333333   \n",
       "30            10433      1      0.0 2018-03-06 06:48:00       2  135.000000   \n",
       "31            10433      1      0.0 2018-03-06 06:52:00       8  123.500000   \n",
       "32            10433      1      0.0 2018-03-06 06:56:00       8  122.250000   \n",
       "33            10433      1      0.0 2018-03-06 07:00:00      16  126.187500   \n",
       "34            10433      1      0.0 2018-03-06 07:04:00      10  120.000000   \n",
       "35            10433      1      0.0 2018-03-06 07:08:00      10  118.600000   \n",
       "36            10433      1      0.0 2018-03-06 07:12:00      20  125.100000   \n",
       "37            10433      1      0.0 2018-03-06 07:16:00      24  121.625000   \n",
       "38            10433      1      0.0 2018-03-06 07:20:00      12  120.916667   \n",
       "39            10433      1      0.0 2018-03-06 07:24:00      12  128.666667   \n",
       "40            10433      1      0.0 2018-03-06 07:28:00      14  117.500000   \n",
       "41            10433      1      0.0 2018-03-06 07:32:00      21  128.857143   \n",
       "42            10433      1      0.0 2018-03-06 07:36:00      31  123.548387   \n",
       "43            10433      1      0.0 2018-03-06 07:40:00      17  121.705882   \n",
       "44            10433      1      0.0 2018-03-06 07:44:00      24  125.625000   \n",
       "45            10433      1      0.0 2018-03-06 07:48:00      17  126.235294   \n",
       "46            10433      1      0.0 2018-03-06 07:52:00      31  122.064516   \n",
       "47            10433      1      0.0 2018-03-06 07:56:00      20  119.800000   \n",
       "48            10433      1      0.0 2018-03-06 08:00:00      17  127.294118   \n",
       "49            10433      1      0.0 2018-03-06 08:04:00      18  122.055556   \n",
       "\n",
       "    Vel_mediana  Vel_desvpad   Ocu_media  Ocu_mediana  Ocu_desvpad  \n",
       "0         144.0          NaN  346.000000        346.0          NaN  \n",
       "1         122.0          NaN  392.000000        392.0          NaN  \n",
       "2         103.0          NaN  346.000000        346.0          NaN  \n",
       "3         117.0          NaN  257.000000        257.0          NaN  \n",
       "4         117.0          NaN  385.000000        385.0          NaN  \n",
       "5         139.0          NaN  334.000000        334.0          NaN  \n",
       "6         136.0          NaN  333.000000        333.0          NaN  \n",
       "7         117.0          NaN  369.000000        369.0          NaN  \n",
       "8         131.0          NaN  360.000000        360.0          NaN  \n",
       "9         106.0          NaN  497.000000        497.0          NaN  \n",
       "10        119.0          NaN  287.000000        287.0          NaN  \n",
       "11        114.0          NaN  391.000000        391.0          NaN  \n",
       "12        119.0          NaN  387.000000        387.0          NaN  \n",
       "13        119.0          NaN  236.000000        236.0          NaN  \n",
       "14        112.5     6.363961  413.000000        413.0    48.083261  \n",
       "15        125.0          NaN  258.000000        258.0          NaN  \n",
       "16        114.0          NaN  401.000000        401.0          NaN  \n",
       "17        131.0          NaN  353.000000        353.0          NaN  \n",
       "18        139.0          NaN  115.000000        115.0          NaN  \n",
       "19        117.0    14.294521  310.000000        315.0    89.604687  \n",
       "20        122.0     4.242641  345.000000        345.0    11.313708  \n",
       "21        120.5    17.677670  378.500000        378.5    36.062446  \n",
       "22        146.0     5.656854  260.000000        260.0   151.320851  \n",
       "23        144.0          NaN  159.000000        159.0          NaN  \n",
       "24        106.0    21.939310  348.666667        371.0    91.566005  \n",
       "25         97.0          NaN  352.000000        352.0          NaN  \n",
       "26        122.0     7.371115  211.000000        158.0   146.857073  \n",
       "27        106.5    17.677670  394.000000        394.0    87.681241  \n",
       "28        136.0    14.545904  389.500000        313.5   265.340662  \n",
       "29        125.0    10.785793  333.333333        357.0    55.428633  \n",
       "30        135.0     9.899495  349.000000        349.0    21.213203  \n",
       "31        122.0    12.581165  364.625000        377.5    63.118794  \n",
       "32        125.0    15.125664  325.125000        351.0    51.209479  \n",
       "33        120.5    18.294694  312.250000        323.0   115.006377  \n",
       "34        119.5    15.491933  385.000000        383.0    48.529487  \n",
       "35        117.0    15.152558  362.500000        391.0    63.885749  \n",
       "36        122.0    11.484085  384.400000        389.5    88.770194  \n",
       "37        122.0    15.006701  357.416667        376.5    87.242250  \n",
       "38        120.5     6.430868  338.833333        349.0    66.358302  \n",
       "39        125.0    19.132710  340.250000        336.0    50.181715  \n",
       "40        119.5    13.860569  362.857143        341.0   157.019282  \n",
       "41        125.0    16.653185  363.095238        367.0   102.973251  \n",
       "42        122.0    16.928947  557.258065        378.0   883.255756  \n",
       "43        119.0    11.162239  375.823529        361.0    75.349382  \n",
       "44        122.0    15.219588  338.541667        351.0    74.617855  \n",
       "45        125.0    11.377222  325.294118        376.0   104.728079  \n",
       "46        119.0    17.699219  472.774194        346.0   751.079743  \n",
       "47        118.0    14.841620  376.500000        384.0    65.349667  \n",
       "48        117.0    23.502034  381.823529        369.0   147.876737  \n",
       "49        120.5    14.509519  618.555556        363.0  1090.467586  "
      ],
      "text/html": "<div>\n<style scoped>\n    .dataframe tbody tr th:only-of-type {\n        vertical-align: middle;\n    }\n\n    .dataframe tbody tr th {\n        vertical-align: top;\n    }\n\n    .dataframe thead th {\n        text-align: right;\n    }\n</style>\n<table border=\"1\" class=\"dataframe\">\n  <thead>\n    <tr style=\"text-align: right;\">\n      <th></th>\n      <th>Numero Agrupado</th>\n      <th>Faixa</th>\n      <th>Especie</th>\n      <th>Data</th>\n      <th>Volume</th>\n      <th>Vel_media</th>\n      <th>Vel_mediana</th>\n      <th>Vel_desvpad</th>\n      <th>Ocu_media</th>\n      <th>Ocu_mediana</th>\n      <th>Ocu_desvpad</th>\n    </tr>\n  </thead>\n  <tbody>\n    <tr>\n      <th>0</th>\n      <td>10433</td>\n      <td>1</td>\n      <td>0.0</td>\n      <td>2018-03-05 23:56:00</td>\n      <td>1</td>\n      <td>144.000000</td>\n      <td>144.0</td>\n      <td>NaN</td>\n      <td>346.000000</td>\n      <td>346.0</td>\n      <td>NaN</td>\n    </tr>\n    <tr>\n      <th>1</th>\n      <td>10433</td>\n      <td>1</td>\n      <td>0.0</td>\n      <td>2018-03-06 00:00:00</td>\n      <td>1</td>\n      <td>122.000000</td>\n      <td>122.0</td>\n      <td>NaN</td>\n      <td>392.000000</td>\n      <td>392.0</td>\n      <td>NaN</td>\n    </tr>\n    <tr>\n      <th>2</th>\n      <td>10433</td>\n      <td>1</td>\n      <td>0.0</td>\n      <td>2018-03-06 00:12:00</td>\n      <td>1</td>\n      <td>103.000000</td>\n      <td>103.0</td>\n      <td>NaN</td>\n      <td>346.000000</td>\n      <td>346.0</td>\n      <td>NaN</td>\n    </tr>\n    <tr>\n      <th>3</th>\n      <td>10433</td>\n      <td>1</td>\n      <td>0.0</td>\n      <td>2018-03-06 00:32:00</td>\n      <td>1</td>\n      <td>117.000000</td>\n      <td>117.0</td>\n      <td>NaN</td>\n      <td>257.000000</td>\n      <td>257.0</td>\n      <td>NaN</td>\n    </tr>\n    <tr>\n      <th>4</th>\n      <td>10433</td>\n      <td>1</td>\n      <td>0.0</td>\n      <td>2018-03-06 00:52:00</td>\n      <td>1</td>\n      <td>117.000000</td>\n      <td>117.0</td>\n      <td>NaN</td>\n      <td>385.000000</td>\n      <td>385.0</td>\n      <td>NaN</td>\n    </tr>\n    <tr>\n      <th>5</th>\n      <td>10433</td>\n      <td>1</td>\n      <td>0.0</td>\n      <td>2018-03-06 01:08:00</td>\n      <td>1</td>\n      <td>139.000000</td>\n      <td>139.0</td>\n      <td>NaN</td>\n      <td>334.000000</td>\n      <td>334.0</td>\n      <td>NaN</td>\n    </tr>\n    <tr>\n      <th>6</th>\n      <td>10433</td>\n      <td>1</td>\n      <td>0.0</td>\n      <td>2018-03-06 01:28:00</td>\n      <td>1</td>\n      <td>136.000000</td>\n      <td>136.0</td>\n      <td>NaN</td>\n      <td>333.000000</td>\n      <td>333.0</td>\n      <td>NaN</td>\n    </tr>\n    <tr>\n      <th>7</th>\n      <td>10433</td>\n      <td>1</td>\n      <td>0.0</td>\n      <td>2018-03-06 02:04:00</td>\n      <td>1</td>\n      <td>117.000000</td>\n      <td>117.0</td>\n      <td>NaN</td>\n      <td>369.000000</td>\n      <td>369.0</td>\n      <td>NaN</td>\n    </tr>\n    <tr>\n      <th>8</th>\n      <td>10433</td>\n      <td>1</td>\n      <td>0.0</td>\n      <td>2018-03-06 03:08:00</td>\n      <td>1</td>\n      <td>131.000000</td>\n      <td>131.0</td>\n      <td>NaN</td>\n      <td>360.000000</td>\n      <td>360.0</td>\n      <td>NaN</td>\n    </tr>\n    <tr>\n      <th>9</th>\n      <td>10433</td>\n      <td>1</td>\n      <td>0.0</td>\n      <td>2018-03-06 03:44:00</td>\n      <td>1</td>\n      <td>106.000000</td>\n      <td>106.0</td>\n      <td>NaN</td>\n      <td>497.000000</td>\n      <td>497.0</td>\n      <td>NaN</td>\n    </tr>\n    <tr>\n      <th>10</th>\n      <td>10433</td>\n      <td>1</td>\n      <td>0.0</td>\n      <td>2018-03-06 04:16:00</td>\n      <td>1</td>\n      <td>119.000000</td>\n      <td>119.0</td>\n      <td>NaN</td>\n      <td>287.000000</td>\n      <td>287.0</td>\n      <td>NaN</td>\n    </tr>\n    <tr>\n      <th>11</th>\n      <td>10433</td>\n      <td>1</td>\n      <td>0.0</td>\n      <td>2018-03-06 04:32:00</td>\n      <td>1</td>\n      <td>114.000000</td>\n      <td>114.0</td>\n      <td>NaN</td>\n      <td>391.000000</td>\n      <td>391.0</td>\n      <td>NaN</td>\n    </tr>\n    <tr>\n      <th>12</th>\n      <td>10433</td>\n      <td>1</td>\n      <td>0.0</td>\n      <td>2018-03-06 04:56:00</td>\n      <td>1</td>\n      <td>119.000000</td>\n      <td>119.0</td>\n      <td>NaN</td>\n      <td>387.000000</td>\n      <td>387.0</td>\n      <td>NaN</td>\n    </tr>\n    <tr>\n      <th>13</th>\n      <td>10433</td>\n      <td>1</td>\n      <td>0.0</td>\n      <td>2018-03-06 05:04:00</td>\n      <td>1</td>\n      <td>119.000000</td>\n      <td>119.0</td>\n      <td>NaN</td>\n      <td>236.000000</td>\n      <td>236.0</td>\n      <td>NaN</td>\n    </tr>\n    <tr>\n      <th>14</th>\n      <td>10433</td>\n      <td>1</td>\n      <td>0.0</td>\n      <td>2018-03-06 05:08:00</td>\n      <td>2</td>\n      <td>112.500000</td>\n      <td>112.5</td>\n      <td>6.363961</td>\n      <td>413.000000</td>\n      <td>413.0</td>\n      <td>48.083261</td>\n    </tr>\n    <tr>\n      <th>15</th>\n      <td>10433</td>\n      <td>1</td>\n      <td>0.0</td>\n      <td>2018-03-06 05:16:00</td>\n      <td>1</td>\n      <td>125.000000</td>\n      <td>125.0</td>\n      <td>NaN</td>\n      <td>258.000000</td>\n      <td>258.0</td>\n      <td>NaN</td>\n    </tr>\n    <tr>\n      <th>16</th>\n      <td>10433</td>\n      <td>1</td>\n      <td>0.0</td>\n      <td>2018-03-06 05:24:00</td>\n      <td>1</td>\n      <td>114.000000</td>\n      <td>114.0</td>\n      <td>NaN</td>\n      <td>401.000000</td>\n      <td>401.0</td>\n      <td>NaN</td>\n    </tr>\n    <tr>\n      <th>17</th>\n      <td>10433</td>\n      <td>1</td>\n      <td>0.0</td>\n      <td>2018-03-06 05:28:00</td>\n      <td>1</td>\n      <td>131.000000</td>\n      <td>131.0</td>\n      <td>NaN</td>\n      <td>353.000000</td>\n      <td>353.0</td>\n      <td>NaN</td>\n    </tr>\n    <tr>\n      <th>18</th>\n      <td>10433</td>\n      <td>1</td>\n      <td>0.0</td>\n      <td>2018-03-06 05:32:00</td>\n      <td>1</td>\n      <td>139.000000</td>\n      <td>139.0</td>\n      <td>NaN</td>\n      <td>115.000000</td>\n      <td>115.0</td>\n      <td>NaN</td>\n    </tr>\n    <tr>\n      <th>19</th>\n      <td>10433</td>\n      <td>1</td>\n      <td>0.0</td>\n      <td>2018-03-06 05:40:00</td>\n      <td>3</td>\n      <td>120.333333</td>\n      <td>117.0</td>\n      <td>14.294521</td>\n      <td>310.000000</td>\n      <td>315.0</td>\n      <td>89.604687</td>\n    </tr>\n    <tr>\n      <th>20</th>\n      <td>10433</td>\n      <td>1</td>\n      <td>0.0</td>\n      <td>2018-03-06 05:48:00</td>\n      <td>2</td>\n      <td>122.000000</td>\n      <td>122.0</td>\n      <td>4.242641</td>\n      <td>345.000000</td>\n      <td>345.0</td>\n      <td>11.313708</td>\n    </tr>\n    <tr>\n      <th>21</th>\n      <td>10433</td>\n      <td>1</td>\n      <td>0.0</td>\n      <td>2018-03-06 05:52:00</td>\n      <td>2</td>\n      <td>120.500000</td>\n      <td>120.5</td>\n      <td>17.677670</td>\n      <td>378.500000</td>\n      <td>378.5</td>\n      <td>36.062446</td>\n    </tr>\n    <tr>\n      <th>22</th>\n      <td>10433</td>\n      <td>1</td>\n      <td>0.0</td>\n      <td>2018-03-06 05:56:00</td>\n      <td>2</td>\n      <td>146.000000</td>\n      <td>146.0</td>\n      <td>5.656854</td>\n      <td>260.000000</td>\n      <td>260.0</td>\n      <td>151.320851</td>\n    </tr>\n    <tr>\n      <th>23</th>\n      <td>10433</td>\n      <td>1</td>\n      <td>0.0</td>\n      <td>2018-03-06 06:00:00</td>\n      <td>1</td>\n      <td>144.000000</td>\n      <td>144.0</td>\n      <td>NaN</td>\n      <td>159.000000</td>\n      <td>159.0</td>\n      <td>NaN</td>\n    </tr>\n    <tr>\n      <th>24</th>\n      <td>10433</td>\n      <td>1</td>\n      <td>0.0</td>\n      <td>2018-03-06 06:04:00</td>\n      <td>3</td>\n      <td>118.666667</td>\n      <td>106.0</td>\n      <td>21.939310</td>\n      <td>348.666667</td>\n      <td>371.0</td>\n      <td>91.566005</td>\n    </tr>\n    <tr>\n      <th>25</th>\n      <td>10433</td>\n      <td>1</td>\n      <td>0.0</td>\n      <td>2018-03-06 06:24:00</td>\n      <td>1</td>\n      <td>97.000000</td>\n      <td>97.0</td>\n      <td>NaN</td>\n      <td>352.000000</td>\n      <td>352.0</td>\n      <td>NaN</td>\n    </tr>\n    <tr>\n      <th>26</th>\n      <td>10433</td>\n      <td>1</td>\n      <td>0.0</td>\n      <td>2018-03-06 06:28:00</td>\n      <td>3</td>\n      <td>124.666667</td>\n      <td>122.0</td>\n      <td>7.371115</td>\n      <td>211.000000</td>\n      <td>158.0</td>\n      <td>146.857073</td>\n    </tr>\n    <tr>\n      <th>27</th>\n      <td>10433</td>\n      <td>1</td>\n      <td>0.0</td>\n      <td>2018-03-06 06:36:00</td>\n      <td>2</td>\n      <td>106.500000</td>\n      <td>106.5</td>\n      <td>17.677670</td>\n      <td>394.000000</td>\n      <td>394.0</td>\n      <td>87.681241</td>\n    </tr>\n    <tr>\n      <th>28</th>\n      <td>10433</td>\n      <td>1</td>\n      <td>0.0</td>\n      <td>2018-03-06 06:40:00</td>\n      <td>4</td>\n      <td>131.750000</td>\n      <td>136.0</td>\n      <td>14.545904</td>\n      <td>389.500000</td>\n      <td>313.5</td>\n      <td>265.340662</td>\n    </tr>\n    <tr>\n      <th>29</th>\n      <td>10433</td>\n      <td>1</td>\n      <td>0.0</td>\n      <td>2018-03-06 06:44:00</td>\n      <td>3</td>\n      <td>120.333333</td>\n      <td>125.0</td>\n      <td>10.785793</td>\n      <td>333.333333</td>\n      <td>357.0</td>\n      <td>55.428633</td>\n    </tr>\n    <tr>\n      <th>30</th>\n      <td>10433</td>\n      <td>1</td>\n      <td>0.0</td>\n      <td>2018-03-06 06:48:00</td>\n      <td>2</td>\n      <td>135.000000</td>\n      <td>135.0</td>\n      <td>9.899495</td>\n      <td>349.000000</td>\n      <td>349.0</td>\n      <td>21.213203</td>\n    </tr>\n    <tr>\n      <th>31</th>\n      <td>10433</td>\n      <td>1</td>\n      <td>0.0</td>\n      <td>2018-03-06 06:52:00</td>\n      <td>8</td>\n      <td>123.500000</td>\n      <td>122.0</td>\n      <td>12.581165</td>\n      <td>364.625000</td>\n      <td>377.5</td>\n      <td>63.118794</td>\n    </tr>\n    <tr>\n      <th>32</th>\n      <td>10433</td>\n      <td>1</td>\n      <td>0.0</td>\n      <td>2018-03-06 06:56:00</td>\n      <td>8</td>\n      <td>122.250000</td>\n      <td>125.0</td>\n      <td>15.125664</td>\n      <td>325.125000</td>\n      <td>351.0</td>\n      <td>51.209479</td>\n    </tr>\n    <tr>\n      <th>33</th>\n      <td>10433</td>\n      <td>1</td>\n      <td>0.0</td>\n      <td>2018-03-06 07:00:00</td>\n      <td>16</td>\n      <td>126.187500</td>\n      <td>120.5</td>\n      <td>18.294694</td>\n      <td>312.250000</td>\n      <td>323.0</td>\n      <td>115.006377</td>\n    </tr>\n    <tr>\n      <th>34</th>\n      <td>10433</td>\n      <td>1</td>\n      <td>0.0</td>\n      <td>2018-03-06 07:04:00</td>\n      <td>10</td>\n      <td>120.000000</td>\n      <td>119.5</td>\n      <td>15.491933</td>\n      <td>385.000000</td>\n      <td>383.0</td>\n      <td>48.529487</td>\n    </tr>\n    <tr>\n      <th>35</th>\n      <td>10433</td>\n      <td>1</td>\n      <td>0.0</td>\n      <td>2018-03-06 07:08:00</td>\n      <td>10</td>\n      <td>118.600000</td>\n      <td>117.0</td>\n      <td>15.152558</td>\n      <td>362.500000</td>\n      <td>391.0</td>\n      <td>63.885749</td>\n    </tr>\n    <tr>\n      <th>36</th>\n      <td>10433</td>\n      <td>1</td>\n      <td>0.0</td>\n      <td>2018-03-06 07:12:00</td>\n      <td>20</td>\n      <td>125.100000</td>\n      <td>122.0</td>\n      <td>11.484085</td>\n      <td>384.400000</td>\n      <td>389.5</td>\n      <td>88.770194</td>\n    </tr>\n    <tr>\n      <th>37</th>\n      <td>10433</td>\n      <td>1</td>\n      <td>0.0</td>\n      <td>2018-03-06 07:16:00</td>\n      <td>24</td>\n      <td>121.625000</td>\n      <td>122.0</td>\n      <td>15.006701</td>\n      <td>357.416667</td>\n      <td>376.5</td>\n      <td>87.242250</td>\n    </tr>\n    <tr>\n      <th>38</th>\n      <td>10433</td>\n      <td>1</td>\n      <td>0.0</td>\n      <td>2018-03-06 07:20:00</td>\n      <td>12</td>\n      <td>120.916667</td>\n      <td>120.5</td>\n      <td>6.430868</td>\n      <td>338.833333</td>\n      <td>349.0</td>\n      <td>66.358302</td>\n    </tr>\n    <tr>\n      <th>39</th>\n      <td>10433</td>\n      <td>1</td>\n      <td>0.0</td>\n      <td>2018-03-06 07:24:00</td>\n      <td>12</td>\n      <td>128.666667</td>\n      <td>125.0</td>\n      <td>19.132710</td>\n      <td>340.250000</td>\n      <td>336.0</td>\n      <td>50.181715</td>\n    </tr>\n    <tr>\n      <th>40</th>\n      <td>10433</td>\n      <td>1</td>\n      <td>0.0</td>\n      <td>2018-03-06 07:28:00</td>\n      <td>14</td>\n      <td>117.500000</td>\n      <td>119.5</td>\n      <td>13.860569</td>\n      <td>362.857143</td>\n      <td>341.0</td>\n      <td>157.019282</td>\n    </tr>\n    <tr>\n      <th>41</th>\n      <td>10433</td>\n      <td>1</td>\n      <td>0.0</td>\n      <td>2018-03-06 07:32:00</td>\n      <td>21</td>\n      <td>128.857143</td>\n      <td>125.0</td>\n      <td>16.653185</td>\n      <td>363.095238</td>\n      <td>367.0</td>\n      <td>102.973251</td>\n    </tr>\n    <tr>\n      <th>42</th>\n      <td>10433</td>\n      <td>1</td>\n      <td>0.0</td>\n      <td>2018-03-06 07:36:00</td>\n      <td>31</td>\n      <td>123.548387</td>\n      <td>122.0</td>\n      <td>16.928947</td>\n      <td>557.258065</td>\n      <td>378.0</td>\n      <td>883.255756</td>\n    </tr>\n    <tr>\n      <th>43</th>\n      <td>10433</td>\n      <td>1</td>\n      <td>0.0</td>\n      <td>2018-03-06 07:40:00</td>\n      <td>17</td>\n      <td>121.705882</td>\n      <td>119.0</td>\n      <td>11.162239</td>\n      <td>375.823529</td>\n      <td>361.0</td>\n      <td>75.349382</td>\n    </tr>\n    <tr>\n      <th>44</th>\n      <td>10433</td>\n      <td>1</td>\n      <td>0.0</td>\n      <td>2018-03-06 07:44:00</td>\n      <td>24</td>\n      <td>125.625000</td>\n      <td>122.0</td>\n      <td>15.219588</td>\n      <td>338.541667</td>\n      <td>351.0</td>\n      <td>74.617855</td>\n    </tr>\n    <tr>\n      <th>45</th>\n      <td>10433</td>\n      <td>1</td>\n      <td>0.0</td>\n      <td>2018-03-06 07:48:00</td>\n      <td>17</td>\n      <td>126.235294</td>\n      <td>125.0</td>\n      <td>11.377222</td>\n      <td>325.294118</td>\n      <td>376.0</td>\n      <td>104.728079</td>\n    </tr>\n    <tr>\n      <th>46</th>\n      <td>10433</td>\n      <td>1</td>\n      <td>0.0</td>\n      <td>2018-03-06 07:52:00</td>\n      <td>31</td>\n      <td>122.064516</td>\n      <td>119.0</td>\n      <td>17.699219</td>\n      <td>472.774194</td>\n      <td>346.0</td>\n      <td>751.079743</td>\n    </tr>\n    <tr>\n      <th>47</th>\n      <td>10433</td>\n      <td>1</td>\n      <td>0.0</td>\n      <td>2018-03-06 07:56:00</td>\n      <td>20</td>\n      <td>119.800000</td>\n      <td>118.0</td>\n      <td>14.841620</td>\n      <td>376.500000</td>\n      <td>384.0</td>\n      <td>65.349667</td>\n    </tr>\n    <tr>\n      <th>48</th>\n      <td>10433</td>\n      <td>1</td>\n      <td>0.0</td>\n      <td>2018-03-06 08:00:00</td>\n      <td>17</td>\n      <td>127.294118</td>\n      <td>117.0</td>\n      <td>23.502034</td>\n      <td>381.823529</td>\n      <td>369.0</td>\n      <td>147.876737</td>\n    </tr>\n    <tr>\n      <th>49</th>\n      <td>10433</td>\n      <td>1</td>\n      <td>0.0</td>\n      <td>2018-03-06 08:04:00</td>\n      <td>18</td>\n      <td>122.055556</td>\n      <td>120.5</td>\n      <td>14.509519</td>\n      <td>618.555556</td>\n      <td>363.0</td>\n      <td>1090.467586</td>\n    </tr>\n  </tbody>\n</table>\n</div>"
     },
     "metadata": {},
     "execution_count": 11
    }
   ],
   "source": [
    "df_agregado.head(50)"
   ]
  },
  {
   "cell_type": "code",
   "execution_count": 12,
   "metadata": {},
   "outputs": [
    {
     "output_type": "execute_result",
     "data": {
      "text/plain": [
       "datetime.date(2018, 3, 7)"
      ]
     },
     "metadata": {},
     "execution_count": 12
    }
   ],
   "source": [
    "df_agregado.Data.dt.date[6] + timedelta(days=1)"
   ]
  },
  {
   "cell_type": "code",
   "execution_count": 13,
   "metadata": {},
   "outputs": [
    {
     "output_type": "execute_result",
     "data": {
      "text/plain": [
       "([10433, 10531, 10500, 10595, 10761, 10482, 10488, 10557], 8)"
      ]
     },
     "metadata": {},
     "execution_count": 13
    }
   ],
   "source": [
    "list(set(df_agregado[\"Numero Agrupado\"])), len(list(set(df_agregado[\"Numero Agrupado\"])))"
   ]
  },
  {
   "cell_type": "code",
   "execution_count": 16,
   "metadata": {},
   "outputs": [
    {
     "output_type": "execute_result",
     "data": {
      "text/plain": [
       "([0.0, 1.0, 2.0, 3.0], 4)"
      ]
     },
     "metadata": {},
     "execution_count": 16
    }
   ],
   "source": [
    "list(set(df_agregado[\"Especie\"])), len(list(set(df_agregado[\"Especie\"])))"
   ]
  },
  {
   "cell_type": "code",
   "execution_count": 22,
   "metadata": {},
   "outputs": [
    {
     "output_type": "execute_result",
     "data": {
      "text/plain": [
       "([1, 2, 3, 4, 5], 5)"
      ]
     },
     "metadata": {},
     "execution_count": 22
    }
   ],
   "source": [
    "list(set(df_agregado[\"Faixa\"])), len(list(set(df_agregado[\"Faixa\"])))"
   ]
  },
  {
   "cell_type": "code",
   "execution_count": 23,
   "metadata": {},
   "outputs": [
    {
     "output_type": "stream",
     "name": "stdout",
     "text": [
      "como tem um dataframe para cada combinacao de radar/especia/faixa sao, no maximo, 160 subsets no dataframe\n'no maximo' por que combinacoes que nao tem dados, por exemplo: um radar de uma rua nao a 5a faixa \n"
     ]
    }
   ],
   "source": [
    "print(\"como tem um dataframe para cada combinacao de radar/especia/faixa sao, no maximo, {} subsets no dataframe\".format(8*5*4))\n",
    "\n",
    "print(\"'no maximo' por que combinacoes que nao tem dados, por exemplo: um radar de uma rua nao a 5a faixa \")"
   ]
  },
  {
   "source": [
    "### como tem um dataframe para cada combinacao de radar/especia/faixa sao, no maximo, 160 subsets no dataframe\n",
    "### 'no maximo' por que combinacoes que nao tem dados, por exemplo: um radar de uma rua nao a 5a faixa "
   ],
   "cell_type": "markdown",
   "metadata": {}
  },
  {
   "cell_type": "code",
   "execution_count": 24,
   "metadata": {},
   "outputs": [
    {
     "output_type": "execute_result",
     "data": {
      "text/plain": [
       "360.0"
      ]
     },
     "metadata": {},
     "execution_count": 24
    }
   ],
   "source": [
    "(24*60/4)"
   ]
  },
  {
   "cell_type": "code",
   "execution_count": 25,
   "metadata": {},
   "outputs": [
    {
     "output_type": "stream",
     "name": "stdout",
     "text": [
      "Wall time: 2.21 s\n"
     ]
    },
    {
     "output_type": "execute_result",
     "data": {
      "text/plain": [
       "                     Data  Numero Agrupado  Faixa  Especie  Volume  Vel_media  \\\n",
       "0     2018-03-06 00:00:00          10433.0    1.0      0.0     1.0      122.0   \n",
       "1     2018-03-06 00:04:00          10433.0    1.0      0.0     NaN        NaN   \n",
       "2     2018-03-06 00:08:00          10433.0    1.0      0.0     NaN        NaN   \n",
       "3     2018-03-06 00:12:00          10433.0    1.0      0.0     1.0      103.0   \n",
       "4     2018-03-06 00:16:00          10433.0    1.0      0.0     NaN        NaN   \n",
       "...                   ...              ...    ...      ...     ...        ...   \n",
       "44635 2018-03-06 23:40:00          10557.0    4.0      3.0     NaN        NaN   \n",
       "44636 2018-03-06 23:44:00          10557.0    4.0      3.0     NaN        NaN   \n",
       "44637 2018-03-06 23:48:00          10557.0    4.0      3.0     NaN        NaN   \n",
       "44638 2018-03-06 23:52:00          10557.0    4.0      3.0     NaN        NaN   \n",
       "44639 2018-03-06 23:56:00          10557.0    4.0      3.0     NaN        NaN   \n",
       "\n",
       "       Vel_mediana  Vel_desvpad  Ocu_media  Ocu_mediana  Ocu_desvpad  \n",
       "0            122.0          NaN      392.0        392.0          NaN  \n",
       "1              NaN          NaN        NaN          NaN          NaN  \n",
       "2              NaN          NaN        NaN          NaN          NaN  \n",
       "3            103.0          NaN      346.0        346.0          NaN  \n",
       "4              NaN          NaN        NaN          NaN          NaN  \n",
       "...            ...          ...        ...          ...          ...  \n",
       "44635          NaN          NaN        NaN          NaN          NaN  \n",
       "44636          NaN          NaN        NaN          NaN          NaN  \n",
       "44637          NaN          NaN        NaN          NaN          NaN  \n",
       "44638          NaN          NaN        NaN          NaN          NaN  \n",
       "44639          NaN          NaN        NaN          NaN          NaN  \n",
       "\n",
       "[44640 rows x 11 columns]"
      ],
      "text/html": "<div>\n<style scoped>\n    .dataframe tbody tr th:only-of-type {\n        vertical-align: middle;\n    }\n\n    .dataframe tbody tr th {\n        vertical-align: top;\n    }\n\n    .dataframe thead th {\n        text-align: right;\n    }\n</style>\n<table border=\"1\" class=\"dataframe\">\n  <thead>\n    <tr style=\"text-align: right;\">\n      <th></th>\n      <th>Data</th>\n      <th>Numero Agrupado</th>\n      <th>Faixa</th>\n      <th>Especie</th>\n      <th>Volume</th>\n      <th>Vel_media</th>\n      <th>Vel_mediana</th>\n      <th>Vel_desvpad</th>\n      <th>Ocu_media</th>\n      <th>Ocu_mediana</th>\n      <th>Ocu_desvpad</th>\n    </tr>\n  </thead>\n  <tbody>\n    <tr>\n      <th>0</th>\n      <td>2018-03-06 00:00:00</td>\n      <td>10433.0</td>\n      <td>1.0</td>\n      <td>0.0</td>\n      <td>1.0</td>\n      <td>122.0</td>\n      <td>122.0</td>\n      <td>NaN</td>\n      <td>392.0</td>\n      <td>392.0</td>\n      <td>NaN</td>\n    </tr>\n    <tr>\n      <th>1</th>\n      <td>2018-03-06 00:04:00</td>\n      <td>10433.0</td>\n      <td>1.0</td>\n      <td>0.0</td>\n      <td>NaN</td>\n      <td>NaN</td>\n      <td>NaN</td>\n      <td>NaN</td>\n      <td>NaN</td>\n      <td>NaN</td>\n      <td>NaN</td>\n    </tr>\n    <tr>\n      <th>2</th>\n      <td>2018-03-06 00:08:00</td>\n      <td>10433.0</td>\n      <td>1.0</td>\n      <td>0.0</td>\n      <td>NaN</td>\n      <td>NaN</td>\n      <td>NaN</td>\n      <td>NaN</td>\n      <td>NaN</td>\n      <td>NaN</td>\n      <td>NaN</td>\n    </tr>\n    <tr>\n      <th>3</th>\n      <td>2018-03-06 00:12:00</td>\n      <td>10433.0</td>\n      <td>1.0</td>\n      <td>0.0</td>\n      <td>1.0</td>\n      <td>103.0</td>\n      <td>103.0</td>\n      <td>NaN</td>\n      <td>346.0</td>\n      <td>346.0</td>\n      <td>NaN</td>\n    </tr>\n    <tr>\n      <th>4</th>\n      <td>2018-03-06 00:16:00</td>\n      <td>10433.0</td>\n      <td>1.0</td>\n      <td>0.0</td>\n      <td>NaN</td>\n      <td>NaN</td>\n      <td>NaN</td>\n      <td>NaN</td>\n      <td>NaN</td>\n      <td>NaN</td>\n      <td>NaN</td>\n    </tr>\n    <tr>\n      <th>...</th>\n      <td>...</td>\n      <td>...</td>\n      <td>...</td>\n      <td>...</td>\n      <td>...</td>\n      <td>...</td>\n      <td>...</td>\n      <td>...</td>\n      <td>...</td>\n      <td>...</td>\n      <td>...</td>\n    </tr>\n    <tr>\n      <th>44635</th>\n      <td>2018-03-06 23:40:00</td>\n      <td>10557.0</td>\n      <td>4.0</td>\n      <td>3.0</td>\n      <td>NaN</td>\n      <td>NaN</td>\n      <td>NaN</td>\n      <td>NaN</td>\n      <td>NaN</td>\n      <td>NaN</td>\n      <td>NaN</td>\n    </tr>\n    <tr>\n      <th>44636</th>\n      <td>2018-03-06 23:44:00</td>\n      <td>10557.0</td>\n      <td>4.0</td>\n      <td>3.0</td>\n      <td>NaN</td>\n      <td>NaN</td>\n      <td>NaN</td>\n      <td>NaN</td>\n      <td>NaN</td>\n      <td>NaN</td>\n      <td>NaN</td>\n    </tr>\n    <tr>\n      <th>44637</th>\n      <td>2018-03-06 23:48:00</td>\n      <td>10557.0</td>\n      <td>4.0</td>\n      <td>3.0</td>\n      <td>NaN</td>\n      <td>NaN</td>\n      <td>NaN</td>\n      <td>NaN</td>\n      <td>NaN</td>\n      <td>NaN</td>\n      <td>NaN</td>\n    </tr>\n    <tr>\n      <th>44638</th>\n      <td>2018-03-06 23:52:00</td>\n      <td>10557.0</td>\n      <td>4.0</td>\n      <td>3.0</td>\n      <td>NaN</td>\n      <td>NaN</td>\n      <td>NaN</td>\n      <td>NaN</td>\n      <td>NaN</td>\n      <td>NaN</td>\n      <td>NaN</td>\n    </tr>\n    <tr>\n      <th>44639</th>\n      <td>2018-03-06 23:56:00</td>\n      <td>10557.0</td>\n      <td>4.0</td>\n      <td>3.0</td>\n      <td>NaN</td>\n      <td>NaN</td>\n      <td>NaN</td>\n      <td>NaN</td>\n      <td>NaN</td>\n      <td>NaN</td>\n      <td>NaN</td>\n    </tr>\n  </tbody>\n</table>\n<p>44640 rows × 11 columns</p>\n</div>"
     },
     "metadata": {},
     "execution_count": 25
    }
   ],
   "source": [
    "%%time\n",
    "\n",
    "df_final = pd.DataFrame()\n",
    "\n",
    "\n",
    "df_reduzido = df_agregado.copy()\n",
    "\n",
    "\n",
    "for radar in list(set(df_agregado[\"Numero Agrupado\"])):#[ 10761]\n",
    "\n",
    "\n",
    "    for especie in list(set(df_reduzido[\"Especie\"])):#[1.0]\n",
    "\n",
    "\n",
    "        for faixa in list(set(df_reduzido[\"Faixa\"])):#[1]\n",
    "            # print(radar, especie, faixa)\n",
    "            \n",
    "            # faz um pequeno subset do df buscando criar uma configuração de radar, faixa e especie especifica\n",
    "            radar_especifico = df_reduzido.loc[(df_reduzido[\"Numero Agrupado\"] == radar)\n",
    "                                            &   (df_reduzido[\"Especie\"] == especie)\n",
    "                                            &   (df_reduzido[\"Faixa\"] == faixa)].sort_values(by=\"Data\").reset_index(drop=True)\n",
    "\n",
    "\n",
    "\n",
    "\n",
    "            df_aux = pd.DataFrame()\n",
    "\n",
    "            ## Esse try existe para caso uma determinada combinacao de radar/especie/faixa \n",
    "            ## nao exista no df\n",
    "            try:\n",
    "                # Coleta as datas do dataframe para criar o novo datetime index\n",
    "                dia_inicio = radar_especifico.Data.dt.date[1]\n",
    "                dia_fim = radar_especifico.Data.dt.date[1] + timedelta(days=1)\n",
    "\n",
    "                # cria o datetime index, com frequencia desejada\n",
    "                index_data = pd.date_range(dia_inicio, dia_fim, freq=\"4 min\", closed=\"left\") \n",
    "                df_aux[\"Data\"] = index_data\n",
    "\n",
    "                # Faz o merge dos dataframes auxiliar com o do radar especifico, respeitando o datetime index (left)\n",
    "                df_aux_1 = df_aux.merge(radar_especifico, on='Data', how=\"left\")\n",
    "\n",
    "\n",
    "\n",
    "                # o seguinte preenchimento deve ser feito apos as novas linhas de 4 minutos que\n",
    "                # que nao tem registros serem adicionadas, e \n",
    "                # somente nas colunas selecionadas, que sao as que sabemos os parametros\n",
    "\n",
    "                colunas_preenchiveis = [\"Numero Agrupado\",\"Faixa\",\"Especie\"]\n",
    "                df_aux_1[colunas_preenchiveis] = df_aux_1[colunas_preenchiveis].fillna(method=\"ffill\")\n",
    "                df_aux_1[colunas_preenchiveis] = df_aux_1[colunas_preenchiveis].fillna(method=\"bfill\")\n",
    "\n",
    "                df_final = pd.concat([df_final, df_aux_1])\n",
    "                df_final.reset_index(drop=True, inplace=True)\n",
    "\n",
    "            except:\n",
    "                pass\n",
    "\n",
    "\n",
    "df_final"
   ]
  },
  {
   "cell_type": "code",
   "execution_count": 26,
   "metadata": {},
   "outputs": [
    {
     "output_type": "execute_result",
     "data": {
      "text/plain": [
       "                   Data  Numero Agrupado  Faixa  Especie  Volume  Vel_media  \\\n",
       "359 2018-03-06 23:56:00          10433.0    1.0      0.0     NaN        NaN   \n",
       "360 2018-03-06 00:00:00          10433.0    2.0      0.0     NaN        NaN   \n",
       "361 2018-03-06 00:04:00          10433.0    2.0      0.0     NaN        NaN   \n",
       "362 2018-03-06 00:08:00          10433.0    2.0      0.0     NaN        NaN   \n",
       "363 2018-03-06 00:12:00          10433.0    2.0      0.0     NaN        NaN   \n",
       "..                  ...              ...    ...      ...     ...        ...   \n",
       "716 2018-03-06 23:44:00          10433.0    2.0      0.0     NaN        NaN   \n",
       "717 2018-03-06 23:48:00          10433.0    2.0      0.0     NaN        NaN   \n",
       "718 2018-03-06 23:52:00          10433.0    2.0      0.0     NaN        NaN   \n",
       "719 2018-03-06 23:56:00          10433.0    2.0      0.0     NaN        NaN   \n",
       "720 2018-03-06 00:00:00          10433.0    3.0      0.0     NaN        NaN   \n",
       "\n",
       "     Vel_mediana  Vel_desvpad  Ocu_media  Ocu_mediana  Ocu_desvpad  \n",
       "359          NaN          NaN        NaN          NaN          NaN  \n",
       "360          NaN          NaN        NaN          NaN          NaN  \n",
       "361          NaN          NaN        NaN          NaN          NaN  \n",
       "362          NaN          NaN        NaN          NaN          NaN  \n",
       "363          NaN          NaN        NaN          NaN          NaN  \n",
       "..           ...          ...        ...          ...          ...  \n",
       "716          NaN          NaN        NaN          NaN          NaN  \n",
       "717          NaN          NaN        NaN          NaN          NaN  \n",
       "718          NaN          NaN        NaN          NaN          NaN  \n",
       "719          NaN          NaN        NaN          NaN          NaN  \n",
       "720          NaN          NaN        NaN          NaN          NaN  \n",
       "\n",
       "[362 rows x 11 columns]"
      ],
      "text/html": "<div>\n<style scoped>\n    .dataframe tbody tr th:only-of-type {\n        vertical-align: middle;\n    }\n\n    .dataframe tbody tr th {\n        vertical-align: top;\n    }\n\n    .dataframe thead th {\n        text-align: right;\n    }\n</style>\n<table border=\"1\" class=\"dataframe\">\n  <thead>\n    <tr style=\"text-align: right;\">\n      <th></th>\n      <th>Data</th>\n      <th>Numero Agrupado</th>\n      <th>Faixa</th>\n      <th>Especie</th>\n      <th>Volume</th>\n      <th>Vel_media</th>\n      <th>Vel_mediana</th>\n      <th>Vel_desvpad</th>\n      <th>Ocu_media</th>\n      <th>Ocu_mediana</th>\n      <th>Ocu_desvpad</th>\n    </tr>\n  </thead>\n  <tbody>\n    <tr>\n      <th>359</th>\n      <td>2018-03-06 23:56:00</td>\n      <td>10433.0</td>\n      <td>1.0</td>\n      <td>0.0</td>\n      <td>NaN</td>\n      <td>NaN</td>\n      <td>NaN</td>\n      <td>NaN</td>\n      <td>NaN</td>\n      <td>NaN</td>\n      <td>NaN</td>\n    </tr>\n    <tr>\n      <th>360</th>\n      <td>2018-03-06 00:00:00</td>\n      <td>10433.0</td>\n      <td>2.0</td>\n      <td>0.0</td>\n      <td>NaN</td>\n      <td>NaN</td>\n      <td>NaN</td>\n      <td>NaN</td>\n      <td>NaN</td>\n      <td>NaN</td>\n      <td>NaN</td>\n    </tr>\n    <tr>\n      <th>361</th>\n      <td>2018-03-06 00:04:00</td>\n      <td>10433.0</td>\n      <td>2.0</td>\n      <td>0.0</td>\n      <td>NaN</td>\n      <td>NaN</td>\n      <td>NaN</td>\n      <td>NaN</td>\n      <td>NaN</td>\n      <td>NaN</td>\n      <td>NaN</td>\n    </tr>\n    <tr>\n      <th>362</th>\n      <td>2018-03-06 00:08:00</td>\n      <td>10433.0</td>\n      <td>2.0</td>\n      <td>0.0</td>\n      <td>NaN</td>\n      <td>NaN</td>\n      <td>NaN</td>\n      <td>NaN</td>\n      <td>NaN</td>\n      <td>NaN</td>\n      <td>NaN</td>\n    </tr>\n    <tr>\n      <th>363</th>\n      <td>2018-03-06 00:12:00</td>\n      <td>10433.0</td>\n      <td>2.0</td>\n      <td>0.0</td>\n      <td>NaN</td>\n      <td>NaN</td>\n      <td>NaN</td>\n      <td>NaN</td>\n      <td>NaN</td>\n      <td>NaN</td>\n      <td>NaN</td>\n    </tr>\n    <tr>\n      <th>...</th>\n      <td>...</td>\n      <td>...</td>\n      <td>...</td>\n      <td>...</td>\n      <td>...</td>\n      <td>...</td>\n      <td>...</td>\n      <td>...</td>\n      <td>...</td>\n      <td>...</td>\n      <td>...</td>\n    </tr>\n    <tr>\n      <th>716</th>\n      <td>2018-03-06 23:44:00</td>\n      <td>10433.0</td>\n      <td>2.0</td>\n      <td>0.0</td>\n      <td>NaN</td>\n      <td>NaN</td>\n      <td>NaN</td>\n      <td>NaN</td>\n      <td>NaN</td>\n      <td>NaN</td>\n      <td>NaN</td>\n    </tr>\n    <tr>\n      <th>717</th>\n      <td>2018-03-06 23:48:00</td>\n      <td>10433.0</td>\n      <td>2.0</td>\n      <td>0.0</td>\n      <td>NaN</td>\n      <td>NaN</td>\n      <td>NaN</td>\n      <td>NaN</td>\n      <td>NaN</td>\n      <td>NaN</td>\n      <td>NaN</td>\n    </tr>\n    <tr>\n      <th>718</th>\n      <td>2018-03-06 23:52:00</td>\n      <td>10433.0</td>\n      <td>2.0</td>\n      <td>0.0</td>\n      <td>NaN</td>\n      <td>NaN</td>\n      <td>NaN</td>\n      <td>NaN</td>\n      <td>NaN</td>\n      <td>NaN</td>\n      <td>NaN</td>\n    </tr>\n    <tr>\n      <th>719</th>\n      <td>2018-03-06 23:56:00</td>\n      <td>10433.0</td>\n      <td>2.0</td>\n      <td>0.0</td>\n      <td>NaN</td>\n      <td>NaN</td>\n      <td>NaN</td>\n      <td>NaN</td>\n      <td>NaN</td>\n      <td>NaN</td>\n      <td>NaN</td>\n    </tr>\n    <tr>\n      <th>720</th>\n      <td>2018-03-06 00:00:00</td>\n      <td>10433.0</td>\n      <td>3.0</td>\n      <td>0.0</td>\n      <td>NaN</td>\n      <td>NaN</td>\n      <td>NaN</td>\n      <td>NaN</td>\n      <td>NaN</td>\n      <td>NaN</td>\n      <td>NaN</td>\n    </tr>\n  </tbody>\n</table>\n<p>362 rows × 11 columns</p>\n</div>"
     },
     "metadata": {},
     "execution_count": 26
    }
   ],
   "source": [
    "df_final.iloc[359:721]"
   ]
  },
  {
   "cell_type": "code",
   "execution_count": 27,
   "metadata": {},
   "outputs": [
    {
     "output_type": "execute_result",
     "data": {
      "text/plain": [
       "124.0"
      ]
     },
     "metadata": {},
     "execution_count": 27
    }
   ],
   "source": [
    "df_final.shape[0]/360"
   ]
  },
  {
   "source": [
    "### Portanto, dos 160 subsets possiveis, somente 124 estao presentes"
   ],
   "cell_type": "markdown",
   "metadata": {}
  },
  {
   "cell_type": "code",
   "execution_count": 28,
   "metadata": {},
   "outputs": [],
   "source": [
    "tercas = [\"6\",\"13\",\"20\",\"27\"]\n",
    "quartas = [\"7\",\"14\",\"21\",\"28\"]\n",
    "quintas = [\"1\",\"8\",\"15\",\"22\",\"29\"]"
   ]
  },
  {
   "cell_type": "code",
   "execution_count": 30,
   "metadata": {},
   "outputs": [
    {
     "output_type": "stream",
     "name": "stdout",
     "text": [
      "reading into     ../../Dados_CET/tercas-quartas-quintas-selecionados/tercas/6_selecionado.csv\n",
      "\n",
      "Saving to    ../../Dados_CET/tercas-quartas-quintas-selecionados/tercas-agrupado/6_agrupado.csv\n",
      "-0.0060570000005100155\n",
      "\n",
      "\n",
      "\n",
      "reading into     ../../Dados_CET/tercas-quartas-quintas-selecionados/tercas/13_selecionado.csv\n",
      "\n",
      "Saving to    ../../Dados_CET/tercas-quartas-quintas-selecionados/tercas-agrupado/13_agrupado.csv\n",
      "-0.003229500000088592\n",
      "\n",
      "\n",
      "\n",
      "reading into     ../../Dados_CET/tercas-quartas-quintas-selecionados/tercas/20_selecionado.csv\n",
      "\n",
      "Saving to    ../../Dados_CET/tercas-quartas-quintas-selecionados/tercas-agrupado/20_agrupado.csv\n",
      "0.017152599999462836\n",
      "\n",
      "\n",
      "\n",
      "reading into     ../../Dados_CET/tercas-quartas-quintas-selecionados/tercas/27_selecionado.csv\n",
      "\n",
      "Saving to    ../../Dados_CET/tercas-quartas-quintas-selecionados/tercas-agrupado/27_agrupado.csv\n",
      "-0.004349599998022313\n",
      "\n",
      "\n",
      "\n",
      "reading into     ../../Dados_CET/tercas-quartas-quintas-selecionados/quartas/7_selecionado.csv\n",
      "\n",
      "Saving to    ../../Dados_CET/tercas-quartas-quintas-selecionados/quartas-agrupado/7_agrupado.csv\n",
      "0.019119100001262268\n",
      "\n",
      "\n",
      "\n",
      "reading into     ../../Dados_CET/tercas-quartas-quintas-selecionados/quartas/14_selecionado.csv\n",
      "\n",
      "Saving to    ../../Dados_CET/tercas-quartas-quintas-selecionados/quartas-agrupado/14_agrupado.csv\n",
      "0.019535699999323697\n",
      "\n",
      "\n",
      "\n",
      "reading into     ../../Dados_CET/tercas-quartas-quintas-selecionados/quartas/21_selecionado.csv\n",
      "\n",
      "Saving to    ../../Dados_CET/tercas-quartas-quintas-selecionados/quartas-agrupado/21_agrupado.csv\n",
      "-0.016605700000582146\n",
      "\n",
      "\n",
      "\n",
      "reading into     ../../Dados_CET/tercas-quartas-quintas-selecionados/quartas/28_selecionado.csv\n",
      "\n",
      "Saving to    ../../Dados_CET/tercas-quartas-quintas-selecionados/quartas-agrupado/28_agrupado.csv\n",
      "0.006593900001462316\n",
      "\n",
      "\n",
      "\n",
      "reading into     ../../Dados_CET/tercas-quartas-quintas-selecionados/quintas/1_selecionado.csv\n",
      "\n",
      "Saving to    ../../Dados_CET/tercas-quartas-quintas-selecionados/quintas-agrupado/1_agrupado.csv\n",
      "-0.0017649000001256354\n",
      "\n",
      "\n",
      "\n",
      "reading into     ../../Dados_CET/tercas-quartas-quintas-selecionados/quintas/8_selecionado.csv\n",
      "\n",
      "Saving to    ../../Dados_CET/tercas-quartas-quintas-selecionados/quintas-agrupado/8_agrupado.csv\n",
      "-0.0027870000012626406\n",
      "\n",
      "\n",
      "\n",
      "reading into     ../../Dados_CET/tercas-quartas-quintas-selecionados/quintas/15_selecionado.csv\n",
      "\n",
      "Saving to    ../../Dados_CET/tercas-quartas-quintas-selecionados/quintas-agrupado/15_agrupado.csv\n",
      "0.021976600000925828\n",
      "\n",
      "\n",
      "\n",
      "reading into     ../../Dados_CET/tercas-quartas-quintas-selecionados/quintas/22_selecionado.csv\n",
      "\n",
      "Saving to    ../../Dados_CET/tercas-quartas-quintas-selecionados/quintas-agrupado/22_agrupado.csv\n",
      "0.014039300000149524\n",
      "\n",
      "\n",
      "\n",
      "reading into     ../../Dados_CET/tercas-quartas-quintas-selecionados/quintas/29_selecionado.csv\n",
      "\n",
      "Saving to    ../../Dados_CET/tercas-quartas-quintas-selecionados/quintas-agrupado/29_agrupado.csv\n",
      "0.0027329000004101545\n",
      "\n",
      "\n",
      "\n",
      "Wall time: 1min 3s\n"
     ]
    }
   ],
   "source": [
    "%%time\n",
    "\n",
    "\n",
    "for i,DOW in enumerate([    (\"tercas\", tercas),\n",
    "                            (\"quartas\", quartas),\n",
    "                            (\"quintas\", quintas)     ]):\n",
    "    # print(i, DOW)\n",
    "\n",
    "    for day in DOW[1]:\n",
    "        # print(day) ## day is a string\n",
    "        start = timeit.timeit()\n",
    "\n",
    "        # new_df = pd.read_csv(\"../../Dados_CET/Marco_2018_nAg/\"+ day +\"_nAg.csv\", index_col=\"Unnamed: 0\")\n",
    "        print(\"reading into     \" + \"../../Dados_CET/tercas-quartas-quintas-selecionados/\"+ DOW[0] + \"/\" + day +\"_selecionado.csv\")\n",
    "\n",
    "        # print(\"../../Dados_CET/Marco_2018_nAg/\"+ day +\"_nAg.csv\")\n",
    "        df = pd.read_csv(\"../../Dados_CET/tercas-quartas-quintas-selecionados/\"+ DOW[0] + \"/\" + day +\"_selecionado.csv\")\n",
    "\n",
    "\n",
    "        # print(\"../../Dados_CET/tercas-quartas-quintas-selecionados/\"+ DOW[0] + \"/\" + day +\"_selecionado.csv\")\n",
    "        # df_selected = df[df[\"Numero Agrupado\"].isin(radares)].reset_index(drop=True)\n",
    "\n",
    "        df[\"Data\"] = pd.to_datetime(df[\"Data\"],format='%Y-%m-%d %H:%M:%S', errors='coerce')\n",
    "\n",
    "\n",
    "        df_base = df.copy()\n",
    "\n",
    "\n",
    "        # limpa a ocupacao\n",
    "        df_base.drop(df_base.loc[df_base['Ocupacao'] =='     ','Ocupacao'].index, inplace=True)\n",
    "        df_base.Ocupacao = df_base.Ocupacao.astype(float)\n",
    "\n",
    "        #dropa vazios\n",
    "        df_base.drop(df_base.loc[df_base['Velocidade'] =='   ','Velocidade'].index, inplace=True)\n",
    "\n",
    "        #dropa não válidos (nan)\n",
    "        df_base.loc[:,'Velocidade'].dropna(inplace=True)\n",
    "\n",
    "        #coloca tudo no mesmo formato de dado int\n",
    "        df_base.loc[:,'Velocidade'] = pd.to_numeric(df_base.loc[:,'Velocidade'])\n",
    "\n",
    "        # colocar faixa no formato int\n",
    "        df_base.loc[:,'Faixa'] = pd.to_numeric(df_base.loc[:,'Faixa'])\n",
    "\n",
    "        # colocar Especie no formato int\n",
    "        df_base.loc[:,'Especie'] = pd.to_numeric(df_base.loc[:,'Especie'])\n",
    "\n",
    "        ###### Numero Agrupado é uma int\n",
    "\n",
    "        df_base.reset_index(drop=True,inplace=True)\n",
    "\n",
    "\n",
    "        df_agregado = df_base.copy()\n",
    "\n",
    "        df_agregado.loc[:,'V1'] = df_agregado.loc[:,'Velocidade'].copy()\n",
    "        df_agregado.loc[:,'V2'] = df_agregado.loc[:,'Velocidade'].copy()\n",
    "        df_agregado.loc[:,'Oc1'] = df_agregado.loc[:,'Ocupacao'].copy()\n",
    "        df_agregado.loc[:,'Oc2'] = df_agregado.loc[:,'Ocupacao'].copy()\n",
    "\n",
    "\n",
    "\n",
    "        df_agregado = df_agregado.groupby(['Numero Agrupado',\"Faixa\",'Especie',pd.Grouper(key='Data', freq='4Min')]).agg(\n",
    "                                                                                {\"Registro\": \"count\",\n",
    "                                                                                'Velocidade': 'mean',\n",
    "                                                                                'V1':'median',\n",
    "                                                                                'V2':'std',\n",
    "                                                                                'Ocupacao':'mean',\n",
    "                                                                                'Oc1':'median',\n",
    "                                                                                'Oc2':'std',\n",
    "                                                                                })\n",
    "        df_agregado.columns=[\n",
    "                    \"Volume\",\n",
    "                    'Vel_media',\n",
    "                    'Vel_mediana',\n",
    "                    'Vel_desvpad',\n",
    "                    'Ocu_media',\n",
    "                    'Ocu_mediana',\n",
    "                    'Ocu_desvpad'\n",
    "                    ] # Renomeia\n",
    "\n",
    "        df_agregado.reset_index(inplace=True)\n",
    "\n",
    "\n",
    "\n",
    "\n",
    "        df_final = pd.DataFrame()\n",
    "\n",
    "\n",
    "        df_reduzido = df_agregado.copy()\n",
    "\n",
    "\n",
    "        for radar in list(set(df_reduzido[\"Numero Agrupado\"])):#[ 10761]\n",
    "\n",
    "\n",
    "            for especie in list(set(df_reduzido[\"Especie\"])):#[1.0]\n",
    "\n",
    "\n",
    "                for faixa in list(set(df_reduzido[\"Faixa\"])):#[1]\n",
    "                    # print(radar, especie, faixa)\n",
    "                    \n",
    "                    # faz um pequeno subset do df buscando criar uma configuração de radar, faixa e especie especifica\n",
    "                    radar_especifico = df_reduzido.loc[(df_reduzido[\"Numero Agrupado\"] == radar)\n",
    "                                                    &   (df_reduzido[\"Especie\"] == especie)\n",
    "                                                    &   (df_reduzido[\"Faixa\"] == faixa)].sort_values(by=\"Data\").reset_index(drop=True)\n",
    "\n",
    "\n",
    "\n",
    "\n",
    "                    df_aux = pd.DataFrame()\n",
    "\n",
    "                    ## Esse try existe para caso uma determinada combinacao de radar/especie/faixa \n",
    "                    ## nao exista no df\n",
    "                    try:\n",
    "                        # Coleta as datas do dataframe para criar o novo datetime index\n",
    "                        dia_inicio = radar_especifico.Data.dt.date[1]\n",
    "                        dia_fim = radar_especifico.Data.dt.date[1] + timedelta(days=1)\n",
    "\n",
    "                        # cria o datetime index, com frequencia desejada\n",
    "                        index_data = pd.date_range(dia_inicio, dia_fim, freq=\"4 min\", closed=\"left\") \n",
    "                        df_aux[\"Data\"] = index_data\n",
    "\n",
    "                        # Faz o merge dos dataframes auxiliar com o do radar especifico, respeitando o datetime index (left)\n",
    "                        df_aux_1 = df_aux.merge(radar_especifico, on='Data', how=\"left\")\n",
    "\n",
    "\n",
    "\n",
    "                        # o seguinte preenchimento deve ser feito apos as novas linhas de 4 minutos que\n",
    "                        # que nao tem registros serem adicionadas, e \n",
    "                        # somente nas colunas selecionadas, que sao as que sabemos os parametros\n",
    "\n",
    "                        colunas_preenchiveis = [\"Numero Agrupado\",\"Faixa\",\"Especie\"]\n",
    "                        df_aux_1[colunas_preenchiveis] = df_aux_1[colunas_preenchiveis].fillna(method=\"ffill\")\n",
    "                        df_aux_1[colunas_preenchiveis] = df_aux_1[colunas_preenchiveis].fillna(method=\"bfill\")\n",
    "\n",
    "                        df_final = pd.concat([df_final, df_aux_1])\n",
    "                        df_final.reset_index(drop=True, inplace=True)\n",
    "\n",
    "                    except:\n",
    "                        pass\n",
    "\n",
    "\n",
    "\n",
    "\n",
    "\n",
    "\n",
    "        print()\n",
    "        print(\"Saving to    \" + \"../../Dados_CET/tercas-quartas-quintas-selecionados/\"+ DOW[0] + \"-agrupado/\" + day +\"_agrupado.csv\")\n",
    "\n",
    "        df_final.to_csv(\"../../Dados_CET/tercas-quartas-quintas-selecionados/\"+ DOW[0] + \"-agrupado/\" + day +\"_agrupado.csv\")\n",
    "\n",
    "        end = timeit.timeit()\n",
    "        print(end - start)\n",
    "\n",
    "        print()\n",
    "        print()\n",
    "        print()\n"
   ]
  },
  {
   "cell_type": "code",
   "execution_count": null,
   "metadata": {},
   "outputs": [],
   "source": []
  }
 ]
}